{
 "cells": [
  {
   "cell_type": "markdown",
   "metadata": {},
   "source": [
    "# Submission 2: LGBM (plain optuna tuned model)"
   ]
  },
  {
   "cell_type": "code",
   "execution_count": 1,
   "metadata": {},
   "outputs": [
    {
     "data": {
      "text/html": [
       "        <script type=\"text/javascript\">\n",
       "        window.PlotlyConfig = {MathJaxConfig: 'local'};\n",
       "        if (window.MathJax) {MathJax.Hub.Config({SVG: {font: \"STIX-Web\"}});}\n",
       "        if (typeof require !== 'undefined') {\n",
       "        require.undef(\"plotly\");\n",
       "        requirejs.config({\n",
       "            paths: {\n",
       "                'plotly': ['https://cdn.plot.ly/plotly-latest.min']\n",
       "            }\n",
       "        });\n",
       "        require(['plotly'], function(Plotly) {\n",
       "            window._Plotly = Plotly;\n",
       "        });\n",
       "        }\n",
       "        </script>\n",
       "        "
      ]
     },
     "metadata": {},
     "output_type": "display_data"
    },
    {
     "data": {
      "text/html": [
       "        <script type=\"text/javascript\">\n",
       "        window.PlotlyConfig = {MathJaxConfig: 'local'};\n",
       "        if (window.MathJax) {MathJax.Hub.Config({SVG: {font: \"STIX-Web\"}});}\n",
       "        if (typeof require !== 'undefined') {\n",
       "        require.undef(\"plotly\");\n",
       "        requirejs.config({\n",
       "            paths: {\n",
       "                'plotly': ['https://cdn.plot.ly/plotly-latest.min']\n",
       "            }\n",
       "        });\n",
       "        require(['plotly'], function(Plotly) {\n",
       "            window._Plotly = Plotly;\n",
       "        });\n",
       "        }\n",
       "        </script>\n",
       "        "
      ]
     },
     "metadata": {},
     "output_type": "display_data"
    },
    {
     "data": {
      "text/html": [
       "        <script type=\"text/javascript\">\n",
       "        window.PlotlyConfig = {MathJaxConfig: 'local'};\n",
       "        if (window.MathJax) {MathJax.Hub.Config({SVG: {font: \"STIX-Web\"}});}\n",
       "        if (typeof require !== 'undefined') {\n",
       "        require.undef(\"plotly\");\n",
       "        requirejs.config({\n",
       "            paths: {\n",
       "                'plotly': ['https://cdn.plot.ly/plotly-latest.min']\n",
       "            }\n",
       "        });\n",
       "        require(['plotly'], function(Plotly) {\n",
       "            window._Plotly = Plotly;\n",
       "        });\n",
       "        }\n",
       "        </script>\n",
       "        "
      ]
     },
     "metadata": {},
     "output_type": "display_data"
    }
   ],
   "source": [
    "# fundamentals\n",
    "import matplotlib.pyplot as plt\n",
    "import seaborn as sns \n",
    "import pandas as pd \n",
    "import numpy as np\n",
    "import scipy\n",
    "import math\n",
    "\n",
    "# data exploration \n",
    "from pandas_profiling import ProfileReport\n",
    "import cufflinks as cf\n",
    "cf.go_offline()\n",
    "cf.set_config_file(offline=True, world_readable=True)\n",
    "from plotly.offline import iplot\n",
    "\n",
    "# data preprocessing \n",
    "from sklearn.model_selection import train_test_split, GridSearchCV, cross_val_score, KFold\n",
    "from sklearn.preprocessing import OneHotEncoder, OrdinalEncoder, StandardScaler, PowerTransformer, MinMaxScaler\n",
    "from sklearn.preprocessing import KBinsDiscretizer\n",
    "from sklearn.compose import ColumnTransformer\n",
    "from sklearn.decomposition import PCA\n",
    "from sklearn.impute import SimpleImputer\n",
    "from imblearn.pipeline import Pipeline\n",
    "from imblearn.over_sampling import SMOTE\n",
    "import warnings\n",
    "from statsmodels.stats.outliers_influence import variance_inflation_factor\n",
    "import statsmodels.api as sm\n",
    "\n",
    "\n",
    "# regressors\n",
    "from sklearn.linear_model import LinearRegression, SGDRegressor\n",
    "from sklearn.tree import DecisionTreeRegressor\n",
    "from sklearn.ensemble import RandomForestRegressor\n",
    "from sklearn.svm import LinearSVR, SVR\n",
    "\n",
    "import xgboost as xgb \n",
    "import catboost as cb\n",
    "import lightgbm as lgb\n",
    "\n",
    "from tensorflow.keras.models import Sequential \n",
    "from tensorflow.keras.layers import Dense, Dropout\n",
    "from tensorflow.keras.wrappers.scikit_learn import KerasRegressor\n",
    "\n",
    "# metrics for evaluation\n",
    "from sklearn.metrics import mean_squared_error\n",
    "from scipy import stats\n",
    "\n",
    "# saving parameters\n",
    "from joblib import dump, load\n",
    "\n",
    "# hyperparameter searching and tuning \n",
    "import optuna\n",
    "import tqdm"
   ]
  },
  {
   "cell_type": "code",
   "execution_count": 2,
   "metadata": {},
   "outputs": [],
   "source": [
    "#fixing random seed for repoducability\n",
    "import random\n",
    "\n",
    "random.seed(0)\n",
    "np.random.seed(0)"
   ]
  },
  {
   "cell_type": "code",
   "execution_count": 3,
   "metadata": {},
   "outputs": [],
   "source": [
    "original_df = pd.read_csv('train.csv', index_col = 'id')"
   ]
  },
  {
   "cell_type": "code",
   "execution_count": 4,
   "metadata": {},
   "outputs": [],
   "source": [
    "categorical_col = ['cat0','cat1','cat2','cat3', 'cat4', 'cat5', 'cat6', 'cat7', 'cat8', 'cat9']"
   ]
  },
  {
   "cell_type": "code",
   "execution_count": 5,
   "metadata": {},
   "outputs": [],
   "source": [
    "X_train = original_df.drop(columns = 'target', axis =1)\n",
    "Y_train = original_df['target']"
   ]
  },
  {
   "cell_type": "code",
   "execution_count": 6,
   "metadata": {},
   "outputs": [
    {
     "data": {
      "text/html": [
       "<div>\n",
       "<style scoped>\n",
       "    .dataframe tbody tr th:only-of-type {\n",
       "        vertical-align: middle;\n",
       "    }\n",
       "\n",
       "    .dataframe tbody tr th {\n",
       "        vertical-align: top;\n",
       "    }\n",
       "\n",
       "    .dataframe thead th {\n",
       "        text-align: right;\n",
       "    }\n",
       "</style>\n",
       "<table border=\"1\" class=\"dataframe\">\n",
       "  <thead>\n",
       "    <tr style=\"text-align: right;\">\n",
       "      <th></th>\n",
       "      <th>cat0</th>\n",
       "      <th>cat1</th>\n",
       "      <th>cat2</th>\n",
       "      <th>cat3</th>\n",
       "      <th>cat4</th>\n",
       "      <th>cat5</th>\n",
       "      <th>cat6</th>\n",
       "      <th>cat7</th>\n",
       "      <th>cat8</th>\n",
       "      <th>cat9</th>\n",
       "      <th>...</th>\n",
       "      <th>cont4</th>\n",
       "      <th>cont5</th>\n",
       "      <th>cont6</th>\n",
       "      <th>cont7</th>\n",
       "      <th>cont8</th>\n",
       "      <th>cont9</th>\n",
       "      <th>cont10</th>\n",
       "      <th>cont11</th>\n",
       "      <th>cont12</th>\n",
       "      <th>cont13</th>\n",
       "    </tr>\n",
       "    <tr>\n",
       "      <th>id</th>\n",
       "      <th></th>\n",
       "      <th></th>\n",
       "      <th></th>\n",
       "      <th></th>\n",
       "      <th></th>\n",
       "      <th></th>\n",
       "      <th></th>\n",
       "      <th></th>\n",
       "      <th></th>\n",
       "      <th></th>\n",
       "      <th></th>\n",
       "      <th></th>\n",
       "      <th></th>\n",
       "      <th></th>\n",
       "      <th></th>\n",
       "      <th></th>\n",
       "      <th></th>\n",
       "      <th></th>\n",
       "      <th></th>\n",
       "      <th></th>\n",
       "      <th></th>\n",
       "    </tr>\n",
       "  </thead>\n",
       "  <tbody>\n",
       "    <tr>\n",
       "      <th>1</th>\n",
       "      <td>A</td>\n",
       "      <td>B</td>\n",
       "      <td>A</td>\n",
       "      <td>A</td>\n",
       "      <td>B</td>\n",
       "      <td>D</td>\n",
       "      <td>A</td>\n",
       "      <td>E</td>\n",
       "      <td>C</td>\n",
       "      <td>I</td>\n",
       "      <td>...</td>\n",
       "      <td>0.281421</td>\n",
       "      <td>0.881122</td>\n",
       "      <td>0.421650</td>\n",
       "      <td>0.741413</td>\n",
       "      <td>0.895799</td>\n",
       "      <td>0.802461</td>\n",
       "      <td>0.724417</td>\n",
       "      <td>0.701915</td>\n",
       "      <td>0.877618</td>\n",
       "      <td>0.719903</td>\n",
       "    </tr>\n",
       "    <tr>\n",
       "      <th>2</th>\n",
       "      <td>B</td>\n",
       "      <td>A</td>\n",
       "      <td>A</td>\n",
       "      <td>A</td>\n",
       "      <td>B</td>\n",
       "      <td>B</td>\n",
       "      <td>A</td>\n",
       "      <td>E</td>\n",
       "      <td>A</td>\n",
       "      <td>F</td>\n",
       "      <td>...</td>\n",
       "      <td>0.282354</td>\n",
       "      <td>0.440011</td>\n",
       "      <td>0.346230</td>\n",
       "      <td>0.278495</td>\n",
       "      <td>0.593413</td>\n",
       "      <td>0.546056</td>\n",
       "      <td>0.613252</td>\n",
       "      <td>0.741289</td>\n",
       "      <td>0.326679</td>\n",
       "      <td>0.808464</td>\n",
       "    </tr>\n",
       "    <tr>\n",
       "      <th>3</th>\n",
       "      <td>A</td>\n",
       "      <td>A</td>\n",
       "      <td>A</td>\n",
       "      <td>C</td>\n",
       "      <td>B</td>\n",
       "      <td>D</td>\n",
       "      <td>A</td>\n",
       "      <td>B</td>\n",
       "      <td>C</td>\n",
       "      <td>N</td>\n",
       "      <td>...</td>\n",
       "      <td>0.293756</td>\n",
       "      <td>0.914155</td>\n",
       "      <td>0.369602</td>\n",
       "      <td>0.832564</td>\n",
       "      <td>0.865620</td>\n",
       "      <td>0.825251</td>\n",
       "      <td>0.264104</td>\n",
       "      <td>0.695561</td>\n",
       "      <td>0.869133</td>\n",
       "      <td>0.828352</td>\n",
       "    </tr>\n",
       "    <tr>\n",
       "      <th>4</th>\n",
       "      <td>A</td>\n",
       "      <td>A</td>\n",
       "      <td>A</td>\n",
       "      <td>C</td>\n",
       "      <td>B</td>\n",
       "      <td>D</td>\n",
       "      <td>A</td>\n",
       "      <td>E</td>\n",
       "      <td>G</td>\n",
       "      <td>K</td>\n",
       "      <td>...</td>\n",
       "      <td>0.769785</td>\n",
       "      <td>0.934138</td>\n",
       "      <td>0.578930</td>\n",
       "      <td>0.407313</td>\n",
       "      <td>0.868099</td>\n",
       "      <td>0.794402</td>\n",
       "      <td>0.494269</td>\n",
       "      <td>0.698125</td>\n",
       "      <td>0.809799</td>\n",
       "      <td>0.614766</td>\n",
       "    </tr>\n",
       "    <tr>\n",
       "      <th>6</th>\n",
       "      <td>A</td>\n",
       "      <td>B</td>\n",
       "      <td>A</td>\n",
       "      <td>A</td>\n",
       "      <td>B</td>\n",
       "      <td>B</td>\n",
       "      <td>A</td>\n",
       "      <td>E</td>\n",
       "      <td>C</td>\n",
       "      <td>F</td>\n",
       "      <td>...</td>\n",
       "      <td>0.279105</td>\n",
       "      <td>0.382600</td>\n",
       "      <td>0.705940</td>\n",
       "      <td>0.325193</td>\n",
       "      <td>0.440967</td>\n",
       "      <td>0.462146</td>\n",
       "      <td>0.724447</td>\n",
       "      <td>0.683073</td>\n",
       "      <td>0.343457</td>\n",
       "      <td>0.297743</td>\n",
       "    </tr>\n",
       "  </tbody>\n",
       "</table>\n",
       "<p>5 rows × 24 columns</p>\n",
       "</div>"
      ],
      "text/plain": [
       "   cat0 cat1 cat2 cat3 cat4 cat5 cat6 cat7 cat8 cat9  ...     cont4     cont5  \\\n",
       "id                                                    ...                       \n",
       "1     A    B    A    A    B    D    A    E    C    I  ...  0.281421  0.881122   \n",
       "2     B    A    A    A    B    B    A    E    A    F  ...  0.282354  0.440011   \n",
       "3     A    A    A    C    B    D    A    B    C    N  ...  0.293756  0.914155   \n",
       "4     A    A    A    C    B    D    A    E    G    K  ...  0.769785  0.934138   \n",
       "6     A    B    A    A    B    B    A    E    C    F  ...  0.279105  0.382600   \n",
       "\n",
       "       cont6     cont7     cont8     cont9    cont10    cont11    cont12  \\\n",
       "id                                                                         \n",
       "1   0.421650  0.741413  0.895799  0.802461  0.724417  0.701915  0.877618   \n",
       "2   0.346230  0.278495  0.593413  0.546056  0.613252  0.741289  0.326679   \n",
       "3   0.369602  0.832564  0.865620  0.825251  0.264104  0.695561  0.869133   \n",
       "4   0.578930  0.407313  0.868099  0.794402  0.494269  0.698125  0.809799   \n",
       "6   0.705940  0.325193  0.440967  0.462146  0.724447  0.683073  0.343457   \n",
       "\n",
       "      cont13  \n",
       "id            \n",
       "1   0.719903  \n",
       "2   0.808464  \n",
       "3   0.828352  \n",
       "4   0.614766  \n",
       "6   0.297743  \n",
       "\n",
       "[5 rows x 24 columns]"
      ]
     },
     "execution_count": 6,
     "metadata": {},
     "output_type": "execute_result"
    }
   ],
   "source": [
    "X_train.head()"
   ]
  },
  {
   "cell_type": "code",
   "execution_count": 7,
   "metadata": {},
   "outputs": [
    {
     "data": {
      "text/plain": [
       "Index(['cat0', 'cat1', 'cat2', 'cat3', 'cat4', 'cat5', 'cat6', 'cat7', 'cat8',\n",
       "       'cat9', 'cont0', 'cont1', 'cont2', 'cont3', 'cont4', 'cont5', 'cont6',\n",
       "       'cont7', 'cont8', 'cont9', 'cont10', 'cont11', 'cont12', 'cont13'],\n",
       "      dtype='object')"
      ]
     },
     "execution_count": 7,
     "metadata": {},
     "output_type": "execute_result"
    }
   ],
   "source": [
    "X_train.columns"
   ]
  },
  {
   "cell_type": "code",
   "execution_count": 8,
   "metadata": {},
   "outputs": [
    {
     "data": {
      "text/plain": [
       "Index(['cat0', 'cat1', 'cat2', 'cat3', 'cat4', 'cat5', 'cat6', 'cat7', 'cat8',\n",
       "       'cat9'],\n",
       "      dtype='object')"
      ]
     },
     "execution_count": 8,
     "metadata": {},
     "output_type": "execute_result"
    }
   ],
   "source": [
    "X_train.columns[0:10]"
   ]
  },
  {
   "cell_type": "code",
   "execution_count": 9,
   "metadata": {},
   "outputs": [],
   "source": [
    "cat_features = ['cat0', 'cat1', 'cat2', 'cat3', 'cat4', 'cat5', 'cat6', 'cat7', 'cat8',\n",
    "       'cat9']"
   ]
  },
  {
   "cell_type": "code",
   "execution_count": 10,
   "metadata": {},
   "outputs": [
    {
     "ename": "NameError",
     "evalue": "name 'X_val' is not defined",
     "output_type": "error",
     "traceback": [
      "\u001b[1;31m---------------------------------------------------------------------------\u001b[0m",
      "\u001b[1;31mNameError\u001b[0m                                 Traceback (most recent call last)",
      "\u001b[1;32m<ipython-input-10-7989fb8cdba8>\u001b[0m in \u001b[0;36m<module>\u001b[1;34m\u001b[0m\n\u001b[1;32m----> 1\u001b[1;33m \u001b[1;32mfor\u001b[0m \u001b[0mtable\u001b[0m \u001b[1;32min\u001b[0m \u001b[1;33m[\u001b[0m\u001b[0mX_train\u001b[0m\u001b[1;33m,\u001b[0m \u001b[0mX_val\u001b[0m\u001b[1;33m]\u001b[0m\u001b[1;33m:\u001b[0m\u001b[1;33m\u001b[0m\u001b[1;33m\u001b[0m\u001b[0m\n\u001b[0m\u001b[0;32m      2\u001b[0m     \u001b[1;32mfor\u001b[0m \u001b[0mfeature\u001b[0m \u001b[1;32min\u001b[0m \u001b[0mtable\u001b[0m\u001b[1;33m.\u001b[0m\u001b[0mcolumns\u001b[0m\u001b[1;33m[\u001b[0m\u001b[1;36m0\u001b[0m\u001b[1;33m:\u001b[0m\u001b[1;36m10\u001b[0m\u001b[1;33m]\u001b[0m\u001b[1;33m:\u001b[0m\u001b[1;33m\u001b[0m\u001b[1;33m\u001b[0m\u001b[0m\n\u001b[0;32m      3\u001b[0m         \u001b[0mtable\u001b[0m\u001b[1;33m[\u001b[0m\u001b[0mfeature\u001b[0m\u001b[1;33m]\u001b[0m \u001b[1;33m=\u001b[0m \u001b[0mtable\u001b[0m\u001b[1;33m[\u001b[0m\u001b[0mfeature\u001b[0m\u001b[1;33m]\u001b[0m\u001b[1;33m.\u001b[0m\u001b[0mastype\u001b[0m\u001b[1;33m(\u001b[0m\u001b[1;34m'category'\u001b[0m\u001b[1;33m)\u001b[0m\u001b[1;33m\u001b[0m\u001b[1;33m\u001b[0m\u001b[0m\n",
      "\u001b[1;31mNameError\u001b[0m: name 'X_val' is not defined"
     ]
    }
   ],
   "source": [
    "for table in [X_train, X_val]:\n",
    "    for feature in table.columns[0:10]:\n",
    "        table[feature] = table[feature].astype('category')"
   ]
  },
  {
   "cell_type": "code",
   "execution_count": null,
   "metadata": {},
   "outputs": [],
   "source": [
    "for table in [X_train, X_val]:\n",
    "    le = OrdinalEncoder()\n",
    "    table[['cat0', 'cat1', 'cat2', 'cat3', 'cat4', 'cat5', 'cat6', 'cat7', 'cat8',\n",
    "   'cat9']] = le.fit_transform(table[['cat0', 'cat1', 'cat2', 'cat3', 'cat4', 'cat5', 'cat6', 'cat7', 'cat8',\n",
    "   'cat9']])"
   ]
  },
  {
   "cell_type": "code",
   "execution_count": null,
   "metadata": {},
   "outputs": [],
   "source": [
    "X_train"
   ]
  },
  {
   "cell_type": "code",
   "execution_count": null,
   "metadata": {},
   "outputs": [],
   "source": [
    "X_train.info()"
   ]
  },
  {
   "cell_type": "code",
   "execution_count": null,
   "metadata": {},
   "outputs": [],
   "source": [
    "for table in [X_train, X_val]:\n",
    "    for feature in table.columns[0:10]:\n",
    "        table[feature] = table[feature].astype('category')"
   ]
  },
  {
   "cell_type": "code",
   "execution_count": null,
   "metadata": {},
   "outputs": [],
   "source": [
    "X_train.info()"
   ]
  },
  {
   "cell_type": "code",
   "execution_count": null,
   "metadata": {},
   "outputs": [],
   "source": [
    "cat_features"
   ]
  },
  {
   "cell_type": "code",
   "execution_count": 11,
   "metadata": {},
   "outputs": [],
   "source": [
    "import joblib"
   ]
  },
  {
   "cell_type": "code",
   "execution_count": 23,
   "metadata": {},
   "outputs": [],
   "source": [
    "encoded_X_train = joblib.load(\"encoded_X_train.joblib\")\n",
    "encoded_X_test = joblib.load(\"encoded_X_test.joblib\")"
   ]
  },
  {
   "cell_type": "code",
   "execution_count": 24,
   "metadata": {},
   "outputs": [],
   "source": [
    "class KFoldsAverageLGBMTuning():\n",
    "    def __init__(self):\n",
    "        self.models = []\n",
    "        self.kfolds = KFold(n_splits = 6, shuffle = False)\n",
    "        \n",
    "        \n",
    "    def fit(self, trial, train_x, train_y, params):\n",
    "        oof_preds = np.zeros_like(train_y)\n",
    "        self.train_x = train_x\n",
    "        self.train_y = train_y.values\n",
    "        \n",
    "        # Add a callback for pruning.\n",
    "        pruning_callback = optuna.integration.LightGBMPruningCallback(trial, \"rmse\")\n",
    "        \n",
    "        for train_idx, val_idx in self.kfolds.split(train_x):\n",
    "            X_train_CV, X_val_CV = self.train_x[train_idx], self.train_x[val_idx]\n",
    "            Y_train_CV, Y_val_CV = self.train_y[train_idx], self.train_y[val_idx]\n",
    "            \n",
    "            d_train = lgb.Dataset(data = X_train_CV, label=Y_train_CV)\n",
    "            d_val = lgb.Dataset(X_val_CV, label=Y_val_CV)\n",
    "            watchlist = [d_train, d_val]\n",
    "\n",
    "            \n",
    "            model = lgb.train(params, \n",
    "                             train_set = d_train,\n",
    "                             valid_sets = d_val,\n",
    "                             verbose_eval = -1,\n",
    "                             valid_names = 'valid_0',\n",
    "                             early_stopping_rounds = 1000,\n",
    "                             callbacks = [pruning_callback])\n",
    "            \n",
    "        \n",
    "            \n",
    "            self.models.append(model)\n",
    "            oof_pred = model.predict(X_val_CV)\n",
    "            oof_preds[val_idx] = oof_pred\n",
    "            \n",
    "        self.oof_preds = oof_preds\n",
    "        \n",
    "        self.rmse = mean_squared_error(Y_train, oof_preds, squared = False)\n",
    "\n",
    "    def predict(self, test_x):\n",
    "        preds = []\n",
    "        for model in tqdm.tqdm(self.models):\n",
    "            pred = model.predict(test_x)\n",
    "            preds.append(pred)\n",
    "        preds = np.mean(preds, axis=0)\n",
    "        return preds"
   ]
  },
  {
   "cell_type": "code",
   "execution_count": 25,
   "metadata": {},
   "outputs": [],
   "source": [
    "def objective_LGBM(trial):\n",
    "    num_leaves =  trial.suggest_int('num_leaves', 8, 4056, log=True) \n",
    "    lambda_l1 = trial.suggest_loguniform('lambda_l1', 1e-10, 1)\n",
    "    lambda_l2 = trial.suggest_loguniform('lambda_l2',1e-10, 1)\n",
    "    subsample_for_bin = trial.suggest_int('subsample_for_bin',1000, 1996000, step = 5000)\n",
    "    min_child_samples = trial.suggest_int('min_child_samples', 1, 40, 1)\n",
    "    max_depth = trial.suggest_int('max_depth', 2, 124, log=True)\n",
    "    bagging_fraction = trial.suggest_float('bagging_fraction', 0, 1, step = 0.00001)\n",
    "    feature_fraction = trial.suggest_float('feature_fraction', 0, 1, step = 0.00001)\n",
    "    bagging_freq = trial.suggest_int('bagging_freq', 1,10, step = 1)\n",
    "    max_bin = trial.suggest_int('max_bin', 2,256, log=True)\n",
    "    \n",
    "    \n",
    "    objective_params =  {\n",
    "        'random_state' : 50,\n",
    "        'objective': 'rmse',\n",
    "        'learning_rate' : 0.00115,\n",
    "        'n_jobs' : -1,\n",
    "        'n_estimators' : 1000000, \n",
    "        'boosting_type' : 'gbdt',\n",
    "        \n",
    "        'num_leaves' :  num_leaves,\n",
    "        'lambda_l1' : lambda_l1,\n",
    "        'lambda_l2' : lambda_l2,\n",
    "        'subsample_for_bin' : subsample_for_bin,\n",
    "        'min_child_samples' : min_child_samples,\n",
    "        'max_depth' : max_depth,\n",
    "        'bagging_fraction': bagging_fraction,\n",
    "        'feature_fraction' : feature_fraction,\n",
    "        'bagging_freq' : bagging_freq,\n",
    "        'max_bin' : max_bin\n",
    "        }\n",
    "\n",
    "    \n",
    "    optuna_LGBM = KFoldsAverageLGBMTuning()\n",
    "    optuna_LGBM.fit(trial = trial, train_x = encoded_X_train, train_y = Y_train, params = objective_params)\n",
    "\n",
    "    return optuna_LGBM.rmse"
   ]
  },
  {
   "cell_type": "code",
   "execution_count": 35,
   "metadata": {},
   "outputs": [
    {
     "data": {
      "text/plain": [
       "array([[  498.3482  ,  1691.0677  ,  -951.14124 ,   213.12398 ,\n",
       "          440.00653 ,  1061.3     ,   757.4526  ,  -148.58519 ,\n",
       "        -1550.1182  , -1501.2585  , -1527.3839  ,   157.17332 ,\n",
       "         -286.54065 ,   348.116   , -1904.4319  ,  3009.932   ,\n",
       "         2018.8998  ,  -223.16122 , -2072.0483  ,   913.00214 ,\n",
       "         -292.94736 , -1307.727   ,  1731.8445  ,  3091.5771  ,\n",
       "          775.7211  ,  1881.6687  ,  1131.4706  ,  2358.3796  ,\n",
       "        -1092.1138  ,  -294.51773 ,   546.302   ,  1417.289   ,\n",
       "         -189.79718 , -2360.9958  ,  3183.4937  , -1308.56    ,\n",
       "          362.23175 , -1350.6665  ,   323.85452 ,  -698.06714 ,\n",
       "         2014.0687  ,  1585.8009  , -1594.1528  ,   285.83533 ,\n",
       "        -2356.8955  ,  2002.6807  ,   -44.350624, -1585.8812  ,\n",
       "          564.39185 , -1355.8986  ,  3569.4187  ,   240.37863 ,\n",
       "         1872.4795  ,  -351.29    , -3369.9116  ,  -133.91899 ,\n",
       "          795.4669  , -3017.6328  ,  2559.9302  ,  1853.8909  ,\n",
       "          901.5504  , -2035.3801  , -2025.932   , -1651.6995  ]],\n",
       "      dtype=float32)"
      ]
     },
     "execution_count": 35,
     "metadata": {},
     "output_type": "execute_result"
    }
   ],
   "source": [
    "encoded_X_train[[7]]"
   ]
  },
  {
   "cell_type": "markdown",
   "metadata": {
    "scrolled": true
   },
   "source": [
    "lgbm_study = optuna.create_study(direction=\"minimize\", pruner = optuna.pruners.HyperbandPruner())\n",
    "lgbm_study.optimize(objective_LGBM, n_trials=1500, gc_after_trial = True)\n",
    "print(lgbm_study.best_trial)"
   ]
  },
  {
   "cell_type": "code",
   "execution_count": 37,
   "metadata": {},
   "outputs": [
    {
     "data": {
      "application/vnd.plotly.v1+json": {
       "config": {
        "plotlyServerURL": "https://plot.ly"
       },
       "data": [
        {
         "mode": "markers",
         "name": "Objective Value",
         "type": "scatter",
         "x": [
          0,
          1,
          2,
          3,
          7,
          11,
          14,
          24,
          39,
          41,
          69,
          78,
          154,
          187,
          199,
          232,
          248,
          253,
          256,
          258,
          265,
          274,
          284,
          286,
          291,
          320,
          337,
          340,
          345,
          361,
          369,
          396,
          404,
          421,
          424,
          502,
          534,
          577,
          585,
          616,
          628,
          651,
          706,
          756,
          770,
          852,
          863,
          883,
          918,
          940,
          946,
          1090,
          1124,
          1317,
          1406
         ],
         "y": [
          0.8782588486480372,
          0.8783347866326967,
          0.8872704823405171,
          0.8795989055382321,
          0.8774127063587428,
          0.8768915073594822,
          0.8792305208780272,
          0.8772873815999777,
          0.8778989129832125,
          0.8774263678955947,
          0.8772704556994618,
          0.8769799000905588,
          0.8775685971057826,
          0.8786019684041355,
          0.8780936696928814,
          0.8779834597865264,
          0.8804133456502622,
          0.8803676827902214,
          0.8801967857337322,
          0.8795815495884886,
          0.8801512409210244,
          0.8797492735982025,
          0.8797173339111893,
          0.879724447466626,
          0.8796660442518033,
          0.8796239463822547,
          0.8795070854488578,
          0.8791432566921316,
          0.8794054589584558,
          0.8794195497426309,
          0.8794825535195016,
          0.8799646055336803,
          0.8795398764123207,
          0.8792636138856843,
          0.8769946134686133,
          0.8792318767434756,
          0.8796562540057342,
          0.8793488754653702,
          0.8794105470805865,
          0.879814841336538,
          0.8778587605922363,
          0.8797482869634697,
          0.8786475885848659,
          0.8769418284226108,
          0.8773308962262908,
          0.8794238681069926,
          0.8775317419151152,
          0.8797441691678429,
          0.8797890487632843,
          0.8795090651072899,
          0.8774980614899324,
          0.8776366178674092,
          0.8785040238581064,
          0.8771350528185432,
          0.877184793347779
         ]
        },
        {
         "name": "Best Value",
         "type": "scatter",
         "x": [
          0,
          1,
          2,
          3,
          7,
          11,
          14,
          24,
          39,
          41,
          69,
          78,
          154,
          187,
          199,
          232,
          248,
          253,
          256,
          258,
          265,
          274,
          284,
          286,
          291,
          320,
          337,
          340,
          345,
          361,
          369,
          396,
          404,
          421,
          424,
          502,
          534,
          577,
          585,
          616,
          628,
          651,
          706,
          756,
          770,
          852,
          863,
          883,
          918,
          940,
          946,
          1090,
          1124,
          1317,
          1406
         ],
         "y": [
          0.8782588486480372,
          0.8782588486480372,
          0.8782588486480372,
          0.8782588486480372,
          0.8774127063587428,
          0.8768915073594822,
          0.8768915073594822,
          0.8768915073594822,
          0.8768915073594822,
          0.8768915073594822,
          0.8768915073594822,
          0.8768915073594822,
          0.8768915073594822,
          0.8768915073594822,
          0.8768915073594822,
          0.8768915073594822,
          0.8768915073594822,
          0.8768915073594822,
          0.8768915073594822,
          0.8768915073594822,
          0.8768915073594822,
          0.8768915073594822,
          0.8768915073594822,
          0.8768915073594822,
          0.8768915073594822,
          0.8768915073594822,
          0.8768915073594822,
          0.8768915073594822,
          0.8768915073594822,
          0.8768915073594822,
          0.8768915073594822,
          0.8768915073594822,
          0.8768915073594822,
          0.8768915073594822,
          0.8768915073594822,
          0.8768915073594822,
          0.8768915073594822,
          0.8768915073594822,
          0.8768915073594822,
          0.8768915073594822,
          0.8768915073594822,
          0.8768915073594822,
          0.8768915073594822,
          0.8768915073594822,
          0.8768915073594822,
          0.8768915073594822,
          0.8768915073594822,
          0.8768915073594822,
          0.8768915073594822,
          0.8768915073594822,
          0.8768915073594822,
          0.8768915073594822,
          0.8768915073594822,
          0.8768915073594822,
          0.8768915073594822
         ]
        }
       ],
       "layout": {
        "template": {
         "data": {
          "bar": [
           {
            "error_x": {
             "color": "#2a3f5f"
            },
            "error_y": {
             "color": "#2a3f5f"
            },
            "marker": {
             "line": {
              "color": "#E5ECF6",
              "width": 0.5
             }
            },
            "type": "bar"
           }
          ],
          "barpolar": [
           {
            "marker": {
             "line": {
              "color": "#E5ECF6",
              "width": 0.5
             }
            },
            "type": "barpolar"
           }
          ],
          "carpet": [
           {
            "aaxis": {
             "endlinecolor": "#2a3f5f",
             "gridcolor": "white",
             "linecolor": "white",
             "minorgridcolor": "white",
             "startlinecolor": "#2a3f5f"
            },
            "baxis": {
             "endlinecolor": "#2a3f5f",
             "gridcolor": "white",
             "linecolor": "white",
             "minorgridcolor": "white",
             "startlinecolor": "#2a3f5f"
            },
            "type": "carpet"
           }
          ],
          "choropleth": [
           {
            "colorbar": {
             "outlinewidth": 0,
             "ticks": ""
            },
            "type": "choropleth"
           }
          ],
          "contour": [
           {
            "colorbar": {
             "outlinewidth": 0,
             "ticks": ""
            },
            "colorscale": [
             [
              0,
              "#0d0887"
             ],
             [
              0.1111111111111111,
              "#46039f"
             ],
             [
              0.2222222222222222,
              "#7201a8"
             ],
             [
              0.3333333333333333,
              "#9c179e"
             ],
             [
              0.4444444444444444,
              "#bd3786"
             ],
             [
              0.5555555555555556,
              "#d8576b"
             ],
             [
              0.6666666666666666,
              "#ed7953"
             ],
             [
              0.7777777777777778,
              "#fb9f3a"
             ],
             [
              0.8888888888888888,
              "#fdca26"
             ],
             [
              1,
              "#f0f921"
             ]
            ],
            "type": "contour"
           }
          ],
          "contourcarpet": [
           {
            "colorbar": {
             "outlinewidth": 0,
             "ticks": ""
            },
            "type": "contourcarpet"
           }
          ],
          "heatmap": [
           {
            "colorbar": {
             "outlinewidth": 0,
             "ticks": ""
            },
            "colorscale": [
             [
              0,
              "#0d0887"
             ],
             [
              0.1111111111111111,
              "#46039f"
             ],
             [
              0.2222222222222222,
              "#7201a8"
             ],
             [
              0.3333333333333333,
              "#9c179e"
             ],
             [
              0.4444444444444444,
              "#bd3786"
             ],
             [
              0.5555555555555556,
              "#d8576b"
             ],
             [
              0.6666666666666666,
              "#ed7953"
             ],
             [
              0.7777777777777778,
              "#fb9f3a"
             ],
             [
              0.8888888888888888,
              "#fdca26"
             ],
             [
              1,
              "#f0f921"
             ]
            ],
            "type": "heatmap"
           }
          ],
          "heatmapgl": [
           {
            "colorbar": {
             "outlinewidth": 0,
             "ticks": ""
            },
            "colorscale": [
             [
              0,
              "#0d0887"
             ],
             [
              0.1111111111111111,
              "#46039f"
             ],
             [
              0.2222222222222222,
              "#7201a8"
             ],
             [
              0.3333333333333333,
              "#9c179e"
             ],
             [
              0.4444444444444444,
              "#bd3786"
             ],
             [
              0.5555555555555556,
              "#d8576b"
             ],
             [
              0.6666666666666666,
              "#ed7953"
             ],
             [
              0.7777777777777778,
              "#fb9f3a"
             ],
             [
              0.8888888888888888,
              "#fdca26"
             ],
             [
              1,
              "#f0f921"
             ]
            ],
            "type": "heatmapgl"
           }
          ],
          "histogram": [
           {
            "marker": {
             "colorbar": {
              "outlinewidth": 0,
              "ticks": ""
             }
            },
            "type": "histogram"
           }
          ],
          "histogram2d": [
           {
            "colorbar": {
             "outlinewidth": 0,
             "ticks": ""
            },
            "colorscale": [
             [
              0,
              "#0d0887"
             ],
             [
              0.1111111111111111,
              "#46039f"
             ],
             [
              0.2222222222222222,
              "#7201a8"
             ],
             [
              0.3333333333333333,
              "#9c179e"
             ],
             [
              0.4444444444444444,
              "#bd3786"
             ],
             [
              0.5555555555555556,
              "#d8576b"
             ],
             [
              0.6666666666666666,
              "#ed7953"
             ],
             [
              0.7777777777777778,
              "#fb9f3a"
             ],
             [
              0.8888888888888888,
              "#fdca26"
             ],
             [
              1,
              "#f0f921"
             ]
            ],
            "type": "histogram2d"
           }
          ],
          "histogram2dcontour": [
           {
            "colorbar": {
             "outlinewidth": 0,
             "ticks": ""
            },
            "colorscale": [
             [
              0,
              "#0d0887"
             ],
             [
              0.1111111111111111,
              "#46039f"
             ],
             [
              0.2222222222222222,
              "#7201a8"
             ],
             [
              0.3333333333333333,
              "#9c179e"
             ],
             [
              0.4444444444444444,
              "#bd3786"
             ],
             [
              0.5555555555555556,
              "#d8576b"
             ],
             [
              0.6666666666666666,
              "#ed7953"
             ],
             [
              0.7777777777777778,
              "#fb9f3a"
             ],
             [
              0.8888888888888888,
              "#fdca26"
             ],
             [
              1,
              "#f0f921"
             ]
            ],
            "type": "histogram2dcontour"
           }
          ],
          "mesh3d": [
           {
            "colorbar": {
             "outlinewidth": 0,
             "ticks": ""
            },
            "type": "mesh3d"
           }
          ],
          "parcoords": [
           {
            "line": {
             "colorbar": {
              "outlinewidth": 0,
              "ticks": ""
             }
            },
            "type": "parcoords"
           }
          ],
          "pie": [
           {
            "automargin": true,
            "type": "pie"
           }
          ],
          "scatter": [
           {
            "marker": {
             "colorbar": {
              "outlinewidth": 0,
              "ticks": ""
             }
            },
            "type": "scatter"
           }
          ],
          "scatter3d": [
           {
            "line": {
             "colorbar": {
              "outlinewidth": 0,
              "ticks": ""
             }
            },
            "marker": {
             "colorbar": {
              "outlinewidth": 0,
              "ticks": ""
             }
            },
            "type": "scatter3d"
           }
          ],
          "scattercarpet": [
           {
            "marker": {
             "colorbar": {
              "outlinewidth": 0,
              "ticks": ""
             }
            },
            "type": "scattercarpet"
           }
          ],
          "scattergeo": [
           {
            "marker": {
             "colorbar": {
              "outlinewidth": 0,
              "ticks": ""
             }
            },
            "type": "scattergeo"
           }
          ],
          "scattergl": [
           {
            "marker": {
             "colorbar": {
              "outlinewidth": 0,
              "ticks": ""
             }
            },
            "type": "scattergl"
           }
          ],
          "scattermapbox": [
           {
            "marker": {
             "colorbar": {
              "outlinewidth": 0,
              "ticks": ""
             }
            },
            "type": "scattermapbox"
           }
          ],
          "scatterpolar": [
           {
            "marker": {
             "colorbar": {
              "outlinewidth": 0,
              "ticks": ""
             }
            },
            "type": "scatterpolar"
           }
          ],
          "scatterpolargl": [
           {
            "marker": {
             "colorbar": {
              "outlinewidth": 0,
              "ticks": ""
             }
            },
            "type": "scatterpolargl"
           }
          ],
          "scatterternary": [
           {
            "marker": {
             "colorbar": {
              "outlinewidth": 0,
              "ticks": ""
             }
            },
            "type": "scatterternary"
           }
          ],
          "surface": [
           {
            "colorbar": {
             "outlinewidth": 0,
             "ticks": ""
            },
            "colorscale": [
             [
              0,
              "#0d0887"
             ],
             [
              0.1111111111111111,
              "#46039f"
             ],
             [
              0.2222222222222222,
              "#7201a8"
             ],
             [
              0.3333333333333333,
              "#9c179e"
             ],
             [
              0.4444444444444444,
              "#bd3786"
             ],
             [
              0.5555555555555556,
              "#d8576b"
             ],
             [
              0.6666666666666666,
              "#ed7953"
             ],
             [
              0.7777777777777778,
              "#fb9f3a"
             ],
             [
              0.8888888888888888,
              "#fdca26"
             ],
             [
              1,
              "#f0f921"
             ]
            ],
            "type": "surface"
           }
          ],
          "table": [
           {
            "cells": {
             "fill": {
              "color": "#EBF0F8"
             },
             "line": {
              "color": "white"
             }
            },
            "header": {
             "fill": {
              "color": "#C8D4E3"
             },
             "line": {
              "color": "white"
             }
            },
            "type": "table"
           }
          ]
         },
         "layout": {
          "annotationdefaults": {
           "arrowcolor": "#2a3f5f",
           "arrowhead": 0,
           "arrowwidth": 1
          },
          "autotypenumbers": "strict",
          "coloraxis": {
           "colorbar": {
            "outlinewidth": 0,
            "ticks": ""
           }
          },
          "colorscale": {
           "diverging": [
            [
             0,
             "#8e0152"
            ],
            [
             0.1,
             "#c51b7d"
            ],
            [
             0.2,
             "#de77ae"
            ],
            [
             0.3,
             "#f1b6da"
            ],
            [
             0.4,
             "#fde0ef"
            ],
            [
             0.5,
             "#f7f7f7"
            ],
            [
             0.6,
             "#e6f5d0"
            ],
            [
             0.7,
             "#b8e186"
            ],
            [
             0.8,
             "#7fbc41"
            ],
            [
             0.9,
             "#4d9221"
            ],
            [
             1,
             "#276419"
            ]
           ],
           "sequential": [
            [
             0,
             "#0d0887"
            ],
            [
             0.1111111111111111,
             "#46039f"
            ],
            [
             0.2222222222222222,
             "#7201a8"
            ],
            [
             0.3333333333333333,
             "#9c179e"
            ],
            [
             0.4444444444444444,
             "#bd3786"
            ],
            [
             0.5555555555555556,
             "#d8576b"
            ],
            [
             0.6666666666666666,
             "#ed7953"
            ],
            [
             0.7777777777777778,
             "#fb9f3a"
            ],
            [
             0.8888888888888888,
             "#fdca26"
            ],
            [
             1,
             "#f0f921"
            ]
           ],
           "sequentialminus": [
            [
             0,
             "#0d0887"
            ],
            [
             0.1111111111111111,
             "#46039f"
            ],
            [
             0.2222222222222222,
             "#7201a8"
            ],
            [
             0.3333333333333333,
             "#9c179e"
            ],
            [
             0.4444444444444444,
             "#bd3786"
            ],
            [
             0.5555555555555556,
             "#d8576b"
            ],
            [
             0.6666666666666666,
             "#ed7953"
            ],
            [
             0.7777777777777778,
             "#fb9f3a"
            ],
            [
             0.8888888888888888,
             "#fdca26"
            ],
            [
             1,
             "#f0f921"
            ]
           ]
          },
          "colorway": [
           "#636efa",
           "#EF553B",
           "#00cc96",
           "#ab63fa",
           "#FFA15A",
           "#19d3f3",
           "#FF6692",
           "#B6E880",
           "#FF97FF",
           "#FECB52"
          ],
          "font": {
           "color": "#2a3f5f"
          },
          "geo": {
           "bgcolor": "white",
           "lakecolor": "white",
           "landcolor": "#E5ECF6",
           "showlakes": true,
           "showland": true,
           "subunitcolor": "white"
          },
          "hoverlabel": {
           "align": "left"
          },
          "hovermode": "closest",
          "mapbox": {
           "style": "light"
          },
          "paper_bgcolor": "white",
          "plot_bgcolor": "#E5ECF6",
          "polar": {
           "angularaxis": {
            "gridcolor": "white",
            "linecolor": "white",
            "ticks": ""
           },
           "bgcolor": "#E5ECF6",
           "radialaxis": {
            "gridcolor": "white",
            "linecolor": "white",
            "ticks": ""
           }
          },
          "scene": {
           "xaxis": {
            "backgroundcolor": "#E5ECF6",
            "gridcolor": "white",
            "gridwidth": 2,
            "linecolor": "white",
            "showbackground": true,
            "ticks": "",
            "zerolinecolor": "white"
           },
           "yaxis": {
            "backgroundcolor": "#E5ECF6",
            "gridcolor": "white",
            "gridwidth": 2,
            "linecolor": "white",
            "showbackground": true,
            "ticks": "",
            "zerolinecolor": "white"
           },
           "zaxis": {
            "backgroundcolor": "#E5ECF6",
            "gridcolor": "white",
            "gridwidth": 2,
            "linecolor": "white",
            "showbackground": true,
            "ticks": "",
            "zerolinecolor": "white"
           }
          },
          "shapedefaults": {
           "line": {
            "color": "#2a3f5f"
           }
          },
          "ternary": {
           "aaxis": {
            "gridcolor": "white",
            "linecolor": "white",
            "ticks": ""
           },
           "baxis": {
            "gridcolor": "white",
            "linecolor": "white",
            "ticks": ""
           },
           "bgcolor": "#E5ECF6",
           "caxis": {
            "gridcolor": "white",
            "linecolor": "white",
            "ticks": ""
           }
          },
          "title": {
           "x": 0.05
          },
          "xaxis": {
           "automargin": true,
           "gridcolor": "white",
           "linecolor": "white",
           "ticks": "",
           "title": {
            "standoff": 15
           },
           "zerolinecolor": "white",
           "zerolinewidth": 2
          },
          "yaxis": {
           "automargin": true,
           "gridcolor": "white",
           "linecolor": "white",
           "ticks": "",
           "title": {
            "standoff": 15
           },
           "zerolinecolor": "white",
           "zerolinewidth": 2
          }
         }
        },
        "title": {
         "text": "Optimization History Plot"
        },
        "xaxis": {
         "title": {
          "text": "#Trials"
         }
        },
        "yaxis": {
         "title": {
          "text": "Objective Value"
         }
        }
       }
      },
      "text/html": [
       "<div>                            <div id=\"f69242b1-526b-4e07-8704-e32996467305\" class=\"plotly-graph-div\" style=\"height:525px; width:100%;\"></div>            <script type=\"text/javascript\">                require([\"plotly\"], function(Plotly) {                    window.PLOTLYENV=window.PLOTLYENV || {};                                    if (document.getElementById(\"f69242b1-526b-4e07-8704-e32996467305\")) {                    Plotly.newPlot(                        \"f69242b1-526b-4e07-8704-e32996467305\",                        [{\"mode\": \"markers\", \"name\": \"Objective Value\", \"type\": \"scatter\", \"x\": [0, 1, 2, 3, 7, 11, 14, 24, 39, 41, 69, 78, 154, 187, 199, 232, 248, 253, 256, 258, 265, 274, 284, 286, 291, 320, 337, 340, 345, 361, 369, 396, 404, 421, 424, 502, 534, 577, 585, 616, 628, 651, 706, 756, 770, 852, 863, 883, 918, 940, 946, 1090, 1124, 1317, 1406], \"y\": [0.8782588486480372, 0.8783347866326967, 0.8872704823405171, 0.8795989055382321, 0.8774127063587428, 0.8768915073594822, 0.8792305208780272, 0.8772873815999777, 0.8778989129832125, 0.8774263678955947, 0.8772704556994618, 0.8769799000905588, 0.8775685971057826, 0.8786019684041355, 0.8780936696928814, 0.8779834597865264, 0.8804133456502622, 0.8803676827902214, 0.8801967857337322, 0.8795815495884886, 0.8801512409210244, 0.8797492735982025, 0.8797173339111893, 0.879724447466626, 0.8796660442518033, 0.8796239463822547, 0.8795070854488578, 0.8791432566921316, 0.8794054589584558, 0.8794195497426309, 0.8794825535195016, 0.8799646055336803, 0.8795398764123207, 0.8792636138856843, 0.8769946134686133, 0.8792318767434756, 0.8796562540057342, 0.8793488754653702, 0.8794105470805865, 0.879814841336538, 0.8778587605922363, 0.8797482869634697, 0.8786475885848659, 0.8769418284226108, 0.8773308962262908, 0.8794238681069926, 0.8775317419151152, 0.8797441691678429, 0.8797890487632843, 0.8795090651072899, 0.8774980614899324, 0.8776366178674092, 0.8785040238581064, 0.8771350528185432, 0.877184793347779]}, {\"name\": \"Best Value\", \"type\": \"scatter\", \"x\": [0, 1, 2, 3, 7, 11, 14, 24, 39, 41, 69, 78, 154, 187, 199, 232, 248, 253, 256, 258, 265, 274, 284, 286, 291, 320, 337, 340, 345, 361, 369, 396, 404, 421, 424, 502, 534, 577, 585, 616, 628, 651, 706, 756, 770, 852, 863, 883, 918, 940, 946, 1090, 1124, 1317, 1406], \"y\": [0.8782588486480372, 0.8782588486480372, 0.8782588486480372, 0.8782588486480372, 0.8774127063587428, 0.8768915073594822, 0.8768915073594822, 0.8768915073594822, 0.8768915073594822, 0.8768915073594822, 0.8768915073594822, 0.8768915073594822, 0.8768915073594822, 0.8768915073594822, 0.8768915073594822, 0.8768915073594822, 0.8768915073594822, 0.8768915073594822, 0.8768915073594822, 0.8768915073594822, 0.8768915073594822, 0.8768915073594822, 0.8768915073594822, 0.8768915073594822, 0.8768915073594822, 0.8768915073594822, 0.8768915073594822, 0.8768915073594822, 0.8768915073594822, 0.8768915073594822, 0.8768915073594822, 0.8768915073594822, 0.8768915073594822, 0.8768915073594822, 0.8768915073594822, 0.8768915073594822, 0.8768915073594822, 0.8768915073594822, 0.8768915073594822, 0.8768915073594822, 0.8768915073594822, 0.8768915073594822, 0.8768915073594822, 0.8768915073594822, 0.8768915073594822, 0.8768915073594822, 0.8768915073594822, 0.8768915073594822, 0.8768915073594822, 0.8768915073594822, 0.8768915073594822, 0.8768915073594822, 0.8768915073594822, 0.8768915073594822, 0.8768915073594822]}],                        {\"template\": {\"data\": {\"bar\": [{\"error_x\": {\"color\": \"#2a3f5f\"}, \"error_y\": {\"color\": \"#2a3f5f\"}, \"marker\": {\"line\": {\"color\": \"#E5ECF6\", \"width\": 0.5}}, \"type\": \"bar\"}], \"barpolar\": [{\"marker\": {\"line\": {\"color\": \"#E5ECF6\", \"width\": 0.5}}, \"type\": \"barpolar\"}], \"carpet\": [{\"aaxis\": {\"endlinecolor\": \"#2a3f5f\", \"gridcolor\": \"white\", \"linecolor\": \"white\", \"minorgridcolor\": \"white\", \"startlinecolor\": \"#2a3f5f\"}, \"baxis\": {\"endlinecolor\": \"#2a3f5f\", \"gridcolor\": \"white\", \"linecolor\": \"white\", \"minorgridcolor\": \"white\", \"startlinecolor\": \"#2a3f5f\"}, \"type\": \"carpet\"}], \"choropleth\": [{\"colorbar\": {\"outlinewidth\": 0, \"ticks\": \"\"}, \"type\": \"choropleth\"}], \"contour\": [{\"colorbar\": {\"outlinewidth\": 0, \"ticks\": \"\"}, \"colorscale\": [[0.0, \"#0d0887\"], [0.1111111111111111, \"#46039f\"], [0.2222222222222222, \"#7201a8\"], [0.3333333333333333, \"#9c179e\"], [0.4444444444444444, \"#bd3786\"], [0.5555555555555556, \"#d8576b\"], [0.6666666666666666, \"#ed7953\"], [0.7777777777777778, \"#fb9f3a\"], [0.8888888888888888, \"#fdca26\"], [1.0, \"#f0f921\"]], \"type\": \"contour\"}], \"contourcarpet\": [{\"colorbar\": {\"outlinewidth\": 0, \"ticks\": \"\"}, \"type\": \"contourcarpet\"}], \"heatmap\": [{\"colorbar\": {\"outlinewidth\": 0, \"ticks\": \"\"}, \"colorscale\": [[0.0, \"#0d0887\"], [0.1111111111111111, \"#46039f\"], [0.2222222222222222, \"#7201a8\"], [0.3333333333333333, \"#9c179e\"], [0.4444444444444444, \"#bd3786\"], [0.5555555555555556, \"#d8576b\"], [0.6666666666666666, \"#ed7953\"], [0.7777777777777778, \"#fb9f3a\"], [0.8888888888888888, \"#fdca26\"], [1.0, \"#f0f921\"]], \"type\": \"heatmap\"}], \"heatmapgl\": [{\"colorbar\": {\"outlinewidth\": 0, \"ticks\": \"\"}, \"colorscale\": [[0.0, \"#0d0887\"], [0.1111111111111111, \"#46039f\"], [0.2222222222222222, \"#7201a8\"], [0.3333333333333333, \"#9c179e\"], [0.4444444444444444, \"#bd3786\"], [0.5555555555555556, \"#d8576b\"], [0.6666666666666666, \"#ed7953\"], [0.7777777777777778, \"#fb9f3a\"], [0.8888888888888888, \"#fdca26\"], [1.0, \"#f0f921\"]], \"type\": \"heatmapgl\"}], \"histogram\": [{\"marker\": {\"colorbar\": {\"outlinewidth\": 0, \"ticks\": \"\"}}, \"type\": \"histogram\"}], \"histogram2d\": [{\"colorbar\": {\"outlinewidth\": 0, \"ticks\": \"\"}, \"colorscale\": [[0.0, \"#0d0887\"], [0.1111111111111111, \"#46039f\"], [0.2222222222222222, \"#7201a8\"], [0.3333333333333333, \"#9c179e\"], [0.4444444444444444, \"#bd3786\"], [0.5555555555555556, \"#d8576b\"], [0.6666666666666666, \"#ed7953\"], [0.7777777777777778, \"#fb9f3a\"], [0.8888888888888888, \"#fdca26\"], [1.0, \"#f0f921\"]], \"type\": \"histogram2d\"}], \"histogram2dcontour\": [{\"colorbar\": {\"outlinewidth\": 0, \"ticks\": \"\"}, \"colorscale\": [[0.0, \"#0d0887\"], [0.1111111111111111, \"#46039f\"], [0.2222222222222222, \"#7201a8\"], [0.3333333333333333, \"#9c179e\"], [0.4444444444444444, \"#bd3786\"], [0.5555555555555556, \"#d8576b\"], [0.6666666666666666, \"#ed7953\"], [0.7777777777777778, \"#fb9f3a\"], [0.8888888888888888, \"#fdca26\"], [1.0, \"#f0f921\"]], \"type\": \"histogram2dcontour\"}], \"mesh3d\": [{\"colorbar\": {\"outlinewidth\": 0, \"ticks\": \"\"}, \"type\": \"mesh3d\"}], \"parcoords\": [{\"line\": {\"colorbar\": {\"outlinewidth\": 0, \"ticks\": \"\"}}, \"type\": \"parcoords\"}], \"pie\": [{\"automargin\": true, \"type\": \"pie\"}], \"scatter\": [{\"marker\": {\"colorbar\": {\"outlinewidth\": 0, \"ticks\": \"\"}}, \"type\": \"scatter\"}], \"scatter3d\": [{\"line\": {\"colorbar\": {\"outlinewidth\": 0, \"ticks\": \"\"}}, \"marker\": {\"colorbar\": {\"outlinewidth\": 0, \"ticks\": \"\"}}, \"type\": \"scatter3d\"}], \"scattercarpet\": [{\"marker\": {\"colorbar\": {\"outlinewidth\": 0, \"ticks\": \"\"}}, \"type\": \"scattercarpet\"}], \"scattergeo\": [{\"marker\": {\"colorbar\": {\"outlinewidth\": 0, \"ticks\": \"\"}}, \"type\": \"scattergeo\"}], \"scattergl\": [{\"marker\": {\"colorbar\": {\"outlinewidth\": 0, \"ticks\": \"\"}}, \"type\": \"scattergl\"}], \"scattermapbox\": [{\"marker\": {\"colorbar\": {\"outlinewidth\": 0, \"ticks\": \"\"}}, \"type\": \"scattermapbox\"}], \"scatterpolar\": [{\"marker\": {\"colorbar\": {\"outlinewidth\": 0, \"ticks\": \"\"}}, \"type\": \"scatterpolar\"}], \"scatterpolargl\": [{\"marker\": {\"colorbar\": {\"outlinewidth\": 0, \"ticks\": \"\"}}, \"type\": \"scatterpolargl\"}], \"scatterternary\": [{\"marker\": {\"colorbar\": {\"outlinewidth\": 0, \"ticks\": \"\"}}, \"type\": \"scatterternary\"}], \"surface\": [{\"colorbar\": {\"outlinewidth\": 0, \"ticks\": \"\"}, \"colorscale\": [[0.0, \"#0d0887\"], [0.1111111111111111, \"#46039f\"], [0.2222222222222222, \"#7201a8\"], [0.3333333333333333, \"#9c179e\"], [0.4444444444444444, \"#bd3786\"], [0.5555555555555556, \"#d8576b\"], [0.6666666666666666, \"#ed7953\"], [0.7777777777777778, \"#fb9f3a\"], [0.8888888888888888, \"#fdca26\"], [1.0, \"#f0f921\"]], \"type\": \"surface\"}], \"table\": [{\"cells\": {\"fill\": {\"color\": \"#EBF0F8\"}, \"line\": {\"color\": \"white\"}}, \"header\": {\"fill\": {\"color\": \"#C8D4E3\"}, \"line\": {\"color\": \"white\"}}, \"type\": \"table\"}]}, \"layout\": {\"annotationdefaults\": {\"arrowcolor\": \"#2a3f5f\", \"arrowhead\": 0, \"arrowwidth\": 1}, \"autotypenumbers\": \"strict\", \"coloraxis\": {\"colorbar\": {\"outlinewidth\": 0, \"ticks\": \"\"}}, \"colorscale\": {\"diverging\": [[0, \"#8e0152\"], [0.1, \"#c51b7d\"], [0.2, \"#de77ae\"], [0.3, \"#f1b6da\"], [0.4, \"#fde0ef\"], [0.5, \"#f7f7f7\"], [0.6, \"#e6f5d0\"], [0.7, \"#b8e186\"], [0.8, \"#7fbc41\"], [0.9, \"#4d9221\"], [1, \"#276419\"]], \"sequential\": [[0.0, \"#0d0887\"], [0.1111111111111111, \"#46039f\"], [0.2222222222222222, \"#7201a8\"], [0.3333333333333333, \"#9c179e\"], [0.4444444444444444, \"#bd3786\"], [0.5555555555555556, \"#d8576b\"], [0.6666666666666666, \"#ed7953\"], [0.7777777777777778, \"#fb9f3a\"], [0.8888888888888888, \"#fdca26\"], [1.0, \"#f0f921\"]], \"sequentialminus\": [[0.0, \"#0d0887\"], [0.1111111111111111, \"#46039f\"], [0.2222222222222222, \"#7201a8\"], [0.3333333333333333, \"#9c179e\"], [0.4444444444444444, \"#bd3786\"], [0.5555555555555556, \"#d8576b\"], [0.6666666666666666, \"#ed7953\"], [0.7777777777777778, \"#fb9f3a\"], [0.8888888888888888, \"#fdca26\"], [1.0, \"#f0f921\"]]}, \"colorway\": [\"#636efa\", \"#EF553B\", \"#00cc96\", \"#ab63fa\", \"#FFA15A\", \"#19d3f3\", \"#FF6692\", \"#B6E880\", \"#FF97FF\", \"#FECB52\"], \"font\": {\"color\": \"#2a3f5f\"}, \"geo\": {\"bgcolor\": \"white\", \"lakecolor\": \"white\", \"landcolor\": \"#E5ECF6\", \"showlakes\": true, \"showland\": true, \"subunitcolor\": \"white\"}, \"hoverlabel\": {\"align\": \"left\"}, \"hovermode\": \"closest\", \"mapbox\": {\"style\": \"light\"}, \"paper_bgcolor\": \"white\", \"plot_bgcolor\": \"#E5ECF6\", \"polar\": {\"angularaxis\": {\"gridcolor\": \"white\", \"linecolor\": \"white\", \"ticks\": \"\"}, \"bgcolor\": \"#E5ECF6\", \"radialaxis\": {\"gridcolor\": \"white\", \"linecolor\": \"white\", \"ticks\": \"\"}}, \"scene\": {\"xaxis\": {\"backgroundcolor\": \"#E5ECF6\", \"gridcolor\": \"white\", \"gridwidth\": 2, \"linecolor\": \"white\", \"showbackground\": true, \"ticks\": \"\", \"zerolinecolor\": \"white\"}, \"yaxis\": {\"backgroundcolor\": \"#E5ECF6\", \"gridcolor\": \"white\", \"gridwidth\": 2, \"linecolor\": \"white\", \"showbackground\": true, \"ticks\": \"\", \"zerolinecolor\": \"white\"}, \"zaxis\": {\"backgroundcolor\": \"#E5ECF6\", \"gridcolor\": \"white\", \"gridwidth\": 2, \"linecolor\": \"white\", \"showbackground\": true, \"ticks\": \"\", \"zerolinecolor\": \"white\"}}, \"shapedefaults\": {\"line\": {\"color\": \"#2a3f5f\"}}, \"ternary\": {\"aaxis\": {\"gridcolor\": \"white\", \"linecolor\": \"white\", \"ticks\": \"\"}, \"baxis\": {\"gridcolor\": \"white\", \"linecolor\": \"white\", \"ticks\": \"\"}, \"bgcolor\": \"#E5ECF6\", \"caxis\": {\"gridcolor\": \"white\", \"linecolor\": \"white\", \"ticks\": \"\"}}, \"title\": {\"x\": 0.05}, \"xaxis\": {\"automargin\": true, \"gridcolor\": \"white\", \"linecolor\": \"white\", \"ticks\": \"\", \"title\": {\"standoff\": 15}, \"zerolinecolor\": \"white\", \"zerolinewidth\": 2}, \"yaxis\": {\"automargin\": true, \"gridcolor\": \"white\", \"linecolor\": \"white\", \"ticks\": \"\", \"title\": {\"standoff\": 15}, \"zerolinecolor\": \"white\", \"zerolinewidth\": 2}}}, \"title\": {\"text\": \"Optimization History Plot\"}, \"xaxis\": {\"title\": {\"text\": \"#Trials\"}}, \"yaxis\": {\"title\": {\"text\": \"Objective Value\"}}},                        {\"responsive\": true}                    ).then(function(){\n",
       "                            \n",
       "var gd = document.getElementById('f69242b1-526b-4e07-8704-e32996467305');\n",
       "var x = new MutationObserver(function (mutations, observer) {{\n",
       "        var display = window.getComputedStyle(gd).display;\n",
       "        if (!display || display === 'none') {{\n",
       "            console.log([gd, 'removed!']);\n",
       "            Plotly.purge(gd);\n",
       "            observer.disconnect();\n",
       "        }}\n",
       "}});\n",
       "\n",
       "// Listen for the removal of the full notebook cells\n",
       "var notebookContainer = gd.closest('#notebook-container');\n",
       "if (notebookContainer) {{\n",
       "    x.observe(notebookContainer, {childList: true});\n",
       "}}\n",
       "\n",
       "// Listen for the clearing of the current output cell\n",
       "var outputEl = gd.closest('.output');\n",
       "if (outputEl) {{\n",
       "    x.observe(outputEl, {childList: true});\n",
       "}}\n",
       "\n",
       "                        })                };                });            </script>        </div>"
      ]
     },
     "metadata": {},
     "output_type": "display_data"
    }
   ],
   "source": [
    "optuna.visualization.plot_optimization_history(lgbm_study)"
   ]
  },
  {
   "cell_type": "code",
   "execution_count": 38,
   "metadata": {},
   "outputs": [
    {
     "data": {
      "application/vnd.plotly.v1+json": {
       "config": {
        "plotlyServerURL": "https://plot.ly"
       },
       "data": [
        {
         "dimensions": [
          {
           "label": "Objective Value",
           "range": [
            0.8768915073594822,
            0.8872704823405171
           ],
           "values": [
            0.8782588486480372,
            0.8783347866326967,
            0.8872704823405171,
            0.8795989055382321,
            0.8774127063587428,
            0.8768915073594822,
            0.8792305208780272,
            0.8772873815999777,
            0.8778989129832125,
            0.8774263678955947,
            0.8772704556994618,
            0.8769799000905588,
            0.8775685971057826,
            0.8786019684041355,
            0.8780936696928814,
            0.8779834597865264,
            0.8804133456502622,
            0.8803676827902214,
            0.8801967857337322,
            0.8795815495884886,
            0.8801512409210244,
            0.8797492735982025,
            0.8797173339111893,
            0.879724447466626,
            0.8796660442518033,
            0.8796239463822547,
            0.8795070854488578,
            0.8791432566921316,
            0.8794054589584558,
            0.8794195497426309,
            0.8794825535195016,
            0.8799646055336803,
            0.8795398764123207,
            0.8792636138856843,
            0.8769946134686133,
            0.8792318767434756,
            0.8796562540057342,
            0.8793488754653702,
            0.8794105470805865,
            0.879814841336538,
            0.8778587605922363,
            0.8797482869634697,
            0.8786475885848659,
            0.8769418284226108,
            0.8773308962262908,
            0.8794238681069926,
            0.8775317419151152,
            0.8797441691678429,
            0.8797890487632843,
            0.8795090651072899,
            0.8774980614899324,
            0.8776366178674092,
            0.8785040238581064,
            0.8771350528185432,
            0.877184793347779
           ]
          },
          {
           "label": "bagging_fraction",
           "range": [
            0.06506,
            0.9980700000000001
           ],
           "values": [
            0.66239,
            0.22753,
            0.9433,
            0.35809,
            0.6096400000000001,
            0.79834,
            0.86948,
            0.12841000000000002,
            0.9681400000000001,
            0.6452000000000001,
            0.6822400000000001,
            0.9968000000000001,
            0.06506,
            0.53966,
            0.20512000000000002,
            0.77712,
            0.42175,
            0.48453,
            0.48216000000000003,
            0.45378,
            0.42650000000000005,
            0.52642,
            0.44029,
            0.48969,
            0.48758,
            0.8377300000000001,
            0.8547300000000001,
            0.8531900000000001,
            0.7722600000000001,
            0.87055,
            0.8714000000000001,
            0.96701,
            0.87894,
            0.9082100000000001,
            0.8460700000000001,
            0.8941800000000001,
            0.9247700000000001,
            0.17839000000000002,
            0.9248200000000001,
            0.8471000000000001,
            0.9683,
            0.93583,
            0.89458,
            0.9907100000000001,
            0.7961400000000001,
            0.8901600000000001,
            0.8472400000000001,
            0.92383,
            0.8823300000000001,
            0.9243100000000001,
            0.9478900000000001,
            0.9980700000000001,
            0.78883,
            0.20273000000000002,
            0.94735
           ]
          },
          {
           "label": "bagging_freq",
           "range": [
            1,
            10
           ],
           "values": [
            9,
            10,
            3,
            5,
            1,
            8,
            2,
            6,
            6,
            5,
            8,
            7,
            10,
            9,
            6,
            2,
            6,
            6,
            6,
            5,
            5,
            6,
            5,
            5,
            5,
            4,
            6,
            3,
            3,
            3,
            5,
            5,
            1,
            5,
            2,
            5,
            6,
            4,
            5,
            4,
            5,
            5,
            4,
            6,
            6,
            6,
            6,
            5,
            2,
            4,
            6,
            6,
            6,
            9,
            4
           ]
          },
          {
           "label": "feature_fraction",
           "range": [
            0.045750000000000006,
            0.99938
           ],
           "values": [
            0.7753500000000001,
            0.1574,
            0.8275800000000001,
            0.5382,
            0.10316,
            0.70194,
            0.65154,
            0.21328000000000003,
            0.13948000000000002,
            0.31077000000000005,
            0.50846,
            0.5522,
            0.44099000000000005,
            0.72272,
            0.045750000000000006,
            0.9820700000000001,
            0.7688600000000001,
            0.78395,
            0.7901100000000001,
            0.75695,
            0.8186700000000001,
            0.7233600000000001,
            0.82198,
            0.8193300000000001,
            0.8207300000000001,
            0.83864,
            0.7806500000000001,
            0.8686200000000001,
            0.8333600000000001,
            0.94186,
            0.9759800000000001,
            0.8421400000000001,
            0.84957,
            0.79405,
            0.7840800000000001,
            0.9774300000000001,
            0.7661100000000001,
            0.89107,
            0.73401,
            0.74689,
            0.8872800000000001,
            0.81291,
            0.8377600000000001,
            0.63631,
            0.8978600000000001,
            0.81071,
            0.9779700000000001,
            0.8219900000000001,
            0.8023600000000001,
            0.9391700000000001,
            0.8642000000000001,
            0.8966200000000001,
            0.99938,
            0.9531000000000001,
            0.96279
           ]
          },
          {
           "label": "lambda_l1",
           "range": [
            1.478903508559157e-10,
            0.9613184659269282
           ],
           "values": [
            4.190769532032686e-08,
            6.041460126877307e-08,
            2.430670381463588e-05,
            0.005707204424495477,
            3.6149205935394825e-10,
            0.0016962344441354632,
            3.171023199526121e-06,
            1.7676581973589616e-10,
            0.006699652760528609,
            0.02559055511657422,
            2.5101902237091744e-09,
            6.053286529118694e-05,
            7.680032134506465e-09,
            4.011432492296479e-05,
            2.099195345904037e-10,
            5.382367332029674e-05,
            0.012353652946682376,
            0.034757772738954015,
            0.039909370608489834,
            0.16881758878430883,
            0.0388498825729481,
            0.029532696842855182,
            0.01028298545050479,
            3.6135049532545954e-09,
            1.478903508559157e-10,
            1.227011069785824e-07,
            0.02450037792042607,
            0.11352840380701489,
            2.2748587975108626e-07,
            4.527809916642222e-08,
            4.314165376418166e-08,
            0.02137507483730108,
            1.6940196727328555e-08,
            1.1628796175495354e-07,
            0.015427895464952114,
            0.02569250626648749,
            0.023616494754771747,
            0.9613184659269282,
            0.004046927692457569,
            6.320250218036544e-08,
            2.129507124573008e-06,
            2.3462703830513122e-08,
            2.2036894465775779e-07,
            0.04483411730832834,
            0.0009343605986360246,
            0.020696851967065878,
            1.3646111580443713e-07,
            0.02634281229188063,
            0.01178295153284529,
            2.4629365481238433e-08,
            4.4608559928170433e-07,
            3.466982605640236e-05,
            2.8572160201017174e-07,
            2.8933130964952796e-06,
            1.729722861108226e-05
           ]
          },
          {
           "label": "lambda_l2",
           "range": [
            1.826204955215084e-10,
            0.2357710515878792
           ],
           "values": [
            2.9243995575572755e-07,
            9.77321417339999e-07,
            4.229898506707588e-09,
            1.4451274560745578e-08,
            1.826204955215084e-10,
            2.786169105788682e-10,
            4.0621397397547645e-05,
            1.9073953331102264e-10,
            0.16557401978177086,
            1.726473140498578e-07,
            1.2684721699235798e-07,
            3.488173169953946e-05,
            0.0005031897827281434,
            2.77425008076795e-05,
            0.003409968794066605,
            2.5997597518113498e-05,
            9.501376508641236e-06,
            1.8725871470218733e-05,
            1.5660674558683138e-05,
            8.9407829969999e-06,
            2.6521859621510675e-05,
            1.6844893462165502e-05,
            1.575512151901803e-06,
            7.070306702654158e-06,
            1.4948871820876206e-06,
            4.960483034958708e-05,
            4.827002445394728e-06,
            8.336616846056928e-07,
            7.800221611678017e-06,
            4.629991686614376e-06,
            3.275300827242902e-05,
            0.0001424929047008975,
            7.893636966689784e-06,
            0.0910720364788471,
            3.343249213218287e-08,
            5.559790277162444e-05,
            0.02401934958640194,
            2.9282089317098454e-09,
            6.332308695649544e-06,
            1.3204771967661877e-05,
            0.0002667312377227386,
            1.2523891840403347e-05,
            4.848658558441794e-06,
            2.707327246890015e-07,
            1.7137918967551168e-09,
            5.7457464773115e-06,
            0.00014206760288108772,
            0.06571802794225667,
            0.02582779959687494,
            0.03342542464959561,
            7.131034410535666e-08,
            6.973370593230233e-08,
            3.2855469487506962e-09,
            0.2357710515878792,
            1.2735999715581825e-08
           ]
          },
          {
           "label": "max_bin",
           "range": [
            2,
            256
           ],
           "values": [
            9,
            11,
            2,
            6,
            144,
            132,
            127,
            75,
            28,
            30,
            44,
            121,
            50,
            255,
            139,
            254,
            234,
            234,
            227,
            196,
            239,
            198,
            232,
            228,
            236,
            230,
            193,
            148,
            170,
            211,
            148,
            185,
            187,
            255,
            59,
            229,
            237,
            5,
            188,
            207,
            108,
            185,
            255,
            104,
            176,
            141,
            242,
            256,
            255,
            142,
            134,
            237,
            150,
            113,
            247
           ]
          },
          {
           "label": "max_depth",
           "range": [
            3,
            107
           ],
           "values": [
            3,
            31,
            8,
            43,
            65,
            14,
            28,
            19,
            42,
            101,
            15,
            18,
            5,
            42,
            95,
            26,
            60,
            62,
            64,
            73,
            54,
            60,
            53,
            82,
            70,
            71,
            51,
            41,
            51,
            44,
            54,
            51,
            63,
            71,
            20,
            41,
            46,
            8,
            75,
            60,
            99,
            66,
            55,
            12,
            20,
            47,
            18,
            67,
            76,
            44,
            18,
            14,
            93,
            107,
            57
           ]
          },
          {
           "label": "min_child_samples",
           "range": [
            1,
            38
           ],
           "values": [
            32,
            5,
            38,
            27,
            26,
            32,
            33,
            2,
            6,
            5,
            18,
            22,
            26,
            34,
            12,
            34,
            5,
            4,
            3,
            1,
            4,
            2,
            6,
            6,
            6,
            4,
            4,
            4,
            4,
            5,
            4,
            5,
            4,
            5,
            10,
            6,
            4,
            9,
            3,
            4,
            5,
            4,
            2,
            16,
            18,
            6,
            19,
            4,
            5,
            6,
            12,
            4,
            10,
            36,
            1
           ]
          },
          {
           "label": "num_leaves",
           "range": [
            8,
            4011
           ],
           "values": [
            668,
            469,
            359,
            1849,
            252,
            136,
            1717,
            80,
            665,
            240,
            281,
            162,
            41,
            1141,
            298,
            845,
            3776,
            4011,
            3948,
            2891,
            3486,
            3224,
            2741,
            2837,
            2723,
            3087,
            2784,
            2203,
            2801,
            2595,
            2546,
            3113,
            2901,
            2373,
            69,
            2243,
            2976,
            8,
            2764,
            3261,
            813,
            3120,
            1878,
            121,
            493,
            2447,
            560,
            3070,
            3057,
            2447,
            546,
            556,
            1267,
            103,
            424
           ]
          },
          {
           "label": "subsample_for_bin",
           "range": [
            1000,
            1996000
           ],
           "values": [
            1026000,
            1416000,
            1451000,
            241000,
            251000,
            1256000,
            1681000,
            161000,
            1446000,
            1241000,
            1661000,
            1531000,
            516000,
            1506000,
            1916000,
            1991000,
            71000,
            1000,
            1000,
            41000,
            176000,
            176000,
            36000,
            56000,
            126000,
            46000,
            1441000,
            1541000,
            1566000,
            1666000,
            1646000,
            1671000,
            1681000,
            1596000,
            331000,
            51000,
            1401000,
            681000,
            226000,
            1286000,
            1996000,
            1416000,
            1621000,
            1376000,
            1306000,
            1501000,
            1256000,
            1616000,
            1316000,
            1561000,
            1311000,
            1271000,
            1181000,
            1711000,
            1326000
           ]
          }
         ],
         "labelangle": 30,
         "labelside": "bottom",
         "line": {
          "color": [
           0.8782588486480372,
           0.8783347866326967,
           0.8872704823405171,
           0.8795989055382321,
           0.8774127063587428,
           0.8768915073594822,
           0.8792305208780272,
           0.8772873815999777,
           0.8778989129832125,
           0.8774263678955947,
           0.8772704556994618,
           0.8769799000905588,
           0.8775685971057826,
           0.8786019684041355,
           0.8780936696928814,
           0.8779834597865264,
           0.8804133456502622,
           0.8803676827902214,
           0.8801967857337322,
           0.8795815495884886,
           0.8801512409210244,
           0.8797492735982025,
           0.8797173339111893,
           0.879724447466626,
           0.8796660442518033,
           0.8796239463822547,
           0.8795070854488578,
           0.8791432566921316,
           0.8794054589584558,
           0.8794195497426309,
           0.8794825535195016,
           0.8799646055336803,
           0.8795398764123207,
           0.8792636138856843,
           0.8769946134686133,
           0.8792318767434756,
           0.8796562540057342,
           0.8793488754653702,
           0.8794105470805865,
           0.879814841336538,
           0.8778587605922363,
           0.8797482869634697,
           0.8786475885848659,
           0.8769418284226108,
           0.8773308962262908,
           0.8794238681069926,
           0.8775317419151152,
           0.8797441691678429,
           0.8797890487632843,
           0.8795090651072899,
           0.8774980614899324,
           0.8776366178674092,
           0.8785040238581064,
           0.8771350528185432,
           0.877184793347779
          ],
          "colorbar": {
           "title": {
            "text": "Objective Value"
           }
          },
          "colorscale": [
           [
            0,
            "rgb(247,251,255)"
           ],
           [
            0.125,
            "rgb(222,235,247)"
           ],
           [
            0.25,
            "rgb(198,219,239)"
           ],
           [
            0.375,
            "rgb(158,202,225)"
           ],
           [
            0.5,
            "rgb(107,174,214)"
           ],
           [
            0.625,
            "rgb(66,146,198)"
           ],
           [
            0.75,
            "rgb(33,113,181)"
           ],
           [
            0.875,
            "rgb(8,81,156)"
           ],
           [
            1,
            "rgb(8,48,107)"
           ]
          ],
          "reversescale": true,
          "showscale": true
         },
         "type": "parcoords"
        }
       ],
       "layout": {
        "template": {
         "data": {
          "bar": [
           {
            "error_x": {
             "color": "#2a3f5f"
            },
            "error_y": {
             "color": "#2a3f5f"
            },
            "marker": {
             "line": {
              "color": "#E5ECF6",
              "width": 0.5
             }
            },
            "type": "bar"
           }
          ],
          "barpolar": [
           {
            "marker": {
             "line": {
              "color": "#E5ECF6",
              "width": 0.5
             }
            },
            "type": "barpolar"
           }
          ],
          "carpet": [
           {
            "aaxis": {
             "endlinecolor": "#2a3f5f",
             "gridcolor": "white",
             "linecolor": "white",
             "minorgridcolor": "white",
             "startlinecolor": "#2a3f5f"
            },
            "baxis": {
             "endlinecolor": "#2a3f5f",
             "gridcolor": "white",
             "linecolor": "white",
             "minorgridcolor": "white",
             "startlinecolor": "#2a3f5f"
            },
            "type": "carpet"
           }
          ],
          "choropleth": [
           {
            "colorbar": {
             "outlinewidth": 0,
             "ticks": ""
            },
            "type": "choropleth"
           }
          ],
          "contour": [
           {
            "colorbar": {
             "outlinewidth": 0,
             "ticks": ""
            },
            "colorscale": [
             [
              0,
              "#0d0887"
             ],
             [
              0.1111111111111111,
              "#46039f"
             ],
             [
              0.2222222222222222,
              "#7201a8"
             ],
             [
              0.3333333333333333,
              "#9c179e"
             ],
             [
              0.4444444444444444,
              "#bd3786"
             ],
             [
              0.5555555555555556,
              "#d8576b"
             ],
             [
              0.6666666666666666,
              "#ed7953"
             ],
             [
              0.7777777777777778,
              "#fb9f3a"
             ],
             [
              0.8888888888888888,
              "#fdca26"
             ],
             [
              1,
              "#f0f921"
             ]
            ],
            "type": "contour"
           }
          ],
          "contourcarpet": [
           {
            "colorbar": {
             "outlinewidth": 0,
             "ticks": ""
            },
            "type": "contourcarpet"
           }
          ],
          "heatmap": [
           {
            "colorbar": {
             "outlinewidth": 0,
             "ticks": ""
            },
            "colorscale": [
             [
              0,
              "#0d0887"
             ],
             [
              0.1111111111111111,
              "#46039f"
             ],
             [
              0.2222222222222222,
              "#7201a8"
             ],
             [
              0.3333333333333333,
              "#9c179e"
             ],
             [
              0.4444444444444444,
              "#bd3786"
             ],
             [
              0.5555555555555556,
              "#d8576b"
             ],
             [
              0.6666666666666666,
              "#ed7953"
             ],
             [
              0.7777777777777778,
              "#fb9f3a"
             ],
             [
              0.8888888888888888,
              "#fdca26"
             ],
             [
              1,
              "#f0f921"
             ]
            ],
            "type": "heatmap"
           }
          ],
          "heatmapgl": [
           {
            "colorbar": {
             "outlinewidth": 0,
             "ticks": ""
            },
            "colorscale": [
             [
              0,
              "#0d0887"
             ],
             [
              0.1111111111111111,
              "#46039f"
             ],
             [
              0.2222222222222222,
              "#7201a8"
             ],
             [
              0.3333333333333333,
              "#9c179e"
             ],
             [
              0.4444444444444444,
              "#bd3786"
             ],
             [
              0.5555555555555556,
              "#d8576b"
             ],
             [
              0.6666666666666666,
              "#ed7953"
             ],
             [
              0.7777777777777778,
              "#fb9f3a"
             ],
             [
              0.8888888888888888,
              "#fdca26"
             ],
             [
              1,
              "#f0f921"
             ]
            ],
            "type": "heatmapgl"
           }
          ],
          "histogram": [
           {
            "marker": {
             "colorbar": {
              "outlinewidth": 0,
              "ticks": ""
             }
            },
            "type": "histogram"
           }
          ],
          "histogram2d": [
           {
            "colorbar": {
             "outlinewidth": 0,
             "ticks": ""
            },
            "colorscale": [
             [
              0,
              "#0d0887"
             ],
             [
              0.1111111111111111,
              "#46039f"
             ],
             [
              0.2222222222222222,
              "#7201a8"
             ],
             [
              0.3333333333333333,
              "#9c179e"
             ],
             [
              0.4444444444444444,
              "#bd3786"
             ],
             [
              0.5555555555555556,
              "#d8576b"
             ],
             [
              0.6666666666666666,
              "#ed7953"
             ],
             [
              0.7777777777777778,
              "#fb9f3a"
             ],
             [
              0.8888888888888888,
              "#fdca26"
             ],
             [
              1,
              "#f0f921"
             ]
            ],
            "type": "histogram2d"
           }
          ],
          "histogram2dcontour": [
           {
            "colorbar": {
             "outlinewidth": 0,
             "ticks": ""
            },
            "colorscale": [
             [
              0,
              "#0d0887"
             ],
             [
              0.1111111111111111,
              "#46039f"
             ],
             [
              0.2222222222222222,
              "#7201a8"
             ],
             [
              0.3333333333333333,
              "#9c179e"
             ],
             [
              0.4444444444444444,
              "#bd3786"
             ],
             [
              0.5555555555555556,
              "#d8576b"
             ],
             [
              0.6666666666666666,
              "#ed7953"
             ],
             [
              0.7777777777777778,
              "#fb9f3a"
             ],
             [
              0.8888888888888888,
              "#fdca26"
             ],
             [
              1,
              "#f0f921"
             ]
            ],
            "type": "histogram2dcontour"
           }
          ],
          "mesh3d": [
           {
            "colorbar": {
             "outlinewidth": 0,
             "ticks": ""
            },
            "type": "mesh3d"
           }
          ],
          "parcoords": [
           {
            "line": {
             "colorbar": {
              "outlinewidth": 0,
              "ticks": ""
             }
            },
            "type": "parcoords"
           }
          ],
          "pie": [
           {
            "automargin": true,
            "type": "pie"
           }
          ],
          "scatter": [
           {
            "marker": {
             "colorbar": {
              "outlinewidth": 0,
              "ticks": ""
             }
            },
            "type": "scatter"
           }
          ],
          "scatter3d": [
           {
            "line": {
             "colorbar": {
              "outlinewidth": 0,
              "ticks": ""
             }
            },
            "marker": {
             "colorbar": {
              "outlinewidth": 0,
              "ticks": ""
             }
            },
            "type": "scatter3d"
           }
          ],
          "scattercarpet": [
           {
            "marker": {
             "colorbar": {
              "outlinewidth": 0,
              "ticks": ""
             }
            },
            "type": "scattercarpet"
           }
          ],
          "scattergeo": [
           {
            "marker": {
             "colorbar": {
              "outlinewidth": 0,
              "ticks": ""
             }
            },
            "type": "scattergeo"
           }
          ],
          "scattergl": [
           {
            "marker": {
             "colorbar": {
              "outlinewidth": 0,
              "ticks": ""
             }
            },
            "type": "scattergl"
           }
          ],
          "scattermapbox": [
           {
            "marker": {
             "colorbar": {
              "outlinewidth": 0,
              "ticks": ""
             }
            },
            "type": "scattermapbox"
           }
          ],
          "scatterpolar": [
           {
            "marker": {
             "colorbar": {
              "outlinewidth": 0,
              "ticks": ""
             }
            },
            "type": "scatterpolar"
           }
          ],
          "scatterpolargl": [
           {
            "marker": {
             "colorbar": {
              "outlinewidth": 0,
              "ticks": ""
             }
            },
            "type": "scatterpolargl"
           }
          ],
          "scatterternary": [
           {
            "marker": {
             "colorbar": {
              "outlinewidth": 0,
              "ticks": ""
             }
            },
            "type": "scatterternary"
           }
          ],
          "surface": [
           {
            "colorbar": {
             "outlinewidth": 0,
             "ticks": ""
            },
            "colorscale": [
             [
              0,
              "#0d0887"
             ],
             [
              0.1111111111111111,
              "#46039f"
             ],
             [
              0.2222222222222222,
              "#7201a8"
             ],
             [
              0.3333333333333333,
              "#9c179e"
             ],
             [
              0.4444444444444444,
              "#bd3786"
             ],
             [
              0.5555555555555556,
              "#d8576b"
             ],
             [
              0.6666666666666666,
              "#ed7953"
             ],
             [
              0.7777777777777778,
              "#fb9f3a"
             ],
             [
              0.8888888888888888,
              "#fdca26"
             ],
             [
              1,
              "#f0f921"
             ]
            ],
            "type": "surface"
           }
          ],
          "table": [
           {
            "cells": {
             "fill": {
              "color": "#EBF0F8"
             },
             "line": {
              "color": "white"
             }
            },
            "header": {
             "fill": {
              "color": "#C8D4E3"
             },
             "line": {
              "color": "white"
             }
            },
            "type": "table"
           }
          ]
         },
         "layout": {
          "annotationdefaults": {
           "arrowcolor": "#2a3f5f",
           "arrowhead": 0,
           "arrowwidth": 1
          },
          "autotypenumbers": "strict",
          "coloraxis": {
           "colorbar": {
            "outlinewidth": 0,
            "ticks": ""
           }
          },
          "colorscale": {
           "diverging": [
            [
             0,
             "#8e0152"
            ],
            [
             0.1,
             "#c51b7d"
            ],
            [
             0.2,
             "#de77ae"
            ],
            [
             0.3,
             "#f1b6da"
            ],
            [
             0.4,
             "#fde0ef"
            ],
            [
             0.5,
             "#f7f7f7"
            ],
            [
             0.6,
             "#e6f5d0"
            ],
            [
             0.7,
             "#b8e186"
            ],
            [
             0.8,
             "#7fbc41"
            ],
            [
             0.9,
             "#4d9221"
            ],
            [
             1,
             "#276419"
            ]
           ],
           "sequential": [
            [
             0,
             "#0d0887"
            ],
            [
             0.1111111111111111,
             "#46039f"
            ],
            [
             0.2222222222222222,
             "#7201a8"
            ],
            [
             0.3333333333333333,
             "#9c179e"
            ],
            [
             0.4444444444444444,
             "#bd3786"
            ],
            [
             0.5555555555555556,
             "#d8576b"
            ],
            [
             0.6666666666666666,
             "#ed7953"
            ],
            [
             0.7777777777777778,
             "#fb9f3a"
            ],
            [
             0.8888888888888888,
             "#fdca26"
            ],
            [
             1,
             "#f0f921"
            ]
           ],
           "sequentialminus": [
            [
             0,
             "#0d0887"
            ],
            [
             0.1111111111111111,
             "#46039f"
            ],
            [
             0.2222222222222222,
             "#7201a8"
            ],
            [
             0.3333333333333333,
             "#9c179e"
            ],
            [
             0.4444444444444444,
             "#bd3786"
            ],
            [
             0.5555555555555556,
             "#d8576b"
            ],
            [
             0.6666666666666666,
             "#ed7953"
            ],
            [
             0.7777777777777778,
             "#fb9f3a"
            ],
            [
             0.8888888888888888,
             "#fdca26"
            ],
            [
             1,
             "#f0f921"
            ]
           ]
          },
          "colorway": [
           "#636efa",
           "#EF553B",
           "#00cc96",
           "#ab63fa",
           "#FFA15A",
           "#19d3f3",
           "#FF6692",
           "#B6E880",
           "#FF97FF",
           "#FECB52"
          ],
          "font": {
           "color": "#2a3f5f"
          },
          "geo": {
           "bgcolor": "white",
           "lakecolor": "white",
           "landcolor": "#E5ECF6",
           "showlakes": true,
           "showland": true,
           "subunitcolor": "white"
          },
          "hoverlabel": {
           "align": "left"
          },
          "hovermode": "closest",
          "mapbox": {
           "style": "light"
          },
          "paper_bgcolor": "white",
          "plot_bgcolor": "#E5ECF6",
          "polar": {
           "angularaxis": {
            "gridcolor": "white",
            "linecolor": "white",
            "ticks": ""
           },
           "bgcolor": "#E5ECF6",
           "radialaxis": {
            "gridcolor": "white",
            "linecolor": "white",
            "ticks": ""
           }
          },
          "scene": {
           "xaxis": {
            "backgroundcolor": "#E5ECF6",
            "gridcolor": "white",
            "gridwidth": 2,
            "linecolor": "white",
            "showbackground": true,
            "ticks": "",
            "zerolinecolor": "white"
           },
           "yaxis": {
            "backgroundcolor": "#E5ECF6",
            "gridcolor": "white",
            "gridwidth": 2,
            "linecolor": "white",
            "showbackground": true,
            "ticks": "",
            "zerolinecolor": "white"
           },
           "zaxis": {
            "backgroundcolor": "#E5ECF6",
            "gridcolor": "white",
            "gridwidth": 2,
            "linecolor": "white",
            "showbackground": true,
            "ticks": "",
            "zerolinecolor": "white"
           }
          },
          "shapedefaults": {
           "line": {
            "color": "#2a3f5f"
           }
          },
          "ternary": {
           "aaxis": {
            "gridcolor": "white",
            "linecolor": "white",
            "ticks": ""
           },
           "baxis": {
            "gridcolor": "white",
            "linecolor": "white",
            "ticks": ""
           },
           "bgcolor": "#E5ECF6",
           "caxis": {
            "gridcolor": "white",
            "linecolor": "white",
            "ticks": ""
           }
          },
          "title": {
           "x": 0.05
          },
          "xaxis": {
           "automargin": true,
           "gridcolor": "white",
           "linecolor": "white",
           "ticks": "",
           "title": {
            "standoff": 15
           },
           "zerolinecolor": "white",
           "zerolinewidth": 2
          },
          "yaxis": {
           "automargin": true,
           "gridcolor": "white",
           "linecolor": "white",
           "ticks": "",
           "title": {
            "standoff": 15
           },
           "zerolinecolor": "white",
           "zerolinewidth": 2
          }
         }
        },
        "title": {
         "text": "Parallel Coordinate Plot"
        }
       }
      },
      "text/html": [
       "<div>                            <div id=\"22cae90f-d149-413a-a564-13bbad84dff8\" class=\"plotly-graph-div\" style=\"height:525px; width:100%;\"></div>            <script type=\"text/javascript\">                require([\"plotly\"], function(Plotly) {                    window.PLOTLYENV=window.PLOTLYENV || {};                                    if (document.getElementById(\"22cae90f-d149-413a-a564-13bbad84dff8\")) {                    Plotly.newPlot(                        \"22cae90f-d149-413a-a564-13bbad84dff8\",                        [{\"dimensions\": [{\"label\": \"Objective Value\", \"range\": [0.8768915073594822, 0.8872704823405171], \"values\": [0.8782588486480372, 0.8783347866326967, 0.8872704823405171, 0.8795989055382321, 0.8774127063587428, 0.8768915073594822, 0.8792305208780272, 0.8772873815999777, 0.8778989129832125, 0.8774263678955947, 0.8772704556994618, 0.8769799000905588, 0.8775685971057826, 0.8786019684041355, 0.8780936696928814, 0.8779834597865264, 0.8804133456502622, 0.8803676827902214, 0.8801967857337322, 0.8795815495884886, 0.8801512409210244, 0.8797492735982025, 0.8797173339111893, 0.879724447466626, 0.8796660442518033, 0.8796239463822547, 0.8795070854488578, 0.8791432566921316, 0.8794054589584558, 0.8794195497426309, 0.8794825535195016, 0.8799646055336803, 0.8795398764123207, 0.8792636138856843, 0.8769946134686133, 0.8792318767434756, 0.8796562540057342, 0.8793488754653702, 0.8794105470805865, 0.879814841336538, 0.8778587605922363, 0.8797482869634697, 0.8786475885848659, 0.8769418284226108, 0.8773308962262908, 0.8794238681069926, 0.8775317419151152, 0.8797441691678429, 0.8797890487632843, 0.8795090651072899, 0.8774980614899324, 0.8776366178674092, 0.8785040238581064, 0.8771350528185432, 0.877184793347779]}, {\"label\": \"bagging_fraction\", \"range\": [0.06506, 0.9980700000000001], \"values\": [0.66239, 0.22753, 0.9433, 0.35809, 0.6096400000000001, 0.79834, 0.86948, 0.12841000000000002, 0.9681400000000001, 0.6452000000000001, 0.6822400000000001, 0.9968000000000001, 0.06506, 0.53966, 0.20512000000000002, 0.77712, 0.42175, 0.48453, 0.48216000000000003, 0.45378, 0.42650000000000005, 0.52642, 0.44029, 0.48969, 0.48758, 0.8377300000000001, 0.8547300000000001, 0.8531900000000001, 0.7722600000000001, 0.87055, 0.8714000000000001, 0.96701, 0.87894, 0.9082100000000001, 0.8460700000000001, 0.8941800000000001, 0.9247700000000001, 0.17839000000000002, 0.9248200000000001, 0.8471000000000001, 0.9683, 0.93583, 0.89458, 0.9907100000000001, 0.7961400000000001, 0.8901600000000001, 0.8472400000000001, 0.92383, 0.8823300000000001, 0.9243100000000001, 0.9478900000000001, 0.9980700000000001, 0.78883, 0.20273000000000002, 0.94735]}, {\"label\": \"bagging_freq\", \"range\": [1, 10], \"values\": [9, 10, 3, 5, 1, 8, 2, 6, 6, 5, 8, 7, 10, 9, 6, 2, 6, 6, 6, 5, 5, 6, 5, 5, 5, 4, 6, 3, 3, 3, 5, 5, 1, 5, 2, 5, 6, 4, 5, 4, 5, 5, 4, 6, 6, 6, 6, 5, 2, 4, 6, 6, 6, 9, 4]}, {\"label\": \"feature_fraction\", \"range\": [0.045750000000000006, 0.99938], \"values\": [0.7753500000000001, 0.1574, 0.8275800000000001, 0.5382, 0.10316, 0.70194, 0.65154, 0.21328000000000003, 0.13948000000000002, 0.31077000000000005, 0.50846, 0.5522, 0.44099000000000005, 0.72272, 0.045750000000000006, 0.9820700000000001, 0.7688600000000001, 0.78395, 0.7901100000000001, 0.75695, 0.8186700000000001, 0.7233600000000001, 0.82198, 0.8193300000000001, 0.8207300000000001, 0.83864, 0.7806500000000001, 0.8686200000000001, 0.8333600000000001, 0.94186, 0.9759800000000001, 0.8421400000000001, 0.84957, 0.79405, 0.7840800000000001, 0.9774300000000001, 0.7661100000000001, 0.89107, 0.73401, 0.74689, 0.8872800000000001, 0.81291, 0.8377600000000001, 0.63631, 0.8978600000000001, 0.81071, 0.9779700000000001, 0.8219900000000001, 0.8023600000000001, 0.9391700000000001, 0.8642000000000001, 0.8966200000000001, 0.99938, 0.9531000000000001, 0.96279]}, {\"label\": \"lambda_l1\", \"range\": [1.478903508559157e-10, 0.9613184659269282], \"values\": [4.190769532032686e-08, 6.041460126877307e-08, 2.430670381463588e-05, 0.005707204424495477, 3.6149205935394825e-10, 0.0016962344441354632, 3.171023199526121e-06, 1.7676581973589616e-10, 0.006699652760528609, 0.02559055511657422, 2.5101902237091744e-09, 6.053286529118694e-05, 7.680032134506465e-09, 4.011432492296479e-05, 2.099195345904037e-10, 5.382367332029674e-05, 0.012353652946682376, 0.034757772738954015, 0.039909370608489834, 0.16881758878430883, 0.0388498825729481, 0.029532696842855182, 0.01028298545050479, 3.6135049532545954e-09, 1.478903508559157e-10, 1.227011069785824e-07, 0.02450037792042607, 0.11352840380701489, 2.2748587975108626e-07, 4.527809916642222e-08, 4.314165376418166e-08, 0.02137507483730108, 1.6940196727328555e-08, 1.1628796175495354e-07, 0.015427895464952114, 0.02569250626648749, 0.023616494754771747, 0.9613184659269282, 0.004046927692457569, 6.320250218036544e-08, 2.129507124573008e-06, 2.3462703830513122e-08, 2.2036894465775779e-07, 0.04483411730832834, 0.0009343605986360246, 0.020696851967065878, 1.3646111580443713e-07, 0.02634281229188063, 0.01178295153284529, 2.4629365481238433e-08, 4.4608559928170433e-07, 3.466982605640236e-05, 2.8572160201017174e-07, 2.8933130964952796e-06, 1.729722861108226e-05]}, {\"label\": \"lambda_l2\", \"range\": [1.826204955215084e-10, 0.2357710515878792], \"values\": [2.9243995575572755e-07, 9.77321417339999e-07, 4.229898506707588e-09, 1.4451274560745578e-08, 1.826204955215084e-10, 2.786169105788682e-10, 4.0621397397547645e-05, 1.9073953331102264e-10, 0.16557401978177086, 1.726473140498578e-07, 1.2684721699235798e-07, 3.488173169953946e-05, 0.0005031897827281434, 2.77425008076795e-05, 0.003409968794066605, 2.5997597518113498e-05, 9.501376508641236e-06, 1.8725871470218733e-05, 1.5660674558683138e-05, 8.9407829969999e-06, 2.6521859621510675e-05, 1.6844893462165502e-05, 1.575512151901803e-06, 7.070306702654158e-06, 1.4948871820876206e-06, 4.960483034958708e-05, 4.827002445394728e-06, 8.336616846056928e-07, 7.800221611678017e-06, 4.629991686614376e-06, 3.275300827242902e-05, 0.0001424929047008975, 7.893636966689784e-06, 0.0910720364788471, 3.343249213218287e-08, 5.559790277162444e-05, 0.02401934958640194, 2.9282089317098454e-09, 6.332308695649544e-06, 1.3204771967661877e-05, 0.0002667312377227386, 1.2523891840403347e-05, 4.848658558441794e-06, 2.707327246890015e-07, 1.7137918967551168e-09, 5.7457464773115e-06, 0.00014206760288108772, 0.06571802794225667, 0.02582779959687494, 0.03342542464959561, 7.131034410535666e-08, 6.973370593230233e-08, 3.2855469487506962e-09, 0.2357710515878792, 1.2735999715581825e-08]}, {\"label\": \"max_bin\", \"range\": [2, 256], \"values\": [9, 11, 2, 6, 144, 132, 127, 75, 28, 30, 44, 121, 50, 255, 139, 254, 234, 234, 227, 196, 239, 198, 232, 228, 236, 230, 193, 148, 170, 211, 148, 185, 187, 255, 59, 229, 237, 5, 188, 207, 108, 185, 255, 104, 176, 141, 242, 256, 255, 142, 134, 237, 150, 113, 247]}, {\"label\": \"max_depth\", \"range\": [3, 107], \"values\": [3, 31, 8, 43, 65, 14, 28, 19, 42, 101, 15, 18, 5, 42, 95, 26, 60, 62, 64, 73, 54, 60, 53, 82, 70, 71, 51, 41, 51, 44, 54, 51, 63, 71, 20, 41, 46, 8, 75, 60, 99, 66, 55, 12, 20, 47, 18, 67, 76, 44, 18, 14, 93, 107, 57]}, {\"label\": \"min_child_samples\", \"range\": [1, 38], \"values\": [32, 5, 38, 27, 26, 32, 33, 2, 6, 5, 18, 22, 26, 34, 12, 34, 5, 4, 3, 1, 4, 2, 6, 6, 6, 4, 4, 4, 4, 5, 4, 5, 4, 5, 10, 6, 4, 9, 3, 4, 5, 4, 2, 16, 18, 6, 19, 4, 5, 6, 12, 4, 10, 36, 1]}, {\"label\": \"num_leaves\", \"range\": [8, 4011], \"values\": [668, 469, 359, 1849, 252, 136, 1717, 80, 665, 240, 281, 162, 41, 1141, 298, 845, 3776, 4011, 3948, 2891, 3486, 3224, 2741, 2837, 2723, 3087, 2784, 2203, 2801, 2595, 2546, 3113, 2901, 2373, 69, 2243, 2976, 8, 2764, 3261, 813, 3120, 1878, 121, 493, 2447, 560, 3070, 3057, 2447, 546, 556, 1267, 103, 424]}, {\"label\": \"subsample_for_bin\", \"range\": [1000, 1996000], \"values\": [1026000, 1416000, 1451000, 241000, 251000, 1256000, 1681000, 161000, 1446000, 1241000, 1661000, 1531000, 516000, 1506000, 1916000, 1991000, 71000, 1000, 1000, 41000, 176000, 176000, 36000, 56000, 126000, 46000, 1441000, 1541000, 1566000, 1666000, 1646000, 1671000, 1681000, 1596000, 331000, 51000, 1401000, 681000, 226000, 1286000, 1996000, 1416000, 1621000, 1376000, 1306000, 1501000, 1256000, 1616000, 1316000, 1561000, 1311000, 1271000, 1181000, 1711000, 1326000]}], \"labelangle\": 30, \"labelside\": \"bottom\", \"line\": {\"color\": [0.8782588486480372, 0.8783347866326967, 0.8872704823405171, 0.8795989055382321, 0.8774127063587428, 0.8768915073594822, 0.8792305208780272, 0.8772873815999777, 0.8778989129832125, 0.8774263678955947, 0.8772704556994618, 0.8769799000905588, 0.8775685971057826, 0.8786019684041355, 0.8780936696928814, 0.8779834597865264, 0.8804133456502622, 0.8803676827902214, 0.8801967857337322, 0.8795815495884886, 0.8801512409210244, 0.8797492735982025, 0.8797173339111893, 0.879724447466626, 0.8796660442518033, 0.8796239463822547, 0.8795070854488578, 0.8791432566921316, 0.8794054589584558, 0.8794195497426309, 0.8794825535195016, 0.8799646055336803, 0.8795398764123207, 0.8792636138856843, 0.8769946134686133, 0.8792318767434756, 0.8796562540057342, 0.8793488754653702, 0.8794105470805865, 0.879814841336538, 0.8778587605922363, 0.8797482869634697, 0.8786475885848659, 0.8769418284226108, 0.8773308962262908, 0.8794238681069926, 0.8775317419151152, 0.8797441691678429, 0.8797890487632843, 0.8795090651072899, 0.8774980614899324, 0.8776366178674092, 0.8785040238581064, 0.8771350528185432, 0.877184793347779], \"colorbar\": {\"title\": {\"text\": \"Objective Value\"}}, \"colorscale\": [[0.0, \"rgb(247,251,255)\"], [0.125, \"rgb(222,235,247)\"], [0.25, \"rgb(198,219,239)\"], [0.375, \"rgb(158,202,225)\"], [0.5, \"rgb(107,174,214)\"], [0.625, \"rgb(66,146,198)\"], [0.75, \"rgb(33,113,181)\"], [0.875, \"rgb(8,81,156)\"], [1.0, \"rgb(8,48,107)\"]], \"reversescale\": true, \"showscale\": true}, \"type\": \"parcoords\"}],                        {\"template\": {\"data\": {\"bar\": [{\"error_x\": {\"color\": \"#2a3f5f\"}, \"error_y\": {\"color\": \"#2a3f5f\"}, \"marker\": {\"line\": {\"color\": \"#E5ECF6\", \"width\": 0.5}}, \"type\": \"bar\"}], \"barpolar\": [{\"marker\": {\"line\": {\"color\": \"#E5ECF6\", \"width\": 0.5}}, \"type\": \"barpolar\"}], \"carpet\": [{\"aaxis\": {\"endlinecolor\": \"#2a3f5f\", \"gridcolor\": \"white\", \"linecolor\": \"white\", \"minorgridcolor\": \"white\", \"startlinecolor\": \"#2a3f5f\"}, \"baxis\": {\"endlinecolor\": \"#2a3f5f\", \"gridcolor\": \"white\", \"linecolor\": \"white\", \"minorgridcolor\": \"white\", \"startlinecolor\": \"#2a3f5f\"}, \"type\": \"carpet\"}], \"choropleth\": [{\"colorbar\": {\"outlinewidth\": 0, \"ticks\": \"\"}, \"type\": \"choropleth\"}], \"contour\": [{\"colorbar\": {\"outlinewidth\": 0, \"ticks\": \"\"}, \"colorscale\": [[0.0, \"#0d0887\"], [0.1111111111111111, \"#46039f\"], [0.2222222222222222, \"#7201a8\"], [0.3333333333333333, \"#9c179e\"], [0.4444444444444444, \"#bd3786\"], [0.5555555555555556, \"#d8576b\"], [0.6666666666666666, \"#ed7953\"], [0.7777777777777778, \"#fb9f3a\"], [0.8888888888888888, \"#fdca26\"], [1.0, \"#f0f921\"]], \"type\": \"contour\"}], \"contourcarpet\": [{\"colorbar\": {\"outlinewidth\": 0, \"ticks\": \"\"}, \"type\": \"contourcarpet\"}], \"heatmap\": [{\"colorbar\": {\"outlinewidth\": 0, \"ticks\": \"\"}, \"colorscale\": [[0.0, \"#0d0887\"], [0.1111111111111111, \"#46039f\"], [0.2222222222222222, \"#7201a8\"], [0.3333333333333333, \"#9c179e\"], [0.4444444444444444, \"#bd3786\"], [0.5555555555555556, \"#d8576b\"], [0.6666666666666666, \"#ed7953\"], [0.7777777777777778, \"#fb9f3a\"], [0.8888888888888888, \"#fdca26\"], [1.0, \"#f0f921\"]], \"type\": \"heatmap\"}], \"heatmapgl\": [{\"colorbar\": {\"outlinewidth\": 0, \"ticks\": \"\"}, \"colorscale\": [[0.0, \"#0d0887\"], [0.1111111111111111, \"#46039f\"], [0.2222222222222222, \"#7201a8\"], [0.3333333333333333, \"#9c179e\"], [0.4444444444444444, \"#bd3786\"], [0.5555555555555556, \"#d8576b\"], [0.6666666666666666, \"#ed7953\"], [0.7777777777777778, \"#fb9f3a\"], [0.8888888888888888, \"#fdca26\"], [1.0, \"#f0f921\"]], \"type\": \"heatmapgl\"}], \"histogram\": [{\"marker\": {\"colorbar\": {\"outlinewidth\": 0, \"ticks\": \"\"}}, \"type\": \"histogram\"}], \"histogram2d\": [{\"colorbar\": {\"outlinewidth\": 0, \"ticks\": \"\"}, \"colorscale\": [[0.0, \"#0d0887\"], [0.1111111111111111, \"#46039f\"], [0.2222222222222222, \"#7201a8\"], [0.3333333333333333, \"#9c179e\"], [0.4444444444444444, \"#bd3786\"], [0.5555555555555556, \"#d8576b\"], [0.6666666666666666, \"#ed7953\"], [0.7777777777777778, \"#fb9f3a\"], [0.8888888888888888, \"#fdca26\"], [1.0, \"#f0f921\"]], \"type\": \"histogram2d\"}], \"histogram2dcontour\": [{\"colorbar\": {\"outlinewidth\": 0, \"ticks\": \"\"}, \"colorscale\": [[0.0, \"#0d0887\"], [0.1111111111111111, \"#46039f\"], [0.2222222222222222, \"#7201a8\"], [0.3333333333333333, \"#9c179e\"], [0.4444444444444444, \"#bd3786\"], [0.5555555555555556, \"#d8576b\"], [0.6666666666666666, \"#ed7953\"], [0.7777777777777778, \"#fb9f3a\"], [0.8888888888888888, \"#fdca26\"], [1.0, \"#f0f921\"]], \"type\": \"histogram2dcontour\"}], \"mesh3d\": [{\"colorbar\": {\"outlinewidth\": 0, \"ticks\": \"\"}, \"type\": \"mesh3d\"}], \"parcoords\": [{\"line\": {\"colorbar\": {\"outlinewidth\": 0, \"ticks\": \"\"}}, \"type\": \"parcoords\"}], \"pie\": [{\"automargin\": true, \"type\": \"pie\"}], \"scatter\": [{\"marker\": {\"colorbar\": {\"outlinewidth\": 0, \"ticks\": \"\"}}, \"type\": \"scatter\"}], \"scatter3d\": [{\"line\": {\"colorbar\": {\"outlinewidth\": 0, \"ticks\": \"\"}}, \"marker\": {\"colorbar\": {\"outlinewidth\": 0, \"ticks\": \"\"}}, \"type\": \"scatter3d\"}], \"scattercarpet\": [{\"marker\": {\"colorbar\": {\"outlinewidth\": 0, \"ticks\": \"\"}}, \"type\": \"scattercarpet\"}], \"scattergeo\": [{\"marker\": {\"colorbar\": {\"outlinewidth\": 0, \"ticks\": \"\"}}, \"type\": \"scattergeo\"}], \"scattergl\": [{\"marker\": {\"colorbar\": {\"outlinewidth\": 0, \"ticks\": \"\"}}, \"type\": \"scattergl\"}], \"scattermapbox\": [{\"marker\": {\"colorbar\": {\"outlinewidth\": 0, \"ticks\": \"\"}}, \"type\": \"scattermapbox\"}], \"scatterpolar\": [{\"marker\": {\"colorbar\": {\"outlinewidth\": 0, \"ticks\": \"\"}}, \"type\": \"scatterpolar\"}], \"scatterpolargl\": [{\"marker\": {\"colorbar\": {\"outlinewidth\": 0, \"ticks\": \"\"}}, \"type\": \"scatterpolargl\"}], \"scatterternary\": [{\"marker\": {\"colorbar\": {\"outlinewidth\": 0, \"ticks\": \"\"}}, \"type\": \"scatterternary\"}], \"surface\": [{\"colorbar\": {\"outlinewidth\": 0, \"ticks\": \"\"}, \"colorscale\": [[0.0, \"#0d0887\"], [0.1111111111111111, \"#46039f\"], [0.2222222222222222, \"#7201a8\"], [0.3333333333333333, \"#9c179e\"], [0.4444444444444444, \"#bd3786\"], [0.5555555555555556, \"#d8576b\"], [0.6666666666666666, \"#ed7953\"], [0.7777777777777778, \"#fb9f3a\"], [0.8888888888888888, \"#fdca26\"], [1.0, \"#f0f921\"]], \"type\": \"surface\"}], \"table\": [{\"cells\": {\"fill\": {\"color\": \"#EBF0F8\"}, \"line\": {\"color\": \"white\"}}, \"header\": {\"fill\": {\"color\": \"#C8D4E3\"}, \"line\": {\"color\": \"white\"}}, \"type\": \"table\"}]}, \"layout\": {\"annotationdefaults\": {\"arrowcolor\": \"#2a3f5f\", \"arrowhead\": 0, \"arrowwidth\": 1}, \"autotypenumbers\": \"strict\", \"coloraxis\": {\"colorbar\": {\"outlinewidth\": 0, \"ticks\": \"\"}}, \"colorscale\": {\"diverging\": [[0, \"#8e0152\"], [0.1, \"#c51b7d\"], [0.2, \"#de77ae\"], [0.3, \"#f1b6da\"], [0.4, \"#fde0ef\"], [0.5, \"#f7f7f7\"], [0.6, \"#e6f5d0\"], [0.7, \"#b8e186\"], [0.8, \"#7fbc41\"], [0.9, \"#4d9221\"], [1, \"#276419\"]], \"sequential\": [[0.0, \"#0d0887\"], [0.1111111111111111, \"#46039f\"], [0.2222222222222222, \"#7201a8\"], [0.3333333333333333, \"#9c179e\"], [0.4444444444444444, \"#bd3786\"], [0.5555555555555556, \"#d8576b\"], [0.6666666666666666, \"#ed7953\"], [0.7777777777777778, \"#fb9f3a\"], [0.8888888888888888, \"#fdca26\"], [1.0, \"#f0f921\"]], \"sequentialminus\": [[0.0, \"#0d0887\"], [0.1111111111111111, \"#46039f\"], [0.2222222222222222, \"#7201a8\"], [0.3333333333333333, \"#9c179e\"], [0.4444444444444444, \"#bd3786\"], [0.5555555555555556, \"#d8576b\"], [0.6666666666666666, \"#ed7953\"], [0.7777777777777778, \"#fb9f3a\"], [0.8888888888888888, \"#fdca26\"], [1.0, \"#f0f921\"]]}, \"colorway\": [\"#636efa\", \"#EF553B\", \"#00cc96\", \"#ab63fa\", \"#FFA15A\", \"#19d3f3\", \"#FF6692\", \"#B6E880\", \"#FF97FF\", \"#FECB52\"], \"font\": {\"color\": \"#2a3f5f\"}, \"geo\": {\"bgcolor\": \"white\", \"lakecolor\": \"white\", \"landcolor\": \"#E5ECF6\", \"showlakes\": true, \"showland\": true, \"subunitcolor\": \"white\"}, \"hoverlabel\": {\"align\": \"left\"}, \"hovermode\": \"closest\", \"mapbox\": {\"style\": \"light\"}, \"paper_bgcolor\": \"white\", \"plot_bgcolor\": \"#E5ECF6\", \"polar\": {\"angularaxis\": {\"gridcolor\": \"white\", \"linecolor\": \"white\", \"ticks\": \"\"}, \"bgcolor\": \"#E5ECF6\", \"radialaxis\": {\"gridcolor\": \"white\", \"linecolor\": \"white\", \"ticks\": \"\"}}, \"scene\": {\"xaxis\": {\"backgroundcolor\": \"#E5ECF6\", \"gridcolor\": \"white\", \"gridwidth\": 2, \"linecolor\": \"white\", \"showbackground\": true, \"ticks\": \"\", \"zerolinecolor\": \"white\"}, \"yaxis\": {\"backgroundcolor\": \"#E5ECF6\", \"gridcolor\": \"white\", \"gridwidth\": 2, \"linecolor\": \"white\", \"showbackground\": true, \"ticks\": \"\", \"zerolinecolor\": \"white\"}, \"zaxis\": {\"backgroundcolor\": \"#E5ECF6\", \"gridcolor\": \"white\", \"gridwidth\": 2, \"linecolor\": \"white\", \"showbackground\": true, \"ticks\": \"\", \"zerolinecolor\": \"white\"}}, \"shapedefaults\": {\"line\": {\"color\": \"#2a3f5f\"}}, \"ternary\": {\"aaxis\": {\"gridcolor\": \"white\", \"linecolor\": \"white\", \"ticks\": \"\"}, \"baxis\": {\"gridcolor\": \"white\", \"linecolor\": \"white\", \"ticks\": \"\"}, \"bgcolor\": \"#E5ECF6\", \"caxis\": {\"gridcolor\": \"white\", \"linecolor\": \"white\", \"ticks\": \"\"}}, \"title\": {\"x\": 0.05}, \"xaxis\": {\"automargin\": true, \"gridcolor\": \"white\", \"linecolor\": \"white\", \"ticks\": \"\", \"title\": {\"standoff\": 15}, \"zerolinecolor\": \"white\", \"zerolinewidth\": 2}, \"yaxis\": {\"automargin\": true, \"gridcolor\": \"white\", \"linecolor\": \"white\", \"ticks\": \"\", \"title\": {\"standoff\": 15}, \"zerolinecolor\": \"white\", \"zerolinewidth\": 2}}}, \"title\": {\"text\": \"Parallel Coordinate Plot\"}},                        {\"responsive\": true}                    ).then(function(){\n",
       "                            \n",
       "var gd = document.getElementById('22cae90f-d149-413a-a564-13bbad84dff8');\n",
       "var x = new MutationObserver(function (mutations, observer) {{\n",
       "        var display = window.getComputedStyle(gd).display;\n",
       "        if (!display || display === 'none') {{\n",
       "            console.log([gd, 'removed!']);\n",
       "            Plotly.purge(gd);\n",
       "            observer.disconnect();\n",
       "        }}\n",
       "}});\n",
       "\n",
       "// Listen for the removal of the full notebook cells\n",
       "var notebookContainer = gd.closest('#notebook-container');\n",
       "if (notebookContainer) {{\n",
       "    x.observe(notebookContainer, {childList: true});\n",
       "}}\n",
       "\n",
       "// Listen for the clearing of the current output cell\n",
       "var outputEl = gd.closest('.output');\n",
       "if (outputEl) {{\n",
       "    x.observe(outputEl, {childList: true});\n",
       "}}\n",
       "\n",
       "                        })                };                });            </script>        </div>"
      ]
     },
     "metadata": {},
     "output_type": "display_data"
    }
   ],
   "source": [
    "optuna.visualization.plot_parallel_coordinate(lgbm_study)"
   ]
  },
  {
   "cell_type": "code",
   "execution_count": 39,
   "metadata": {},
   "outputs": [
    {
     "data": {
      "application/vnd.plotly.v1+json": {
       "config": {
        "plotlyServerURL": "https://plot.ly"
       },
       "data": [
        {
         "cliponaxis": false,
         "hovertemplate": [
          "lambda_l2 (LogUniformDistribution): 2.556726672438728e-05<extra></extra>",
          "bagging_freq (IntUniformDistribution): 0.000327306659871311<extra></extra>",
          "feature_fraction (DiscreteUniformDistribution): 0.0007882307090536732<extra></extra>",
          "max_depth (IntLogUniformDistribution): 0.002483672878652912<extra></extra>",
          "subsample_for_bin (IntUniformDistribution): 0.003463411569749841<extra></extra>",
          "bagging_fraction (DiscreteUniformDistribution): 0.004309335895936791<extra></extra>",
          "lambda_l1 (LogUniformDistribution): 0.005026400185898542<extra></extra>",
          "max_bin (IntLogUniformDistribution): 0.047257878969903605<extra></extra>",
          "min_child_samples (IntUniformDistribution): 0.4349375492170127<extra></extra>",
          "num_leaves (IntLogUniformDistribution): 0.5013806466471962<extra></extra>"
         ],
         "marker": {
          "color": [
           "rgb(8,48,107)",
           "rgb(8,81,156)",
           "rgb(8,48,107)",
           "rgb(8,81,156)",
           "rgb(8,81,156)",
           "rgb(8,48,107)",
           "rgb(8,48,107)",
           "rgb(8,81,156)",
           "rgb(8,81,156)",
           "rgb(8,81,156)"
          ]
         },
         "orientation": "h",
         "text": [
          "2.556726672438728e-05",
          "0.000327306659871311",
          "0.0007882307090536732",
          "0.002483672878652912",
          "0.003463411569749841",
          "0.004309335895936791",
          "0.005026400185898542",
          "0.047257878969903605",
          "0.4349375492170127",
          "0.5013806466471962"
         ],
         "textposition": "outside",
         "texttemplate": "%{text:.2f}",
         "type": "bar",
         "x": [
          2.556726672438728e-05,
          0.000327306659871311,
          0.0007882307090536732,
          0.002483672878652912,
          0.003463411569749841,
          0.004309335895936791,
          0.005026400185898542,
          0.047257878969903605,
          0.4349375492170127,
          0.5013806466471962
         ],
         "y": [
          "lambda_l2",
          "bagging_freq",
          "feature_fraction",
          "max_depth",
          "subsample_for_bin",
          "bagging_fraction",
          "lambda_l1",
          "max_bin",
          "min_child_samples",
          "num_leaves"
         ]
        }
       ],
       "layout": {
        "showlegend": false,
        "template": {
         "data": {
          "bar": [
           {
            "error_x": {
             "color": "#2a3f5f"
            },
            "error_y": {
             "color": "#2a3f5f"
            },
            "marker": {
             "line": {
              "color": "#E5ECF6",
              "width": 0.5
             }
            },
            "type": "bar"
           }
          ],
          "barpolar": [
           {
            "marker": {
             "line": {
              "color": "#E5ECF6",
              "width": 0.5
             }
            },
            "type": "barpolar"
           }
          ],
          "carpet": [
           {
            "aaxis": {
             "endlinecolor": "#2a3f5f",
             "gridcolor": "white",
             "linecolor": "white",
             "minorgridcolor": "white",
             "startlinecolor": "#2a3f5f"
            },
            "baxis": {
             "endlinecolor": "#2a3f5f",
             "gridcolor": "white",
             "linecolor": "white",
             "minorgridcolor": "white",
             "startlinecolor": "#2a3f5f"
            },
            "type": "carpet"
           }
          ],
          "choropleth": [
           {
            "colorbar": {
             "outlinewidth": 0,
             "ticks": ""
            },
            "type": "choropleth"
           }
          ],
          "contour": [
           {
            "colorbar": {
             "outlinewidth": 0,
             "ticks": ""
            },
            "colorscale": [
             [
              0,
              "#0d0887"
             ],
             [
              0.1111111111111111,
              "#46039f"
             ],
             [
              0.2222222222222222,
              "#7201a8"
             ],
             [
              0.3333333333333333,
              "#9c179e"
             ],
             [
              0.4444444444444444,
              "#bd3786"
             ],
             [
              0.5555555555555556,
              "#d8576b"
             ],
             [
              0.6666666666666666,
              "#ed7953"
             ],
             [
              0.7777777777777778,
              "#fb9f3a"
             ],
             [
              0.8888888888888888,
              "#fdca26"
             ],
             [
              1,
              "#f0f921"
             ]
            ],
            "type": "contour"
           }
          ],
          "contourcarpet": [
           {
            "colorbar": {
             "outlinewidth": 0,
             "ticks": ""
            },
            "type": "contourcarpet"
           }
          ],
          "heatmap": [
           {
            "colorbar": {
             "outlinewidth": 0,
             "ticks": ""
            },
            "colorscale": [
             [
              0,
              "#0d0887"
             ],
             [
              0.1111111111111111,
              "#46039f"
             ],
             [
              0.2222222222222222,
              "#7201a8"
             ],
             [
              0.3333333333333333,
              "#9c179e"
             ],
             [
              0.4444444444444444,
              "#bd3786"
             ],
             [
              0.5555555555555556,
              "#d8576b"
             ],
             [
              0.6666666666666666,
              "#ed7953"
             ],
             [
              0.7777777777777778,
              "#fb9f3a"
             ],
             [
              0.8888888888888888,
              "#fdca26"
             ],
             [
              1,
              "#f0f921"
             ]
            ],
            "type": "heatmap"
           }
          ],
          "heatmapgl": [
           {
            "colorbar": {
             "outlinewidth": 0,
             "ticks": ""
            },
            "colorscale": [
             [
              0,
              "#0d0887"
             ],
             [
              0.1111111111111111,
              "#46039f"
             ],
             [
              0.2222222222222222,
              "#7201a8"
             ],
             [
              0.3333333333333333,
              "#9c179e"
             ],
             [
              0.4444444444444444,
              "#bd3786"
             ],
             [
              0.5555555555555556,
              "#d8576b"
             ],
             [
              0.6666666666666666,
              "#ed7953"
             ],
             [
              0.7777777777777778,
              "#fb9f3a"
             ],
             [
              0.8888888888888888,
              "#fdca26"
             ],
             [
              1,
              "#f0f921"
             ]
            ],
            "type": "heatmapgl"
           }
          ],
          "histogram": [
           {
            "marker": {
             "colorbar": {
              "outlinewidth": 0,
              "ticks": ""
             }
            },
            "type": "histogram"
           }
          ],
          "histogram2d": [
           {
            "colorbar": {
             "outlinewidth": 0,
             "ticks": ""
            },
            "colorscale": [
             [
              0,
              "#0d0887"
             ],
             [
              0.1111111111111111,
              "#46039f"
             ],
             [
              0.2222222222222222,
              "#7201a8"
             ],
             [
              0.3333333333333333,
              "#9c179e"
             ],
             [
              0.4444444444444444,
              "#bd3786"
             ],
             [
              0.5555555555555556,
              "#d8576b"
             ],
             [
              0.6666666666666666,
              "#ed7953"
             ],
             [
              0.7777777777777778,
              "#fb9f3a"
             ],
             [
              0.8888888888888888,
              "#fdca26"
             ],
             [
              1,
              "#f0f921"
             ]
            ],
            "type": "histogram2d"
           }
          ],
          "histogram2dcontour": [
           {
            "colorbar": {
             "outlinewidth": 0,
             "ticks": ""
            },
            "colorscale": [
             [
              0,
              "#0d0887"
             ],
             [
              0.1111111111111111,
              "#46039f"
             ],
             [
              0.2222222222222222,
              "#7201a8"
             ],
             [
              0.3333333333333333,
              "#9c179e"
             ],
             [
              0.4444444444444444,
              "#bd3786"
             ],
             [
              0.5555555555555556,
              "#d8576b"
             ],
             [
              0.6666666666666666,
              "#ed7953"
             ],
             [
              0.7777777777777778,
              "#fb9f3a"
             ],
             [
              0.8888888888888888,
              "#fdca26"
             ],
             [
              1,
              "#f0f921"
             ]
            ],
            "type": "histogram2dcontour"
           }
          ],
          "mesh3d": [
           {
            "colorbar": {
             "outlinewidth": 0,
             "ticks": ""
            },
            "type": "mesh3d"
           }
          ],
          "parcoords": [
           {
            "line": {
             "colorbar": {
              "outlinewidth": 0,
              "ticks": ""
             }
            },
            "type": "parcoords"
           }
          ],
          "pie": [
           {
            "automargin": true,
            "type": "pie"
           }
          ],
          "scatter": [
           {
            "marker": {
             "colorbar": {
              "outlinewidth": 0,
              "ticks": ""
             }
            },
            "type": "scatter"
           }
          ],
          "scatter3d": [
           {
            "line": {
             "colorbar": {
              "outlinewidth": 0,
              "ticks": ""
             }
            },
            "marker": {
             "colorbar": {
              "outlinewidth": 0,
              "ticks": ""
             }
            },
            "type": "scatter3d"
           }
          ],
          "scattercarpet": [
           {
            "marker": {
             "colorbar": {
              "outlinewidth": 0,
              "ticks": ""
             }
            },
            "type": "scattercarpet"
           }
          ],
          "scattergeo": [
           {
            "marker": {
             "colorbar": {
              "outlinewidth": 0,
              "ticks": ""
             }
            },
            "type": "scattergeo"
           }
          ],
          "scattergl": [
           {
            "marker": {
             "colorbar": {
              "outlinewidth": 0,
              "ticks": ""
             }
            },
            "type": "scattergl"
           }
          ],
          "scattermapbox": [
           {
            "marker": {
             "colorbar": {
              "outlinewidth": 0,
              "ticks": ""
             }
            },
            "type": "scattermapbox"
           }
          ],
          "scatterpolar": [
           {
            "marker": {
             "colorbar": {
              "outlinewidth": 0,
              "ticks": ""
             }
            },
            "type": "scatterpolar"
           }
          ],
          "scatterpolargl": [
           {
            "marker": {
             "colorbar": {
              "outlinewidth": 0,
              "ticks": ""
             }
            },
            "type": "scatterpolargl"
           }
          ],
          "scatterternary": [
           {
            "marker": {
             "colorbar": {
              "outlinewidth": 0,
              "ticks": ""
             }
            },
            "type": "scatterternary"
           }
          ],
          "surface": [
           {
            "colorbar": {
             "outlinewidth": 0,
             "ticks": ""
            },
            "colorscale": [
             [
              0,
              "#0d0887"
             ],
             [
              0.1111111111111111,
              "#46039f"
             ],
             [
              0.2222222222222222,
              "#7201a8"
             ],
             [
              0.3333333333333333,
              "#9c179e"
             ],
             [
              0.4444444444444444,
              "#bd3786"
             ],
             [
              0.5555555555555556,
              "#d8576b"
             ],
             [
              0.6666666666666666,
              "#ed7953"
             ],
             [
              0.7777777777777778,
              "#fb9f3a"
             ],
             [
              0.8888888888888888,
              "#fdca26"
             ],
             [
              1,
              "#f0f921"
             ]
            ],
            "type": "surface"
           }
          ],
          "table": [
           {
            "cells": {
             "fill": {
              "color": "#EBF0F8"
             },
             "line": {
              "color": "white"
             }
            },
            "header": {
             "fill": {
              "color": "#C8D4E3"
             },
             "line": {
              "color": "white"
             }
            },
            "type": "table"
           }
          ]
         },
         "layout": {
          "annotationdefaults": {
           "arrowcolor": "#2a3f5f",
           "arrowhead": 0,
           "arrowwidth": 1
          },
          "autotypenumbers": "strict",
          "coloraxis": {
           "colorbar": {
            "outlinewidth": 0,
            "ticks": ""
           }
          },
          "colorscale": {
           "diverging": [
            [
             0,
             "#8e0152"
            ],
            [
             0.1,
             "#c51b7d"
            ],
            [
             0.2,
             "#de77ae"
            ],
            [
             0.3,
             "#f1b6da"
            ],
            [
             0.4,
             "#fde0ef"
            ],
            [
             0.5,
             "#f7f7f7"
            ],
            [
             0.6,
             "#e6f5d0"
            ],
            [
             0.7,
             "#b8e186"
            ],
            [
             0.8,
             "#7fbc41"
            ],
            [
             0.9,
             "#4d9221"
            ],
            [
             1,
             "#276419"
            ]
           ],
           "sequential": [
            [
             0,
             "#0d0887"
            ],
            [
             0.1111111111111111,
             "#46039f"
            ],
            [
             0.2222222222222222,
             "#7201a8"
            ],
            [
             0.3333333333333333,
             "#9c179e"
            ],
            [
             0.4444444444444444,
             "#bd3786"
            ],
            [
             0.5555555555555556,
             "#d8576b"
            ],
            [
             0.6666666666666666,
             "#ed7953"
            ],
            [
             0.7777777777777778,
             "#fb9f3a"
            ],
            [
             0.8888888888888888,
             "#fdca26"
            ],
            [
             1,
             "#f0f921"
            ]
           ],
           "sequentialminus": [
            [
             0,
             "#0d0887"
            ],
            [
             0.1111111111111111,
             "#46039f"
            ],
            [
             0.2222222222222222,
             "#7201a8"
            ],
            [
             0.3333333333333333,
             "#9c179e"
            ],
            [
             0.4444444444444444,
             "#bd3786"
            ],
            [
             0.5555555555555556,
             "#d8576b"
            ],
            [
             0.6666666666666666,
             "#ed7953"
            ],
            [
             0.7777777777777778,
             "#fb9f3a"
            ],
            [
             0.8888888888888888,
             "#fdca26"
            ],
            [
             1,
             "#f0f921"
            ]
           ]
          },
          "colorway": [
           "#636efa",
           "#EF553B",
           "#00cc96",
           "#ab63fa",
           "#FFA15A",
           "#19d3f3",
           "#FF6692",
           "#B6E880",
           "#FF97FF",
           "#FECB52"
          ],
          "font": {
           "color": "#2a3f5f"
          },
          "geo": {
           "bgcolor": "white",
           "lakecolor": "white",
           "landcolor": "#E5ECF6",
           "showlakes": true,
           "showland": true,
           "subunitcolor": "white"
          },
          "hoverlabel": {
           "align": "left"
          },
          "hovermode": "closest",
          "mapbox": {
           "style": "light"
          },
          "paper_bgcolor": "white",
          "plot_bgcolor": "#E5ECF6",
          "polar": {
           "angularaxis": {
            "gridcolor": "white",
            "linecolor": "white",
            "ticks": ""
           },
           "bgcolor": "#E5ECF6",
           "radialaxis": {
            "gridcolor": "white",
            "linecolor": "white",
            "ticks": ""
           }
          },
          "scene": {
           "xaxis": {
            "backgroundcolor": "#E5ECF6",
            "gridcolor": "white",
            "gridwidth": 2,
            "linecolor": "white",
            "showbackground": true,
            "ticks": "",
            "zerolinecolor": "white"
           },
           "yaxis": {
            "backgroundcolor": "#E5ECF6",
            "gridcolor": "white",
            "gridwidth": 2,
            "linecolor": "white",
            "showbackground": true,
            "ticks": "",
            "zerolinecolor": "white"
           },
           "zaxis": {
            "backgroundcolor": "#E5ECF6",
            "gridcolor": "white",
            "gridwidth": 2,
            "linecolor": "white",
            "showbackground": true,
            "ticks": "",
            "zerolinecolor": "white"
           }
          },
          "shapedefaults": {
           "line": {
            "color": "#2a3f5f"
           }
          },
          "ternary": {
           "aaxis": {
            "gridcolor": "white",
            "linecolor": "white",
            "ticks": ""
           },
           "baxis": {
            "gridcolor": "white",
            "linecolor": "white",
            "ticks": ""
           },
           "bgcolor": "#E5ECF6",
           "caxis": {
            "gridcolor": "white",
            "linecolor": "white",
            "ticks": ""
           }
          },
          "title": {
           "x": 0.05
          },
          "xaxis": {
           "automargin": true,
           "gridcolor": "white",
           "linecolor": "white",
           "ticks": "",
           "title": {
            "standoff": 15
           },
           "zerolinecolor": "white",
           "zerolinewidth": 2
          },
          "yaxis": {
           "automargin": true,
           "gridcolor": "white",
           "linecolor": "white",
           "ticks": "",
           "title": {
            "standoff": 15
           },
           "zerolinecolor": "white",
           "zerolinewidth": 2
          }
         }
        },
        "title": {
         "text": "Hyperparameter Importances"
        },
        "xaxis": {
         "title": {
          "text": "Importance for Objective Value"
         }
        },
        "yaxis": {
         "title": {
          "text": "Hyperparameter"
         }
        }
       }
      },
      "text/html": [
       "<div>                            <div id=\"a7ddfbd0-ce9d-4937-b49b-7c47f129c17a\" class=\"plotly-graph-div\" style=\"height:525px; width:100%;\"></div>            <script type=\"text/javascript\">                require([\"plotly\"], function(Plotly) {                    window.PLOTLYENV=window.PLOTLYENV || {};                                    if (document.getElementById(\"a7ddfbd0-ce9d-4937-b49b-7c47f129c17a\")) {                    Plotly.newPlot(                        \"a7ddfbd0-ce9d-4937-b49b-7c47f129c17a\",                        [{\"cliponaxis\": false, \"hovertemplate\": [\"lambda_l2 (LogUniformDistribution): 2.556726672438728e-05<extra></extra>\", \"bagging_freq (IntUniformDistribution): 0.000327306659871311<extra></extra>\", \"feature_fraction (DiscreteUniformDistribution): 0.0007882307090536732<extra></extra>\", \"max_depth (IntLogUniformDistribution): 0.002483672878652912<extra></extra>\", \"subsample_for_bin (IntUniformDistribution): 0.003463411569749841<extra></extra>\", \"bagging_fraction (DiscreteUniformDistribution): 0.004309335895936791<extra></extra>\", \"lambda_l1 (LogUniformDistribution): 0.005026400185898542<extra></extra>\", \"max_bin (IntLogUniformDistribution): 0.047257878969903605<extra></extra>\", \"min_child_samples (IntUniformDistribution): 0.4349375492170127<extra></extra>\", \"num_leaves (IntLogUniformDistribution): 0.5013806466471962<extra></extra>\"], \"marker\": {\"color\": [\"rgb(8,48,107)\", \"rgb(8,81,156)\", \"rgb(8,48,107)\", \"rgb(8,81,156)\", \"rgb(8,81,156)\", \"rgb(8,48,107)\", \"rgb(8,48,107)\", \"rgb(8,81,156)\", \"rgb(8,81,156)\", \"rgb(8,81,156)\"]}, \"orientation\": \"h\", \"text\": [\"2.556726672438728e-05\", \"0.000327306659871311\", \"0.0007882307090536732\", \"0.002483672878652912\", \"0.003463411569749841\", \"0.004309335895936791\", \"0.005026400185898542\", \"0.047257878969903605\", \"0.4349375492170127\", \"0.5013806466471962\"], \"textposition\": \"outside\", \"texttemplate\": \"%{text:.2f}\", \"type\": \"bar\", \"x\": [2.556726672438728e-05, 0.000327306659871311, 0.0007882307090536732, 0.002483672878652912, 0.003463411569749841, 0.004309335895936791, 0.005026400185898542, 0.047257878969903605, 0.4349375492170127, 0.5013806466471962], \"y\": [\"lambda_l2\", \"bagging_freq\", \"feature_fraction\", \"max_depth\", \"subsample_for_bin\", \"bagging_fraction\", \"lambda_l1\", \"max_bin\", \"min_child_samples\", \"num_leaves\"]}],                        {\"showlegend\": false, \"template\": {\"data\": {\"bar\": [{\"error_x\": {\"color\": \"#2a3f5f\"}, \"error_y\": {\"color\": \"#2a3f5f\"}, \"marker\": {\"line\": {\"color\": \"#E5ECF6\", \"width\": 0.5}}, \"type\": \"bar\"}], \"barpolar\": [{\"marker\": {\"line\": {\"color\": \"#E5ECF6\", \"width\": 0.5}}, \"type\": \"barpolar\"}], \"carpet\": [{\"aaxis\": {\"endlinecolor\": \"#2a3f5f\", \"gridcolor\": \"white\", \"linecolor\": \"white\", \"minorgridcolor\": \"white\", \"startlinecolor\": \"#2a3f5f\"}, \"baxis\": {\"endlinecolor\": \"#2a3f5f\", \"gridcolor\": \"white\", \"linecolor\": \"white\", \"minorgridcolor\": \"white\", \"startlinecolor\": \"#2a3f5f\"}, \"type\": \"carpet\"}], \"choropleth\": [{\"colorbar\": {\"outlinewidth\": 0, \"ticks\": \"\"}, \"type\": \"choropleth\"}], \"contour\": [{\"colorbar\": {\"outlinewidth\": 0, \"ticks\": \"\"}, \"colorscale\": [[0.0, \"#0d0887\"], [0.1111111111111111, \"#46039f\"], [0.2222222222222222, \"#7201a8\"], [0.3333333333333333, \"#9c179e\"], [0.4444444444444444, \"#bd3786\"], [0.5555555555555556, \"#d8576b\"], [0.6666666666666666, \"#ed7953\"], [0.7777777777777778, \"#fb9f3a\"], [0.8888888888888888, \"#fdca26\"], [1.0, \"#f0f921\"]], \"type\": \"contour\"}], \"contourcarpet\": [{\"colorbar\": {\"outlinewidth\": 0, \"ticks\": \"\"}, \"type\": \"contourcarpet\"}], \"heatmap\": [{\"colorbar\": {\"outlinewidth\": 0, \"ticks\": \"\"}, \"colorscale\": [[0.0, \"#0d0887\"], [0.1111111111111111, \"#46039f\"], [0.2222222222222222, \"#7201a8\"], [0.3333333333333333, \"#9c179e\"], [0.4444444444444444, \"#bd3786\"], [0.5555555555555556, \"#d8576b\"], [0.6666666666666666, \"#ed7953\"], [0.7777777777777778, \"#fb9f3a\"], [0.8888888888888888, \"#fdca26\"], [1.0, \"#f0f921\"]], \"type\": \"heatmap\"}], \"heatmapgl\": [{\"colorbar\": {\"outlinewidth\": 0, \"ticks\": \"\"}, \"colorscale\": [[0.0, \"#0d0887\"], [0.1111111111111111, \"#46039f\"], [0.2222222222222222, \"#7201a8\"], [0.3333333333333333, \"#9c179e\"], [0.4444444444444444, \"#bd3786\"], [0.5555555555555556, \"#d8576b\"], [0.6666666666666666, \"#ed7953\"], [0.7777777777777778, \"#fb9f3a\"], [0.8888888888888888, \"#fdca26\"], [1.0, \"#f0f921\"]], \"type\": \"heatmapgl\"}], \"histogram\": [{\"marker\": {\"colorbar\": {\"outlinewidth\": 0, \"ticks\": \"\"}}, \"type\": \"histogram\"}], \"histogram2d\": [{\"colorbar\": {\"outlinewidth\": 0, \"ticks\": \"\"}, \"colorscale\": [[0.0, \"#0d0887\"], [0.1111111111111111, \"#46039f\"], [0.2222222222222222, \"#7201a8\"], [0.3333333333333333, \"#9c179e\"], [0.4444444444444444, \"#bd3786\"], [0.5555555555555556, \"#d8576b\"], [0.6666666666666666, \"#ed7953\"], [0.7777777777777778, \"#fb9f3a\"], [0.8888888888888888, \"#fdca26\"], [1.0, \"#f0f921\"]], \"type\": \"histogram2d\"}], \"histogram2dcontour\": [{\"colorbar\": {\"outlinewidth\": 0, \"ticks\": \"\"}, \"colorscale\": [[0.0, \"#0d0887\"], [0.1111111111111111, \"#46039f\"], [0.2222222222222222, \"#7201a8\"], [0.3333333333333333, \"#9c179e\"], [0.4444444444444444, \"#bd3786\"], [0.5555555555555556, \"#d8576b\"], [0.6666666666666666, \"#ed7953\"], [0.7777777777777778, \"#fb9f3a\"], [0.8888888888888888, \"#fdca26\"], [1.0, \"#f0f921\"]], \"type\": \"histogram2dcontour\"}], \"mesh3d\": [{\"colorbar\": {\"outlinewidth\": 0, \"ticks\": \"\"}, \"type\": \"mesh3d\"}], \"parcoords\": [{\"line\": {\"colorbar\": {\"outlinewidth\": 0, \"ticks\": \"\"}}, \"type\": \"parcoords\"}], \"pie\": [{\"automargin\": true, \"type\": \"pie\"}], \"scatter\": [{\"marker\": {\"colorbar\": {\"outlinewidth\": 0, \"ticks\": \"\"}}, \"type\": \"scatter\"}], \"scatter3d\": [{\"line\": {\"colorbar\": {\"outlinewidth\": 0, \"ticks\": \"\"}}, \"marker\": {\"colorbar\": {\"outlinewidth\": 0, \"ticks\": \"\"}}, \"type\": \"scatter3d\"}], \"scattercarpet\": [{\"marker\": {\"colorbar\": {\"outlinewidth\": 0, \"ticks\": \"\"}}, \"type\": \"scattercarpet\"}], \"scattergeo\": [{\"marker\": {\"colorbar\": {\"outlinewidth\": 0, \"ticks\": \"\"}}, \"type\": \"scattergeo\"}], \"scattergl\": [{\"marker\": {\"colorbar\": {\"outlinewidth\": 0, \"ticks\": \"\"}}, \"type\": \"scattergl\"}], \"scattermapbox\": [{\"marker\": {\"colorbar\": {\"outlinewidth\": 0, \"ticks\": \"\"}}, \"type\": \"scattermapbox\"}], \"scatterpolar\": [{\"marker\": {\"colorbar\": {\"outlinewidth\": 0, \"ticks\": \"\"}}, \"type\": \"scatterpolar\"}], \"scatterpolargl\": [{\"marker\": {\"colorbar\": {\"outlinewidth\": 0, \"ticks\": \"\"}}, \"type\": \"scatterpolargl\"}], \"scatterternary\": [{\"marker\": {\"colorbar\": {\"outlinewidth\": 0, \"ticks\": \"\"}}, \"type\": \"scatterternary\"}], \"surface\": [{\"colorbar\": {\"outlinewidth\": 0, \"ticks\": \"\"}, \"colorscale\": [[0.0, \"#0d0887\"], [0.1111111111111111, \"#46039f\"], [0.2222222222222222, \"#7201a8\"], [0.3333333333333333, \"#9c179e\"], [0.4444444444444444, \"#bd3786\"], [0.5555555555555556, \"#d8576b\"], [0.6666666666666666, \"#ed7953\"], [0.7777777777777778, \"#fb9f3a\"], [0.8888888888888888, \"#fdca26\"], [1.0, \"#f0f921\"]], \"type\": \"surface\"}], \"table\": [{\"cells\": {\"fill\": {\"color\": \"#EBF0F8\"}, \"line\": {\"color\": \"white\"}}, \"header\": {\"fill\": {\"color\": \"#C8D4E3\"}, \"line\": {\"color\": \"white\"}}, \"type\": \"table\"}]}, \"layout\": {\"annotationdefaults\": {\"arrowcolor\": \"#2a3f5f\", \"arrowhead\": 0, \"arrowwidth\": 1}, \"autotypenumbers\": \"strict\", \"coloraxis\": {\"colorbar\": {\"outlinewidth\": 0, \"ticks\": \"\"}}, \"colorscale\": {\"diverging\": [[0, \"#8e0152\"], [0.1, \"#c51b7d\"], [0.2, \"#de77ae\"], [0.3, \"#f1b6da\"], [0.4, \"#fde0ef\"], [0.5, \"#f7f7f7\"], [0.6, \"#e6f5d0\"], [0.7, \"#b8e186\"], [0.8, \"#7fbc41\"], [0.9, \"#4d9221\"], [1, \"#276419\"]], \"sequential\": [[0.0, \"#0d0887\"], [0.1111111111111111, \"#46039f\"], [0.2222222222222222, \"#7201a8\"], [0.3333333333333333, \"#9c179e\"], [0.4444444444444444, \"#bd3786\"], [0.5555555555555556, \"#d8576b\"], [0.6666666666666666, \"#ed7953\"], [0.7777777777777778, \"#fb9f3a\"], [0.8888888888888888, \"#fdca26\"], [1.0, \"#f0f921\"]], \"sequentialminus\": [[0.0, \"#0d0887\"], [0.1111111111111111, \"#46039f\"], [0.2222222222222222, \"#7201a8\"], [0.3333333333333333, \"#9c179e\"], [0.4444444444444444, \"#bd3786\"], [0.5555555555555556, \"#d8576b\"], [0.6666666666666666, \"#ed7953\"], [0.7777777777777778, \"#fb9f3a\"], [0.8888888888888888, \"#fdca26\"], [1.0, \"#f0f921\"]]}, \"colorway\": [\"#636efa\", \"#EF553B\", \"#00cc96\", \"#ab63fa\", \"#FFA15A\", \"#19d3f3\", \"#FF6692\", \"#B6E880\", \"#FF97FF\", \"#FECB52\"], \"font\": {\"color\": \"#2a3f5f\"}, \"geo\": {\"bgcolor\": \"white\", \"lakecolor\": \"white\", \"landcolor\": \"#E5ECF6\", \"showlakes\": true, \"showland\": true, \"subunitcolor\": \"white\"}, \"hoverlabel\": {\"align\": \"left\"}, \"hovermode\": \"closest\", \"mapbox\": {\"style\": \"light\"}, \"paper_bgcolor\": \"white\", \"plot_bgcolor\": \"#E5ECF6\", \"polar\": {\"angularaxis\": {\"gridcolor\": \"white\", \"linecolor\": \"white\", \"ticks\": \"\"}, \"bgcolor\": \"#E5ECF6\", \"radialaxis\": {\"gridcolor\": \"white\", \"linecolor\": \"white\", \"ticks\": \"\"}}, \"scene\": {\"xaxis\": {\"backgroundcolor\": \"#E5ECF6\", \"gridcolor\": \"white\", \"gridwidth\": 2, \"linecolor\": \"white\", \"showbackground\": true, \"ticks\": \"\", \"zerolinecolor\": \"white\"}, \"yaxis\": {\"backgroundcolor\": \"#E5ECF6\", \"gridcolor\": \"white\", \"gridwidth\": 2, \"linecolor\": \"white\", \"showbackground\": true, \"ticks\": \"\", \"zerolinecolor\": \"white\"}, \"zaxis\": {\"backgroundcolor\": \"#E5ECF6\", \"gridcolor\": \"white\", \"gridwidth\": 2, \"linecolor\": \"white\", \"showbackground\": true, \"ticks\": \"\", \"zerolinecolor\": \"white\"}}, \"shapedefaults\": {\"line\": {\"color\": \"#2a3f5f\"}}, \"ternary\": {\"aaxis\": {\"gridcolor\": \"white\", \"linecolor\": \"white\", \"ticks\": \"\"}, \"baxis\": {\"gridcolor\": \"white\", \"linecolor\": \"white\", \"ticks\": \"\"}, \"bgcolor\": \"#E5ECF6\", \"caxis\": {\"gridcolor\": \"white\", \"linecolor\": \"white\", \"ticks\": \"\"}}, \"title\": {\"x\": 0.05}, \"xaxis\": {\"automargin\": true, \"gridcolor\": \"white\", \"linecolor\": \"white\", \"ticks\": \"\", \"title\": {\"standoff\": 15}, \"zerolinecolor\": \"white\", \"zerolinewidth\": 2}, \"yaxis\": {\"automargin\": true, \"gridcolor\": \"white\", \"linecolor\": \"white\", \"ticks\": \"\", \"title\": {\"standoff\": 15}, \"zerolinecolor\": \"white\", \"zerolinewidth\": 2}}}, \"title\": {\"text\": \"Hyperparameter Importances\"}, \"xaxis\": {\"title\": {\"text\": \"Importance for Objective Value\"}}, \"yaxis\": {\"title\": {\"text\": \"Hyperparameter\"}}},                        {\"responsive\": true}                    ).then(function(){\n",
       "                            \n",
       "var gd = document.getElementById('a7ddfbd0-ce9d-4937-b49b-7c47f129c17a');\n",
       "var x = new MutationObserver(function (mutations, observer) {{\n",
       "        var display = window.getComputedStyle(gd).display;\n",
       "        if (!display || display === 'none') {{\n",
       "            console.log([gd, 'removed!']);\n",
       "            Plotly.purge(gd);\n",
       "            observer.disconnect();\n",
       "        }}\n",
       "}});\n",
       "\n",
       "// Listen for the removal of the full notebook cells\n",
       "var notebookContainer = gd.closest('#notebook-container');\n",
       "if (notebookContainer) {{\n",
       "    x.observe(notebookContainer, {childList: true});\n",
       "}}\n",
       "\n",
       "// Listen for the clearing of the current output cell\n",
       "var outputEl = gd.closest('.output');\n",
       "if (outputEl) {{\n",
       "    x.observe(outputEl, {childList: true});\n",
       "}}\n",
       "\n",
       "                        })                };                });            </script>        </div>"
      ]
     },
     "metadata": {},
     "output_type": "display_data"
    }
   ],
   "source": [
    "optuna.visualization.plot_param_importances(lgbm_study)"
   ]
  },
  {
   "cell_type": "code",
   "execution_count": 40,
   "metadata": {},
   "outputs": [
    {
     "data": {
      "text/html": [
       "<div>\n",
       "<style scoped>\n",
       "    .dataframe tbody tr th:only-of-type {\n",
       "        vertical-align: middle;\n",
       "    }\n",
       "\n",
       "    .dataframe tbody tr th {\n",
       "        vertical-align: top;\n",
       "    }\n",
       "\n",
       "    .dataframe thead th {\n",
       "        text-align: right;\n",
       "    }\n",
       "</style>\n",
       "<table border=\"1\" class=\"dataframe\">\n",
       "  <thead>\n",
       "    <tr style=\"text-align: right;\">\n",
       "      <th></th>\n",
       "      <th>number</th>\n",
       "      <th>value</th>\n",
       "      <th>datetime_start</th>\n",
       "      <th>datetime_complete</th>\n",
       "      <th>duration</th>\n",
       "      <th>params_bagging_fraction</th>\n",
       "      <th>params_bagging_freq</th>\n",
       "      <th>params_feature_fraction</th>\n",
       "      <th>params_lambda_l1</th>\n",
       "      <th>params_lambda_l2</th>\n",
       "      <th>...</th>\n",
       "      <th>system_attrs_completed_rung_0</th>\n",
       "      <th>system_attrs_completed_rung_1</th>\n",
       "      <th>system_attrs_completed_rung_2</th>\n",
       "      <th>system_attrs_completed_rung_3</th>\n",
       "      <th>system_attrs_completed_rung_4</th>\n",
       "      <th>system_attrs_completed_rung_5</th>\n",
       "      <th>system_attrs_completed_rung_6</th>\n",
       "      <th>system_attrs_completed_rung_7</th>\n",
       "      <th>system_attrs_completed_rung_8</th>\n",
       "      <th>state</th>\n",
       "    </tr>\n",
       "  </thead>\n",
       "  <tbody>\n",
       "    <tr>\n",
       "      <th>0</th>\n",
       "      <td>0</td>\n",
       "      <td>0.878259</td>\n",
       "      <td>2021-02-24 12:41:07.152451</td>\n",
       "      <td>2021-02-24 13:04:14.153598</td>\n",
       "      <td>0 days 00:23:07.001147</td>\n",
       "      <td>0.66239</td>\n",
       "      <td>9</td>\n",
       "      <td>0.77535</td>\n",
       "      <td>4.190770e-08</td>\n",
       "      <td>2.924400e-07</td>\n",
       "      <td>...</td>\n",
       "      <td>NaN</td>\n",
       "      <td>NaN</td>\n",
       "      <td>NaN</td>\n",
       "      <td>NaN</td>\n",
       "      <td>NaN</td>\n",
       "      <td>NaN</td>\n",
       "      <td>NaN</td>\n",
       "      <td>NaN</td>\n",
       "      <td>NaN</td>\n",
       "      <td>COMPLETE</td>\n",
       "    </tr>\n",
       "    <tr>\n",
       "      <th>1</th>\n",
       "      <td>1</td>\n",
       "      <td>0.878335</td>\n",
       "      <td>2021-02-24 13:04:14.498627</td>\n",
       "      <td>2021-02-24 13:11:10.882608</td>\n",
       "      <td>0 days 00:06:56.383981</td>\n",
       "      <td>0.22753</td>\n",
       "      <td>10</td>\n",
       "      <td>0.15740</td>\n",
       "      <td>6.041460e-08</td>\n",
       "      <td>9.773214e-07</td>\n",
       "      <td>...</td>\n",
       "      <td>0.884508</td>\n",
       "      <td>0.884390</td>\n",
       "      <td>0.884069</td>\n",
       "      <td>0.883137</td>\n",
       "      <td>0.880917</td>\n",
       "      <td>0.877346</td>\n",
       "      <td>0.875623</td>\n",
       "      <td>NaN</td>\n",
       "      <td>NaN</td>\n",
       "      <td>COMPLETE</td>\n",
       "    </tr>\n",
       "    <tr>\n",
       "      <th>2</th>\n",
       "      <td>2</td>\n",
       "      <td>0.887270</td>\n",
       "      <td>2021-02-24 13:11:11.169212</td>\n",
       "      <td>2021-02-24 13:12:28.167771</td>\n",
       "      <td>0 days 00:01:16.998559</td>\n",
       "      <td>0.94330</td>\n",
       "      <td>3</td>\n",
       "      <td>0.82758</td>\n",
       "      <td>2.430670e-05</td>\n",
       "      <td>4.229899e-09</td>\n",
       "      <td>...</td>\n",
       "      <td>0.884585</td>\n",
       "      <td>0.884585</td>\n",
       "      <td>0.884585</td>\n",
       "      <td>0.884585</td>\n",
       "      <td>0.884586</td>\n",
       "      <td>0.884590</td>\n",
       "      <td>0.884603</td>\n",
       "      <td>0.888391</td>\n",
       "      <td>0.888389</td>\n",
       "      <td>COMPLETE</td>\n",
       "    </tr>\n",
       "    <tr>\n",
       "      <th>3</th>\n",
       "      <td>3</td>\n",
       "      <td>0.879599</td>\n",
       "      <td>2021-02-24 13:12:28.440437</td>\n",
       "      <td>2021-02-24 13:25:41.513329</td>\n",
       "      <td>0 days 00:13:13.072892</td>\n",
       "      <td>0.35809</td>\n",
       "      <td>5</td>\n",
       "      <td>0.53820</td>\n",
       "      <td>5.707204e-03</td>\n",
       "      <td>1.445127e-08</td>\n",
       "      <td>...</td>\n",
       "      <td>0.884546</td>\n",
       "      <td>0.884507</td>\n",
       "      <td>0.884395</td>\n",
       "      <td>0.884076</td>\n",
       "      <td>0.883173</td>\n",
       "      <td>0.881038</td>\n",
       "      <td>0.877881</td>\n",
       "      <td>0.877445</td>\n",
       "      <td>NaN</td>\n",
       "      <td>COMPLETE</td>\n",
       "    </tr>\n",
       "    <tr>\n",
       "      <th>4</th>\n",
       "      <td>4</td>\n",
       "      <td>0.884573</td>\n",
       "      <td>2021-02-24 13:25:41.778388</td>\n",
       "      <td>2021-02-24 13:25:42.705596</td>\n",
       "      <td>0 days 00:00:00.927208</td>\n",
       "      <td>0.12046</td>\n",
       "      <td>5</td>\n",
       "      <td>0.76791</td>\n",
       "      <td>2.812893e-08</td>\n",
       "      <td>1.039276e-03</td>\n",
       "      <td>...</td>\n",
       "      <td>0.884573</td>\n",
       "      <td>NaN</td>\n",
       "      <td>NaN</td>\n",
       "      <td>NaN</td>\n",
       "      <td>NaN</td>\n",
       "      <td>NaN</td>\n",
       "      <td>NaN</td>\n",
       "      <td>NaN</td>\n",
       "      <td>NaN</td>\n",
       "      <td>PRUNED</td>\n",
       "    </tr>\n",
       "    <tr>\n",
       "      <th>...</th>\n",
       "      <td>...</td>\n",
       "      <td>...</td>\n",
       "      <td>...</td>\n",
       "      <td>...</td>\n",
       "      <td>...</td>\n",
       "      <td>...</td>\n",
       "      <td>...</td>\n",
       "      <td>...</td>\n",
       "      <td>...</td>\n",
       "      <td>...</td>\n",
       "      <td>...</td>\n",
       "      <td>...</td>\n",
       "      <td>...</td>\n",
       "      <td>...</td>\n",
       "      <td>...</td>\n",
       "      <td>...</td>\n",
       "      <td>...</td>\n",
       "      <td>...</td>\n",
       "      <td>...</td>\n",
       "      <td>...</td>\n",
       "      <td>...</td>\n",
       "    </tr>\n",
       "    <tr>\n",
       "      <th>1495</th>\n",
       "      <td>1495</td>\n",
       "      <td>0.884476</td>\n",
       "      <td>2021-02-25 13:45:48.775308</td>\n",
       "      <td>2021-02-25 13:45:50.993805</td>\n",
       "      <td>0 days 00:00:02.218497</td>\n",
       "      <td>0.87836</td>\n",
       "      <td>4</td>\n",
       "      <td>0.72893</td>\n",
       "      <td>1.687007e-08</td>\n",
       "      <td>1.145876e-05</td>\n",
       "      <td>...</td>\n",
       "      <td>0.884529</td>\n",
       "      <td>0.884476</td>\n",
       "      <td>NaN</td>\n",
       "      <td>NaN</td>\n",
       "      <td>NaN</td>\n",
       "      <td>NaN</td>\n",
       "      <td>NaN</td>\n",
       "      <td>NaN</td>\n",
       "      <td>NaN</td>\n",
       "      <td>PRUNED</td>\n",
       "    </tr>\n",
       "    <tr>\n",
       "      <th>1496</th>\n",
       "      <td>1496</td>\n",
       "      <td>0.884478</td>\n",
       "      <td>2021-02-25 13:45:51.265867</td>\n",
       "      <td>2021-02-25 13:45:53.140288</td>\n",
       "      <td>0 days 00:00:01.874421</td>\n",
       "      <td>0.77795</td>\n",
       "      <td>5</td>\n",
       "      <td>0.83525</td>\n",
       "      <td>7.765776e-07</td>\n",
       "      <td>4.427607e-07</td>\n",
       "      <td>...</td>\n",
       "      <td>0.884530</td>\n",
       "      <td>0.884478</td>\n",
       "      <td>NaN</td>\n",
       "      <td>NaN</td>\n",
       "      <td>NaN</td>\n",
       "      <td>NaN</td>\n",
       "      <td>NaN</td>\n",
       "      <td>NaN</td>\n",
       "      <td>NaN</td>\n",
       "      <td>PRUNED</td>\n",
       "    </tr>\n",
       "    <tr>\n",
       "      <th>1497</th>\n",
       "      <td>1497</td>\n",
       "      <td>0.884488</td>\n",
       "      <td>2021-02-25 13:45:53.373341</td>\n",
       "      <td>2021-02-25 13:45:54.728643</td>\n",
       "      <td>0 days 00:00:01.355302</td>\n",
       "      <td>0.76445</td>\n",
       "      <td>7</td>\n",
       "      <td>0.14226</td>\n",
       "      <td>7.353845e-09</td>\n",
       "      <td>1.221187e-07</td>\n",
       "      <td>...</td>\n",
       "      <td>0.884488</td>\n",
       "      <td>NaN</td>\n",
       "      <td>NaN</td>\n",
       "      <td>NaN</td>\n",
       "      <td>NaN</td>\n",
       "      <td>NaN</td>\n",
       "      <td>NaN</td>\n",
       "      <td>NaN</td>\n",
       "      <td>NaN</td>\n",
       "      <td>PRUNED</td>\n",
       "    </tr>\n",
       "    <tr>\n",
       "      <th>1498</th>\n",
       "      <td>1498</td>\n",
       "      <td>0.884537</td>\n",
       "      <td>2021-02-25 13:45:54.916687</td>\n",
       "      <td>2021-02-25 13:45:56.029935</td>\n",
       "      <td>0 days 00:00:01.113248</td>\n",
       "      <td>0.86670</td>\n",
       "      <td>6</td>\n",
       "      <td>0.80584</td>\n",
       "      <td>2.949167e-01</td>\n",
       "      <td>5.759965e-06</td>\n",
       "      <td>...</td>\n",
       "      <td>0.884537</td>\n",
       "      <td>NaN</td>\n",
       "      <td>NaN</td>\n",
       "      <td>NaN</td>\n",
       "      <td>NaN</td>\n",
       "      <td>NaN</td>\n",
       "      <td>NaN</td>\n",
       "      <td>NaN</td>\n",
       "      <td>NaN</td>\n",
       "      <td>PRUNED</td>\n",
       "    </tr>\n",
       "    <tr>\n",
       "      <th>1499</th>\n",
       "      <td>1499</td>\n",
       "      <td>0.884550</td>\n",
       "      <td>2021-02-25 13:45:56.210976</td>\n",
       "      <td>2021-02-25 13:45:56.755098</td>\n",
       "      <td>0 days 00:00:00.544122</td>\n",
       "      <td>0.82548</td>\n",
       "      <td>4</td>\n",
       "      <td>0.63577</td>\n",
       "      <td>5.424017e-03</td>\n",
       "      <td>2.614732e-06</td>\n",
       "      <td>...</td>\n",
       "      <td>0.884550</td>\n",
       "      <td>NaN</td>\n",
       "      <td>NaN</td>\n",
       "      <td>NaN</td>\n",
       "      <td>NaN</td>\n",
       "      <td>NaN</td>\n",
       "      <td>NaN</td>\n",
       "      <td>NaN</td>\n",
       "      <td>NaN</td>\n",
       "      <td>PRUNED</td>\n",
       "    </tr>\n",
       "  </tbody>\n",
       "</table>\n",
       "<p>1500 rows × 25 columns</p>\n",
       "</div>"
      ],
      "text/plain": [
       "      number     value             datetime_start          datetime_complete  \\\n",
       "0          0  0.878259 2021-02-24 12:41:07.152451 2021-02-24 13:04:14.153598   \n",
       "1          1  0.878335 2021-02-24 13:04:14.498627 2021-02-24 13:11:10.882608   \n",
       "2          2  0.887270 2021-02-24 13:11:11.169212 2021-02-24 13:12:28.167771   \n",
       "3          3  0.879599 2021-02-24 13:12:28.440437 2021-02-24 13:25:41.513329   \n",
       "4          4  0.884573 2021-02-24 13:25:41.778388 2021-02-24 13:25:42.705596   \n",
       "...      ...       ...                        ...                        ...   \n",
       "1495    1495  0.884476 2021-02-25 13:45:48.775308 2021-02-25 13:45:50.993805   \n",
       "1496    1496  0.884478 2021-02-25 13:45:51.265867 2021-02-25 13:45:53.140288   \n",
       "1497    1497  0.884488 2021-02-25 13:45:53.373341 2021-02-25 13:45:54.728643   \n",
       "1498    1498  0.884537 2021-02-25 13:45:54.916687 2021-02-25 13:45:56.029935   \n",
       "1499    1499  0.884550 2021-02-25 13:45:56.210976 2021-02-25 13:45:56.755098   \n",
       "\n",
       "                   duration  params_bagging_fraction  params_bagging_freq  \\\n",
       "0    0 days 00:23:07.001147                  0.66239                    9   \n",
       "1    0 days 00:06:56.383981                  0.22753                   10   \n",
       "2    0 days 00:01:16.998559                  0.94330                    3   \n",
       "3    0 days 00:13:13.072892                  0.35809                    5   \n",
       "4    0 days 00:00:00.927208                  0.12046                    5   \n",
       "...                     ...                      ...                  ...   \n",
       "1495 0 days 00:00:02.218497                  0.87836                    4   \n",
       "1496 0 days 00:00:01.874421                  0.77795                    5   \n",
       "1497 0 days 00:00:01.355302                  0.76445                    7   \n",
       "1498 0 days 00:00:01.113248                  0.86670                    6   \n",
       "1499 0 days 00:00:00.544122                  0.82548                    4   \n",
       "\n",
       "      params_feature_fraction  params_lambda_l1  params_lambda_l2  ...  \\\n",
       "0                     0.77535      4.190770e-08      2.924400e-07  ...   \n",
       "1                     0.15740      6.041460e-08      9.773214e-07  ...   \n",
       "2                     0.82758      2.430670e-05      4.229899e-09  ...   \n",
       "3                     0.53820      5.707204e-03      1.445127e-08  ...   \n",
       "4                     0.76791      2.812893e-08      1.039276e-03  ...   \n",
       "...                       ...               ...               ...  ...   \n",
       "1495                  0.72893      1.687007e-08      1.145876e-05  ...   \n",
       "1496                  0.83525      7.765776e-07      4.427607e-07  ...   \n",
       "1497                  0.14226      7.353845e-09      1.221187e-07  ...   \n",
       "1498                  0.80584      2.949167e-01      5.759965e-06  ...   \n",
       "1499                  0.63577      5.424017e-03      2.614732e-06  ...   \n",
       "\n",
       "      system_attrs_completed_rung_0  system_attrs_completed_rung_1  \\\n",
       "0                               NaN                            NaN   \n",
       "1                          0.884508                       0.884390   \n",
       "2                          0.884585                       0.884585   \n",
       "3                          0.884546                       0.884507   \n",
       "4                          0.884573                            NaN   \n",
       "...                             ...                            ...   \n",
       "1495                       0.884529                       0.884476   \n",
       "1496                       0.884530                       0.884478   \n",
       "1497                       0.884488                            NaN   \n",
       "1498                       0.884537                            NaN   \n",
       "1499                       0.884550                            NaN   \n",
       "\n",
       "      system_attrs_completed_rung_2  system_attrs_completed_rung_3  \\\n",
       "0                               NaN                            NaN   \n",
       "1                          0.884069                       0.883137   \n",
       "2                          0.884585                       0.884585   \n",
       "3                          0.884395                       0.884076   \n",
       "4                               NaN                            NaN   \n",
       "...                             ...                            ...   \n",
       "1495                            NaN                            NaN   \n",
       "1496                            NaN                            NaN   \n",
       "1497                            NaN                            NaN   \n",
       "1498                            NaN                            NaN   \n",
       "1499                            NaN                            NaN   \n",
       "\n",
       "      system_attrs_completed_rung_4  system_attrs_completed_rung_5  \\\n",
       "0                               NaN                            NaN   \n",
       "1                          0.880917                       0.877346   \n",
       "2                          0.884586                       0.884590   \n",
       "3                          0.883173                       0.881038   \n",
       "4                               NaN                            NaN   \n",
       "...                             ...                            ...   \n",
       "1495                            NaN                            NaN   \n",
       "1496                            NaN                            NaN   \n",
       "1497                            NaN                            NaN   \n",
       "1498                            NaN                            NaN   \n",
       "1499                            NaN                            NaN   \n",
       "\n",
       "      system_attrs_completed_rung_6  system_attrs_completed_rung_7  \\\n",
       "0                               NaN                            NaN   \n",
       "1                          0.875623                            NaN   \n",
       "2                          0.884603                       0.888391   \n",
       "3                          0.877881                       0.877445   \n",
       "4                               NaN                            NaN   \n",
       "...                             ...                            ...   \n",
       "1495                            NaN                            NaN   \n",
       "1496                            NaN                            NaN   \n",
       "1497                            NaN                            NaN   \n",
       "1498                            NaN                            NaN   \n",
       "1499                            NaN                            NaN   \n",
       "\n",
       "      system_attrs_completed_rung_8     state  \n",
       "0                               NaN  COMPLETE  \n",
       "1                               NaN  COMPLETE  \n",
       "2                          0.888389  COMPLETE  \n",
       "3                               NaN  COMPLETE  \n",
       "4                               NaN    PRUNED  \n",
       "...                             ...       ...  \n",
       "1495                            NaN    PRUNED  \n",
       "1496                            NaN    PRUNED  \n",
       "1497                            NaN    PRUNED  \n",
       "1498                            NaN    PRUNED  \n",
       "1499                            NaN    PRUNED  \n",
       "\n",
       "[1500 rows x 25 columns]"
      ]
     },
     "execution_count": 40,
     "metadata": {},
     "output_type": "execute_result"
    }
   ],
   "source": [
    "optuna_CB_df = lgbm_study.trials_dataframe()\n",
    "optuna_CB_df"
   ]
  },
  {
   "cell_type": "code",
   "execution_count": 44,
   "metadata": {},
   "outputs": [],
   "source": [
    "completed_optuna_trial_df = optuna_CB_df[optuna_CB_df['state'] == 'COMPLETE']"
   ]
  },
  {
   "cell_type": "code",
   "execution_count": 46,
   "metadata": {},
   "outputs": [
    {
     "data": {
      "text/html": [
       "<div>\n",
       "<style scoped>\n",
       "    .dataframe tbody tr th:only-of-type {\n",
       "        vertical-align: middle;\n",
       "    }\n",
       "\n",
       "    .dataframe tbody tr th {\n",
       "        vertical-align: top;\n",
       "    }\n",
       "\n",
       "    .dataframe thead th {\n",
       "        text-align: right;\n",
       "    }\n",
       "</style>\n",
       "<table border=\"1\" class=\"dataframe\">\n",
       "  <thead>\n",
       "    <tr style=\"text-align: right;\">\n",
       "      <th></th>\n",
       "      <th>number</th>\n",
       "      <th>value</th>\n",
       "      <th>datetime_start</th>\n",
       "      <th>datetime_complete</th>\n",
       "      <th>duration</th>\n",
       "      <th>params_bagging_fraction</th>\n",
       "      <th>params_bagging_freq</th>\n",
       "      <th>params_feature_fraction</th>\n",
       "      <th>params_lambda_l1</th>\n",
       "      <th>params_lambda_l2</th>\n",
       "      <th>...</th>\n",
       "      <th>system_attrs_completed_rung_0</th>\n",
       "      <th>system_attrs_completed_rung_1</th>\n",
       "      <th>system_attrs_completed_rung_2</th>\n",
       "      <th>system_attrs_completed_rung_3</th>\n",
       "      <th>system_attrs_completed_rung_4</th>\n",
       "      <th>system_attrs_completed_rung_5</th>\n",
       "      <th>system_attrs_completed_rung_6</th>\n",
       "      <th>system_attrs_completed_rung_7</th>\n",
       "      <th>system_attrs_completed_rung_8</th>\n",
       "      <th>state</th>\n",
       "    </tr>\n",
       "  </thead>\n",
       "  <tbody>\n",
       "    <tr>\n",
       "      <th>11</th>\n",
       "      <td>11</td>\n",
       "      <td>0.876892</td>\n",
       "      <td>2021-02-24 13:30:28.508600</td>\n",
       "      <td>2021-02-24 13:36:49.022887</td>\n",
       "      <td>0 days 00:06:20.514287</td>\n",
       "      <td>0.79834</td>\n",
       "      <td>8</td>\n",
       "      <td>0.70194</td>\n",
       "      <td>1.696234e-03</td>\n",
       "      <td>2.786169e-10</td>\n",
       "      <td>...</td>\n",
       "      <td>0.884536</td>\n",
       "      <td>0.884489</td>\n",
       "      <td>0.884349</td>\n",
       "      <td>0.883941</td>\n",
       "      <td>0.882802</td>\n",
       "      <td>0.880109</td>\n",
       "      <td>0.876022</td>\n",
       "      <td>0.874163</td>\n",
       "      <td>NaN</td>\n",
       "      <td>COMPLETE</td>\n",
       "    </tr>\n",
       "    <tr>\n",
       "      <th>756</th>\n",
       "      <td>756</td>\n",
       "      <td>0.876942</td>\n",
       "      <td>2021-02-25 08:07:46.160549</td>\n",
       "      <td>2021-02-25 08:13:06.991641</td>\n",
       "      <td>0 days 00:05:20.831092</td>\n",
       "      <td>0.99071</td>\n",
       "      <td>6</td>\n",
       "      <td>0.63631</td>\n",
       "      <td>4.483412e-02</td>\n",
       "      <td>2.707327e-07</td>\n",
       "      <td>...</td>\n",
       "      <td>0.882823</td>\n",
       "      <td>0.880172</td>\n",
       "      <td>0.876100</td>\n",
       "      <td>0.874119</td>\n",
       "      <td>NaN</td>\n",
       "      <td>NaN</td>\n",
       "      <td>NaN</td>\n",
       "      <td>NaN</td>\n",
       "      <td>NaN</td>\n",
       "      <td>COMPLETE</td>\n",
       "    </tr>\n",
       "    <tr>\n",
       "      <th>78</th>\n",
       "      <td>78</td>\n",
       "      <td>0.876980</td>\n",
       "      <td>2021-02-24 14:27:13.149461</td>\n",
       "      <td>2021-02-24 14:33:51.430562</td>\n",
       "      <td>0 days 00:06:38.281101</td>\n",
       "      <td>0.99680</td>\n",
       "      <td>7</td>\n",
       "      <td>0.55220</td>\n",
       "      <td>6.053287e-05</td>\n",
       "      <td>3.488173e-05</td>\n",
       "      <td>...</td>\n",
       "      <td>0.884489</td>\n",
       "      <td>0.884348</td>\n",
       "      <td>0.883938</td>\n",
       "      <td>0.882800</td>\n",
       "      <td>0.880125</td>\n",
       "      <td>0.876068</td>\n",
       "      <td>0.874198</td>\n",
       "      <td>NaN</td>\n",
       "      <td>NaN</td>\n",
       "      <td>COMPLETE</td>\n",
       "    </tr>\n",
       "    <tr>\n",
       "      <th>424</th>\n",
       "      <td>424</td>\n",
       "      <td>0.876995</td>\n",
       "      <td>2021-02-25 03:35:23.007361</td>\n",
       "      <td>2021-02-25 03:41:40.540687</td>\n",
       "      <td>0 days 00:06:17.533326</td>\n",
       "      <td>0.84607</td>\n",
       "      <td>2</td>\n",
       "      <td>0.78408</td>\n",
       "      <td>1.542790e-02</td>\n",
       "      <td>3.343249e-08</td>\n",
       "      <td>...</td>\n",
       "      <td>0.882897</td>\n",
       "      <td>0.880341</td>\n",
       "      <td>0.876429</td>\n",
       "      <td>0.874382</td>\n",
       "      <td>NaN</td>\n",
       "      <td>NaN</td>\n",
       "      <td>NaN</td>\n",
       "      <td>NaN</td>\n",
       "      <td>NaN</td>\n",
       "      <td>COMPLETE</td>\n",
       "    </tr>\n",
       "    <tr>\n",
       "      <th>1317</th>\n",
       "      <td>1317</td>\n",
       "      <td>0.877135</td>\n",
       "      <td>2021-02-25 12:51:31.127575</td>\n",
       "      <td>2021-02-25 12:56:06.234045</td>\n",
       "      <td>0 days 00:04:35.106470</td>\n",
       "      <td>0.20273</td>\n",
       "      <td>9</td>\n",
       "      <td>0.95310</td>\n",
       "      <td>2.893313e-06</td>\n",
       "      <td>2.357711e-01</td>\n",
       "      <td>...</td>\n",
       "      <td>0.876369</td>\n",
       "      <td>0.874594</td>\n",
       "      <td>NaN</td>\n",
       "      <td>NaN</td>\n",
       "      <td>NaN</td>\n",
       "      <td>NaN</td>\n",
       "      <td>NaN</td>\n",
       "      <td>NaN</td>\n",
       "      <td>NaN</td>\n",
       "      <td>COMPLETE</td>\n",
       "    </tr>\n",
       "    <tr>\n",
       "      <th>1406</th>\n",
       "      <td>1406</td>\n",
       "      <td>0.877185</td>\n",
       "      <td>2021-02-25 13:13:15.023372</td>\n",
       "      <td>2021-02-25 13:29:07.847377</td>\n",
       "      <td>0 days 00:15:52.824005</td>\n",
       "      <td>0.94735</td>\n",
       "      <td>4</td>\n",
       "      <td>0.96279</td>\n",
       "      <td>1.729723e-05</td>\n",
       "      <td>1.273600e-08</td>\n",
       "      <td>...</td>\n",
       "      <td>0.883881</td>\n",
       "      <td>0.882660</td>\n",
       "      <td>0.879819</td>\n",
       "      <td>0.875741</td>\n",
       "      <td>0.874339</td>\n",
       "      <td>NaN</td>\n",
       "      <td>NaN</td>\n",
       "      <td>NaN</td>\n",
       "      <td>NaN</td>\n",
       "      <td>COMPLETE</td>\n",
       "    </tr>\n",
       "    <tr>\n",
       "      <th>69</th>\n",
       "      <td>69</td>\n",
       "      <td>0.877270</td>\n",
       "      <td>2021-02-24 14:20:21.663064</td>\n",
       "      <td>2021-02-24 14:26:22.644551</td>\n",
       "      <td>0 days 00:06:00.981487</td>\n",
       "      <td>0.68224</td>\n",
       "      <td>8</td>\n",
       "      <td>0.50846</td>\n",
       "      <td>2.510190e-09</td>\n",
       "      <td>1.268472e-07</td>\n",
       "      <td>...</td>\n",
       "      <td>0.884490</td>\n",
       "      <td>0.884350</td>\n",
       "      <td>0.883946</td>\n",
       "      <td>0.882821</td>\n",
       "      <td>0.880149</td>\n",
       "      <td>0.876155</td>\n",
       "      <td>0.874695</td>\n",
       "      <td>NaN</td>\n",
       "      <td>NaN</td>\n",
       "      <td>COMPLETE</td>\n",
       "    </tr>\n",
       "    <tr>\n",
       "      <th>24</th>\n",
       "      <td>24</td>\n",
       "      <td>0.877287</td>\n",
       "      <td>2021-02-24 14:00:37.980236</td>\n",
       "      <td>2021-02-24 14:04:40.882026</td>\n",
       "      <td>0 days 00:04:02.901790</td>\n",
       "      <td>0.12841</td>\n",
       "      <td>6</td>\n",
       "      <td>0.21328</td>\n",
       "      <td>1.767658e-10</td>\n",
       "      <td>1.907395e-10</td>\n",
       "      <td>...</td>\n",
       "      <td>0.884039</td>\n",
       "      <td>0.883078</td>\n",
       "      <td>0.880721</td>\n",
       "      <td>0.876925</td>\n",
       "      <td>0.874667</td>\n",
       "      <td>NaN</td>\n",
       "      <td>NaN</td>\n",
       "      <td>NaN</td>\n",
       "      <td>NaN</td>\n",
       "      <td>COMPLETE</td>\n",
       "    </tr>\n",
       "    <tr>\n",
       "      <th>770</th>\n",
       "      <td>770</td>\n",
       "      <td>0.877331</td>\n",
       "      <td>2021-02-25 08:13:46.015384</td>\n",
       "      <td>2021-02-25 08:23:40.328036</td>\n",
       "      <td>0 days 00:09:54.312652</td>\n",
       "      <td>0.79614</td>\n",
       "      <td>6</td>\n",
       "      <td>0.89786</td>\n",
       "      <td>9.343606e-04</td>\n",
       "      <td>1.713792e-09</td>\n",
       "      <td>...</td>\n",
       "      <td>0.884479</td>\n",
       "      <td>0.884330</td>\n",
       "      <td>0.883882</td>\n",
       "      <td>0.882659</td>\n",
       "      <td>0.879835</td>\n",
       "      <td>0.875800</td>\n",
       "      <td>0.874793</td>\n",
       "      <td>NaN</td>\n",
       "      <td>NaN</td>\n",
       "      <td>COMPLETE</td>\n",
       "    </tr>\n",
       "    <tr>\n",
       "      <th>7</th>\n",
       "      <td>7</td>\n",
       "      <td>0.877413</td>\n",
       "      <td>2021-02-24 13:25:45.022580</td>\n",
       "      <td>2021-02-24 13:30:25.005813</td>\n",
       "      <td>0 days 00:04:39.983233</td>\n",
       "      <td>0.60964</td>\n",
       "      <td>1</td>\n",
       "      <td>0.10316</td>\n",
       "      <td>3.614921e-10</td>\n",
       "      <td>1.826205e-10</td>\n",
       "      <td>...</td>\n",
       "      <td>0.882920</td>\n",
       "      <td>0.880401</td>\n",
       "      <td>0.876482</td>\n",
       "      <td>0.874657</td>\n",
       "      <td>NaN</td>\n",
       "      <td>NaN</td>\n",
       "      <td>NaN</td>\n",
       "      <td>NaN</td>\n",
       "      <td>NaN</td>\n",
       "      <td>COMPLETE</td>\n",
       "    </tr>\n",
       "    <tr>\n",
       "      <th>41</th>\n",
       "      <td>41</td>\n",
       "      <td>0.877426</td>\n",
       "      <td>2021-02-24 14:13:06.668223</td>\n",
       "      <td>2021-02-24 14:18:09.258677</td>\n",
       "      <td>0 days 00:05:02.590454</td>\n",
       "      <td>0.64520</td>\n",
       "      <td>5</td>\n",
       "      <td>0.31077</td>\n",
       "      <td>2.559056e-02</td>\n",
       "      <td>1.726473e-07</td>\n",
       "      <td>...</td>\n",
       "      <td>0.884497</td>\n",
       "      <td>0.884368</td>\n",
       "      <td>0.883988</td>\n",
       "      <td>0.882913</td>\n",
       "      <td>0.880369</td>\n",
       "      <td>0.876531</td>\n",
       "      <td>0.874790</td>\n",
       "      <td>NaN</td>\n",
       "      <td>NaN</td>\n",
       "      <td>COMPLETE</td>\n",
       "    </tr>\n",
       "    <tr>\n",
       "      <th>946</th>\n",
       "      <td>946</td>\n",
       "      <td>0.877498</td>\n",
       "      <td>2021-02-25 11:25:06.590167</td>\n",
       "      <td>2021-02-25 11:36:03.916183</td>\n",
       "      <td>0 days 00:10:57.326016</td>\n",
       "      <td>0.94789</td>\n",
       "      <td>6</td>\n",
       "      <td>0.86420</td>\n",
       "      <td>4.460856e-07</td>\n",
       "      <td>7.131034e-08</td>\n",
       "      <td>...</td>\n",
       "      <td>0.884481</td>\n",
       "      <td>0.884327</td>\n",
       "      <td>0.883887</td>\n",
       "      <td>0.882655</td>\n",
       "      <td>0.879812</td>\n",
       "      <td>0.875821</td>\n",
       "      <td>0.874921</td>\n",
       "      <td>NaN</td>\n",
       "      <td>NaN</td>\n",
       "      <td>COMPLETE</td>\n",
       "    </tr>\n",
       "    <tr>\n",
       "      <th>863</th>\n",
       "      <td>863</td>\n",
       "      <td>0.877532</td>\n",
       "      <td>2021-02-25 08:58:27.639299</td>\n",
       "      <td>2021-02-25 09:10:39.584552</td>\n",
       "      <td>0 days 00:12:11.945253</td>\n",
       "      <td>0.84724</td>\n",
       "      <td>6</td>\n",
       "      <td>0.97797</td>\n",
       "      <td>1.364611e-07</td>\n",
       "      <td>1.420676e-04</td>\n",
       "      <td>...</td>\n",
       "      <td>0.884479</td>\n",
       "      <td>0.884324</td>\n",
       "      <td>0.883874</td>\n",
       "      <td>0.882639</td>\n",
       "      <td>0.879795</td>\n",
       "      <td>0.875819</td>\n",
       "      <td>0.874979</td>\n",
       "      <td>NaN</td>\n",
       "      <td>NaN</td>\n",
       "      <td>COMPLETE</td>\n",
       "    </tr>\n",
       "    <tr>\n",
       "      <th>154</th>\n",
       "      <td>154</td>\n",
       "      <td>0.877569</td>\n",
       "      <td>2021-02-24 14:36:54.879299</td>\n",
       "      <td>2021-02-24 14:41:14.161335</td>\n",
       "      <td>0 days 00:04:19.282036</td>\n",
       "      <td>0.06506</td>\n",
       "      <td>10</td>\n",
       "      <td>0.44099</td>\n",
       "      <td>7.680032e-09</td>\n",
       "      <td>5.031898e-04</td>\n",
       "      <td>...</td>\n",
       "      <td>0.881182</td>\n",
       "      <td>0.877669</td>\n",
       "      <td>0.875453</td>\n",
       "      <td>0.874845</td>\n",
       "      <td>NaN</td>\n",
       "      <td>NaN</td>\n",
       "      <td>NaN</td>\n",
       "      <td>NaN</td>\n",
       "      <td>NaN</td>\n",
       "      <td>COMPLETE</td>\n",
       "    </tr>\n",
       "    <tr>\n",
       "      <th>1090</th>\n",
       "      <td>1090</td>\n",
       "      <td>0.877637</td>\n",
       "      <td>2021-02-25 11:48:58.297078</td>\n",
       "      <td>2021-02-25 12:00:51.876548</td>\n",
       "      <td>0 days 00:11:53.579470</td>\n",
       "      <td>0.99807</td>\n",
       "      <td>6</td>\n",
       "      <td>0.89662</td>\n",
       "      <td>3.466983e-05</td>\n",
       "      <td>6.973371e-08</td>\n",
       "      <td>...</td>\n",
       "      <td>0.884478</td>\n",
       "      <td>0.884327</td>\n",
       "      <td>0.883880</td>\n",
       "      <td>0.882654</td>\n",
       "      <td>0.879824</td>\n",
       "      <td>0.875879</td>\n",
       "      <td>0.874968</td>\n",
       "      <td>NaN</td>\n",
       "      <td>NaN</td>\n",
       "      <td>COMPLETE</td>\n",
       "    </tr>\n",
       "    <tr>\n",
       "      <th>628</th>\n",
       "      <td>628</td>\n",
       "      <td>0.877859</td>\n",
       "      <td>2021-02-25 06:31:40.848039</td>\n",
       "      <td>2021-02-25 06:44:05.418861</td>\n",
       "      <td>0 days 00:12:24.570822</td>\n",
       "      <td>0.96830</td>\n",
       "      <td>5</td>\n",
       "      <td>0.88728</td>\n",
       "      <td>2.129507e-06</td>\n",
       "      <td>2.667312e-04</td>\n",
       "      <td>...</td>\n",
       "      <td>0.884319</td>\n",
       "      <td>0.883870</td>\n",
       "      <td>0.882636</td>\n",
       "      <td>0.879799</td>\n",
       "      <td>0.875894</td>\n",
       "      <td>0.875271</td>\n",
       "      <td>NaN</td>\n",
       "      <td>NaN</td>\n",
       "      <td>NaN</td>\n",
       "      <td>COMPLETE</td>\n",
       "    </tr>\n",
       "    <tr>\n",
       "      <th>39</th>\n",
       "      <td>39</td>\n",
       "      <td>0.877899</td>\n",
       "      <td>2021-02-24 14:04:56.837288</td>\n",
       "      <td>2021-02-24 14:13:05.361900</td>\n",
       "      <td>0 days 00:08:08.524612</td>\n",
       "      <td>0.96814</td>\n",
       "      <td>6</td>\n",
       "      <td>0.13948</td>\n",
       "      <td>6.699653e-03</td>\n",
       "      <td>1.655740e-01</td>\n",
       "      <td>...</td>\n",
       "      <td>0.876510</td>\n",
       "      <td>0.875129</td>\n",
       "      <td>NaN</td>\n",
       "      <td>NaN</td>\n",
       "      <td>NaN</td>\n",
       "      <td>NaN</td>\n",
       "      <td>NaN</td>\n",
       "      <td>NaN</td>\n",
       "      <td>NaN</td>\n",
       "      <td>COMPLETE</td>\n",
       "    </tr>\n",
       "    <tr>\n",
       "      <th>232</th>\n",
       "      <td>232</td>\n",
       "      <td>0.877983</td>\n",
       "      <td>2021-02-24 15:15:58.047081</td>\n",
       "      <td>2021-02-24 15:33:05.527574</td>\n",
       "      <td>0 days 00:17:07.480493</td>\n",
       "      <td>0.77712</td>\n",
       "      <td>2</td>\n",
       "      <td>0.98207</td>\n",
       "      <td>5.382367e-05</td>\n",
       "      <td>2.599760e-05</td>\n",
       "      <td>...</td>\n",
       "      <td>0.884331</td>\n",
       "      <td>0.883886</td>\n",
       "      <td>0.882650</td>\n",
       "      <td>0.879828</td>\n",
       "      <td>0.876032</td>\n",
       "      <td>0.876182</td>\n",
       "      <td>NaN</td>\n",
       "      <td>NaN</td>\n",
       "      <td>NaN</td>\n",
       "      <td>COMPLETE</td>\n",
       "    </tr>\n",
       "    <tr>\n",
       "      <th>199</th>\n",
       "      <td>199</td>\n",
       "      <td>0.878094</td>\n",
       "      <td>2021-02-24 15:02:04.409256</td>\n",
       "      <td>2021-02-24 15:07:29.410106</td>\n",
       "      <td>0 days 00:05:25.000850</td>\n",
       "      <td>0.20512</td>\n",
       "      <td>6</td>\n",
       "      <td>0.04575</td>\n",
       "      <td>2.099195e-10</td>\n",
       "      <td>3.409969e-03</td>\n",
       "      <td>...</td>\n",
       "      <td>0.875270</td>\n",
       "      <td>NaN</td>\n",
       "      <td>NaN</td>\n",
       "      <td>NaN</td>\n",
       "      <td>NaN</td>\n",
       "      <td>NaN</td>\n",
       "      <td>NaN</td>\n",
       "      <td>NaN</td>\n",
       "      <td>NaN</td>\n",
       "      <td>COMPLETE</td>\n",
       "    </tr>\n",
       "    <tr>\n",
       "      <th>0</th>\n",
       "      <td>0</td>\n",
       "      <td>0.878259</td>\n",
       "      <td>2021-02-24 12:41:07.152451</td>\n",
       "      <td>2021-02-24 13:04:14.153598</td>\n",
       "      <td>0 days 00:23:07.001147</td>\n",
       "      <td>0.66239</td>\n",
       "      <td>9</td>\n",
       "      <td>0.77535</td>\n",
       "      <td>4.190770e-08</td>\n",
       "      <td>2.924400e-07</td>\n",
       "      <td>...</td>\n",
       "      <td>NaN</td>\n",
       "      <td>NaN</td>\n",
       "      <td>NaN</td>\n",
       "      <td>NaN</td>\n",
       "      <td>NaN</td>\n",
       "      <td>NaN</td>\n",
       "      <td>NaN</td>\n",
       "      <td>NaN</td>\n",
       "      <td>NaN</td>\n",
       "      <td>COMPLETE</td>\n",
       "    </tr>\n",
       "    <tr>\n",
       "      <th>1</th>\n",
       "      <td>1</td>\n",
       "      <td>0.878335</td>\n",
       "      <td>2021-02-24 13:04:14.498627</td>\n",
       "      <td>2021-02-24 13:11:10.882608</td>\n",
       "      <td>0 days 00:06:56.383981</td>\n",
       "      <td>0.22753</td>\n",
       "      <td>10</td>\n",
       "      <td>0.15740</td>\n",
       "      <td>6.041460e-08</td>\n",
       "      <td>9.773214e-07</td>\n",
       "      <td>...</td>\n",
       "      <td>0.884508</td>\n",
       "      <td>0.884390</td>\n",
       "      <td>0.884069</td>\n",
       "      <td>0.883137</td>\n",
       "      <td>0.880917</td>\n",
       "      <td>0.877346</td>\n",
       "      <td>0.875623</td>\n",
       "      <td>NaN</td>\n",
       "      <td>NaN</td>\n",
       "      <td>COMPLETE</td>\n",
       "    </tr>\n",
       "    <tr>\n",
       "      <th>1124</th>\n",
       "      <td>1124</td>\n",
       "      <td>0.878504</td>\n",
       "      <td>2021-02-25 12:02:15.440807</td>\n",
       "      <td>2021-02-25 12:22:12.165826</td>\n",
       "      <td>0 days 00:19:56.725019</td>\n",
       "      <td>0.78883</td>\n",
       "      <td>6</td>\n",
       "      <td>0.99938</td>\n",
       "      <td>2.857216e-07</td>\n",
       "      <td>3.285547e-09</td>\n",
       "      <td>...</td>\n",
       "      <td>0.883877</td>\n",
       "      <td>0.882663</td>\n",
       "      <td>0.879853</td>\n",
       "      <td>0.876261</td>\n",
       "      <td>NaN</td>\n",
       "      <td>NaN</td>\n",
       "      <td>NaN</td>\n",
       "      <td>NaN</td>\n",
       "      <td>NaN</td>\n",
       "      <td>COMPLETE</td>\n",
       "    </tr>\n",
       "    <tr>\n",
       "      <th>187</th>\n",
       "      <td>187</td>\n",
       "      <td>0.878602</td>\n",
       "      <td>2021-02-24 14:44:50.928476</td>\n",
       "      <td>2021-02-24 15:01:36.638033</td>\n",
       "      <td>0 days 00:16:45.709557</td>\n",
       "      <td>0.53966</td>\n",
       "      <td>9</td>\n",
       "      <td>0.72272</td>\n",
       "      <td>4.011432e-05</td>\n",
       "      <td>2.774250e-05</td>\n",
       "      <td>...</td>\n",
       "      <td>0.884328</td>\n",
       "      <td>0.883901</td>\n",
       "      <td>0.882663</td>\n",
       "      <td>0.879906</td>\n",
       "      <td>0.876368</td>\n",
       "      <td>0.880527</td>\n",
       "      <td>NaN</td>\n",
       "      <td>NaN</td>\n",
       "      <td>NaN</td>\n",
       "      <td>COMPLETE</td>\n",
       "    </tr>\n",
       "    <tr>\n",
       "      <th>706</th>\n",
       "      <td>706</td>\n",
       "      <td>0.878648</td>\n",
       "      <td>2021-02-25 07:30:22.595745</td>\n",
       "      <td>2021-02-25 08:00:03.061167</td>\n",
       "      <td>0 days 00:29:40.465422</td>\n",
       "      <td>0.89458</td>\n",
       "      <td>4</td>\n",
       "      <td>0.83776</td>\n",
       "      <td>2.203689e-07</td>\n",
       "      <td>4.848659e-06</td>\n",
       "      <td>...</td>\n",
       "      <td>0.884530</td>\n",
       "      <td>0.884474</td>\n",
       "      <td>0.884315</td>\n",
       "      <td>0.883848</td>\n",
       "      <td>0.882569</td>\n",
       "      <td>0.879712</td>\n",
       "      <td>0.876165</td>\n",
       "      <td>NaN</td>\n",
       "      <td>NaN</td>\n",
       "      <td>COMPLETE</td>\n",
       "    </tr>\n",
       "    <tr>\n",
       "      <th>340</th>\n",
       "      <td>340</td>\n",
       "      <td>0.879143</td>\n",
       "      <td>2021-02-24 23:19:11.089742</td>\n",
       "      <td>2021-02-24 23:50:36.317620</td>\n",
       "      <td>0 days 00:31:25.227878</td>\n",
       "      <td>0.85319</td>\n",
       "      <td>3</td>\n",
       "      <td>0.86862</td>\n",
       "      <td>1.135284e-01</td>\n",
       "      <td>8.336617e-07</td>\n",
       "      <td>...</td>\n",
       "      <td>0.884529</td>\n",
       "      <td>0.884474</td>\n",
       "      <td>0.884314</td>\n",
       "      <td>0.883848</td>\n",
       "      <td>0.882584</td>\n",
       "      <td>0.879763</td>\n",
       "      <td>0.876475</td>\n",
       "      <td>NaN</td>\n",
       "      <td>NaN</td>\n",
       "      <td>COMPLETE</td>\n",
       "    </tr>\n",
       "    <tr>\n",
       "      <th>14</th>\n",
       "      <td>14</td>\n",
       "      <td>0.879231</td>\n",
       "      <td>2021-02-24 13:36:51.243072</td>\n",
       "      <td>2021-02-24 13:59:54.314411</td>\n",
       "      <td>0 days 00:23:03.071339</td>\n",
       "      <td>0.86948</td>\n",
       "      <td>2</td>\n",
       "      <td>0.65154</td>\n",
       "      <td>3.171023e-06</td>\n",
       "      <td>4.062140e-05</td>\n",
       "      <td>...</td>\n",
       "      <td>0.884332</td>\n",
       "      <td>0.883896</td>\n",
       "      <td>0.882687</td>\n",
       "      <td>0.879986</td>\n",
       "      <td>0.876868</td>\n",
       "      <td>NaN</td>\n",
       "      <td>NaN</td>\n",
       "      <td>NaN</td>\n",
       "      <td>NaN</td>\n",
       "      <td>COMPLETE</td>\n",
       "    </tr>\n",
       "    <tr>\n",
       "      <th>502</th>\n",
       "      <td>502</td>\n",
       "      <td>0.879232</td>\n",
       "      <td>2021-02-25 03:49:31.228712</td>\n",
       "      <td>2021-02-25 04:21:02.252019</td>\n",
       "      <td>0 days 00:31:31.023307</td>\n",
       "      <td>0.89418</td>\n",
       "      <td>5</td>\n",
       "      <td>0.97743</td>\n",
       "      <td>2.569251e-02</td>\n",
       "      <td>5.559790e-05</td>\n",
       "      <td>...</td>\n",
       "      <td>0.884524</td>\n",
       "      <td>0.884467</td>\n",
       "      <td>0.884305</td>\n",
       "      <td>0.883857</td>\n",
       "      <td>0.882560</td>\n",
       "      <td>0.879742</td>\n",
       "      <td>0.876503</td>\n",
       "      <td>NaN</td>\n",
       "      <td>NaN</td>\n",
       "      <td>COMPLETE</td>\n",
       "    </tr>\n",
       "    <tr>\n",
       "      <th>421</th>\n",
       "      <td>421</td>\n",
       "      <td>0.879264</td>\n",
       "      <td>2021-02-25 03:03:15.798718</td>\n",
       "      <td>2021-02-25 03:35:19.676109</td>\n",
       "      <td>0 days 00:32:03.877391</td>\n",
       "      <td>0.90821</td>\n",
       "      <td>5</td>\n",
       "      <td>0.79405</td>\n",
       "      <td>1.162880e-07</td>\n",
       "      <td>9.107204e-02</td>\n",
       "      <td>...</td>\n",
       "      <td>0.884529</td>\n",
       "      <td>0.884474</td>\n",
       "      <td>0.884315</td>\n",
       "      <td>0.883852</td>\n",
       "      <td>0.882587</td>\n",
       "      <td>0.879779</td>\n",
       "      <td>0.876476</td>\n",
       "      <td>NaN</td>\n",
       "      <td>NaN</td>\n",
       "      <td>COMPLETE</td>\n",
       "    </tr>\n",
       "    <tr>\n",
       "      <th>577</th>\n",
       "      <td>577</td>\n",
       "      <td>0.879349</td>\n",
       "      <td>2021-02-25 05:05:47.562264</td>\n",
       "      <td>2021-02-25 05:14:59.811859</td>\n",
       "      <td>0 days 00:09:12.249595</td>\n",
       "      <td>0.17839</td>\n",
       "      <td>4</td>\n",
       "      <td>0.89107</td>\n",
       "      <td>9.613185e-01</td>\n",
       "      <td>2.928209e-09</td>\n",
       "      <td>...</td>\n",
       "      <td>0.876926</td>\n",
       "      <td>0.880538</td>\n",
       "      <td>NaN</td>\n",
       "      <td>NaN</td>\n",
       "      <td>NaN</td>\n",
       "      <td>NaN</td>\n",
       "      <td>NaN</td>\n",
       "      <td>NaN</td>\n",
       "      <td>NaN</td>\n",
       "      <td>COMPLETE</td>\n",
       "    </tr>\n",
       "    <tr>\n",
       "      <th>345</th>\n",
       "      <td>345</td>\n",
       "      <td>0.879405</td>\n",
       "      <td>2021-02-24 23:50:43.763393</td>\n",
       "      <td>2021-02-25 00:30:02.876548</td>\n",
       "      <td>0 days 00:39:19.113155</td>\n",
       "      <td>0.77226</td>\n",
       "      <td>3</td>\n",
       "      <td>0.83336</td>\n",
       "      <td>2.274859e-07</td>\n",
       "      <td>7.800222e-06</td>\n",
       "      <td>...</td>\n",
       "      <td>0.884528</td>\n",
       "      <td>0.884474</td>\n",
       "      <td>0.884315</td>\n",
       "      <td>0.883850</td>\n",
       "      <td>0.882586</td>\n",
       "      <td>0.879782</td>\n",
       "      <td>0.876692</td>\n",
       "      <td>NaN</td>\n",
       "      <td>NaN</td>\n",
       "      <td>COMPLETE</td>\n",
       "    </tr>\n",
       "    <tr>\n",
       "      <th>585</th>\n",
       "      <td>585</td>\n",
       "      <td>0.879411</td>\n",
       "      <td>2021-02-25 05:15:19.378930</td>\n",
       "      <td>2021-02-25 05:46:37.955313</td>\n",
       "      <td>0 days 00:31:18.576383</td>\n",
       "      <td>0.92482</td>\n",
       "      <td>5</td>\n",
       "      <td>0.73401</td>\n",
       "      <td>4.046928e-03</td>\n",
       "      <td>6.332309e-06</td>\n",
       "      <td>...</td>\n",
       "      <td>0.884530</td>\n",
       "      <td>0.884472</td>\n",
       "      <td>0.884314</td>\n",
       "      <td>0.883846</td>\n",
       "      <td>0.882582</td>\n",
       "      <td>0.879820</td>\n",
       "      <td>0.876684</td>\n",
       "      <td>NaN</td>\n",
       "      <td>NaN</td>\n",
       "      <td>COMPLETE</td>\n",
       "    </tr>\n",
       "    <tr>\n",
       "      <th>361</th>\n",
       "      <td>361</td>\n",
       "      <td>0.879420</td>\n",
       "      <td>2021-02-25 00:33:35.358544</td>\n",
       "      <td>2021-02-25 01:07:16.138100</td>\n",
       "      <td>0 days 00:33:40.779556</td>\n",
       "      <td>0.87055</td>\n",
       "      <td>3</td>\n",
       "      <td>0.94186</td>\n",
       "      <td>4.527810e-08</td>\n",
       "      <td>4.629992e-06</td>\n",
       "      <td>...</td>\n",
       "      <td>0.884532</td>\n",
       "      <td>0.884472</td>\n",
       "      <td>0.884313</td>\n",
       "      <td>0.883847</td>\n",
       "      <td>0.882573</td>\n",
       "      <td>0.879793</td>\n",
       "      <td>0.876653</td>\n",
       "      <td>NaN</td>\n",
       "      <td>NaN</td>\n",
       "      <td>COMPLETE</td>\n",
       "    </tr>\n",
       "    <tr>\n",
       "      <th>852</th>\n",
       "      <td>852</td>\n",
       "      <td>0.879424</td>\n",
       "      <td>2021-02-25 08:29:09.010719</td>\n",
       "      <td>2021-02-25 08:54:52.079831</td>\n",
       "      <td>0 days 00:25:43.069112</td>\n",
       "      <td>0.89016</td>\n",
       "      <td>6</td>\n",
       "      <td>0.81071</td>\n",
       "      <td>2.069685e-02</td>\n",
       "      <td>5.745746e-06</td>\n",
       "      <td>...</td>\n",
       "      <td>0.884529</td>\n",
       "      <td>0.884474</td>\n",
       "      <td>0.884314</td>\n",
       "      <td>0.883855</td>\n",
       "      <td>0.882585</td>\n",
       "      <td>0.879803</td>\n",
       "      <td>0.876641</td>\n",
       "      <td>NaN</td>\n",
       "      <td>NaN</td>\n",
       "      <td>COMPLETE</td>\n",
       "    </tr>\n",
       "    <tr>\n",
       "      <th>369</th>\n",
       "      <td>369</td>\n",
       "      <td>0.879483</td>\n",
       "      <td>2021-02-25 01:07:32.182694</td>\n",
       "      <td>2021-02-25 01:36:54.751894</td>\n",
       "      <td>0 days 00:29:22.569200</td>\n",
       "      <td>0.87140</td>\n",
       "      <td>5</td>\n",
       "      <td>0.97598</td>\n",
       "      <td>4.314165e-08</td>\n",
       "      <td>3.275301e-05</td>\n",
       "      <td>...</td>\n",
       "      <td>0.884527</td>\n",
       "      <td>0.884472</td>\n",
       "      <td>0.884312</td>\n",
       "      <td>0.883852</td>\n",
       "      <td>0.882588</td>\n",
       "      <td>0.879779</td>\n",
       "      <td>0.876677</td>\n",
       "      <td>NaN</td>\n",
       "      <td>NaN</td>\n",
       "      <td>COMPLETE</td>\n",
       "    </tr>\n",
       "    <tr>\n",
       "      <th>337</th>\n",
       "      <td>337</td>\n",
       "      <td>0.879507</td>\n",
       "      <td>2021-02-24 22:42:39.584401</td>\n",
       "      <td>2021-02-24 23:19:06.635297</td>\n",
       "      <td>0 days 00:36:27.050896</td>\n",
       "      <td>0.85473</td>\n",
       "      <td>6</td>\n",
       "      <td>0.78065</td>\n",
       "      <td>2.450038e-02</td>\n",
       "      <td>4.827002e-06</td>\n",
       "      <td>...</td>\n",
       "      <td>0.884528</td>\n",
       "      <td>0.884473</td>\n",
       "      <td>0.884310</td>\n",
       "      <td>0.883859</td>\n",
       "      <td>0.882581</td>\n",
       "      <td>0.879803</td>\n",
       "      <td>0.876761</td>\n",
       "      <td>NaN</td>\n",
       "      <td>NaN</td>\n",
       "      <td>COMPLETE</td>\n",
       "    </tr>\n",
       "    <tr>\n",
       "      <th>940</th>\n",
       "      <td>940</td>\n",
       "      <td>0.879509</td>\n",
       "      <td>2021-02-25 10:52:07.563992</td>\n",
       "      <td>2021-02-25 11:23:11.915359</td>\n",
       "      <td>0 days 00:31:04.351367</td>\n",
       "      <td>0.92431</td>\n",
       "      <td>4</td>\n",
       "      <td>0.93917</td>\n",
       "      <td>2.462937e-08</td>\n",
       "      <td>3.342542e-02</td>\n",
       "      <td>...</td>\n",
       "      <td>0.884528</td>\n",
       "      <td>0.884473</td>\n",
       "      <td>0.884305</td>\n",
       "      <td>0.883837</td>\n",
       "      <td>0.882548</td>\n",
       "      <td>0.879776</td>\n",
       "      <td>0.876713</td>\n",
       "      <td>NaN</td>\n",
       "      <td>NaN</td>\n",
       "      <td>COMPLETE</td>\n",
       "    </tr>\n",
       "    <tr>\n",
       "      <th>404</th>\n",
       "      <td>404</td>\n",
       "      <td>0.879540</td>\n",
       "      <td>2021-02-25 02:22:24.103140</td>\n",
       "      <td>2021-02-25 02:55:34.162482</td>\n",
       "      <td>0 days 00:33:10.059342</td>\n",
       "      <td>0.87894</td>\n",
       "      <td>1</td>\n",
       "      <td>0.84957</td>\n",
       "      <td>1.694020e-08</td>\n",
       "      <td>7.893637e-06</td>\n",
       "      <td>...</td>\n",
       "      <td>0.884529</td>\n",
       "      <td>0.884474</td>\n",
       "      <td>0.884315</td>\n",
       "      <td>0.883843</td>\n",
       "      <td>0.882567</td>\n",
       "      <td>0.879747</td>\n",
       "      <td>0.876650</td>\n",
       "      <td>NaN</td>\n",
       "      <td>NaN</td>\n",
       "      <td>COMPLETE</td>\n",
       "    </tr>\n",
       "    <tr>\n",
       "      <th>258</th>\n",
       "      <td>258</td>\n",
       "      <td>0.879582</td>\n",
       "      <td>2021-02-24 18:09:50.040404</td>\n",
       "      <td>2021-02-24 18:45:46.887969</td>\n",
       "      <td>0 days 00:35:56.847565</td>\n",
       "      <td>0.45378</td>\n",
       "      <td>5</td>\n",
       "      <td>0.75695</td>\n",
       "      <td>1.688176e-01</td>\n",
       "      <td>8.940783e-06</td>\n",
       "      <td>...</td>\n",
       "      <td>0.884530</td>\n",
       "      <td>0.884478</td>\n",
       "      <td>0.884318</td>\n",
       "      <td>0.883868</td>\n",
       "      <td>0.882632</td>\n",
       "      <td>0.879897</td>\n",
       "      <td>0.876860</td>\n",
       "      <td>NaN</td>\n",
       "      <td>NaN</td>\n",
       "      <td>COMPLETE</td>\n",
       "    </tr>\n",
       "    <tr>\n",
       "      <th>3</th>\n",
       "      <td>3</td>\n",
       "      <td>0.879599</td>\n",
       "      <td>2021-02-24 13:12:28.440437</td>\n",
       "      <td>2021-02-24 13:25:41.513329</td>\n",
       "      <td>0 days 00:13:13.072892</td>\n",
       "      <td>0.35809</td>\n",
       "      <td>5</td>\n",
       "      <td>0.53820</td>\n",
       "      <td>5.707204e-03</td>\n",
       "      <td>1.445127e-08</td>\n",
       "      <td>...</td>\n",
       "      <td>0.884546</td>\n",
       "      <td>0.884507</td>\n",
       "      <td>0.884395</td>\n",
       "      <td>0.884076</td>\n",
       "      <td>0.883173</td>\n",
       "      <td>0.881038</td>\n",
       "      <td>0.877881</td>\n",
       "      <td>0.877445</td>\n",
       "      <td>NaN</td>\n",
       "      <td>COMPLETE</td>\n",
       "    </tr>\n",
       "    <tr>\n",
       "      <th>320</th>\n",
       "      <td>320</td>\n",
       "      <td>0.879624</td>\n",
       "      <td>2021-02-24 21:57:24.491093</td>\n",
       "      <td>2021-02-24 22:37:44.358368</td>\n",
       "      <td>0 days 00:40:19.867275</td>\n",
       "      <td>0.83773</td>\n",
       "      <td>4</td>\n",
       "      <td>0.83864</td>\n",
       "      <td>1.227011e-07</td>\n",
       "      <td>4.960483e-05</td>\n",
       "      <td>...</td>\n",
       "      <td>0.884529</td>\n",
       "      <td>0.884470</td>\n",
       "      <td>0.884311</td>\n",
       "      <td>0.883846</td>\n",
       "      <td>0.882586</td>\n",
       "      <td>0.879810</td>\n",
       "      <td>0.876927</td>\n",
       "      <td>NaN</td>\n",
       "      <td>NaN</td>\n",
       "      <td>COMPLETE</td>\n",
       "    </tr>\n",
       "    <tr>\n",
       "      <th>534</th>\n",
       "      <td>534</td>\n",
       "      <td>0.879656</td>\n",
       "      <td>2021-02-25 04:24:53.039085</td>\n",
       "      <td>2021-02-25 05:01:35.548112</td>\n",
       "      <td>0 days 00:36:42.509027</td>\n",
       "      <td>0.92477</td>\n",
       "      <td>6</td>\n",
       "      <td>0.76611</td>\n",
       "      <td>2.361649e-02</td>\n",
       "      <td>2.401935e-02</td>\n",
       "      <td>...</td>\n",
       "      <td>0.884529</td>\n",
       "      <td>0.884473</td>\n",
       "      <td>0.884312</td>\n",
       "      <td>0.883850</td>\n",
       "      <td>0.882563</td>\n",
       "      <td>0.879833</td>\n",
       "      <td>0.876855</td>\n",
       "      <td>NaN</td>\n",
       "      <td>NaN</td>\n",
       "      <td>COMPLETE</td>\n",
       "    </tr>\n",
       "    <tr>\n",
       "      <th>291</th>\n",
       "      <td>291</td>\n",
       "      <td>0.879666</td>\n",
       "      <td>2021-02-24 21:10:27.015578</td>\n",
       "      <td>2021-02-24 21:43:45.426511</td>\n",
       "      <td>0 days 00:33:18.410933</td>\n",
       "      <td>0.48758</td>\n",
       "      <td>5</td>\n",
       "      <td>0.82073</td>\n",
       "      <td>1.478904e-10</td>\n",
       "      <td>1.494887e-06</td>\n",
       "      <td>...</td>\n",
       "      <td>0.884529</td>\n",
       "      <td>0.884479</td>\n",
       "      <td>0.884313</td>\n",
       "      <td>0.883856</td>\n",
       "      <td>0.882608</td>\n",
       "      <td>0.879836</td>\n",
       "      <td>0.876837</td>\n",
       "      <td>NaN</td>\n",
       "      <td>NaN</td>\n",
       "      <td>COMPLETE</td>\n",
       "    </tr>\n",
       "    <tr>\n",
       "      <th>284</th>\n",
       "      <td>284</td>\n",
       "      <td>0.879717</td>\n",
       "      <td>2021-02-24 20:04:16.852542</td>\n",
       "      <td>2021-02-24 20:36:49.082396</td>\n",
       "      <td>0 days 00:32:32.229854</td>\n",
       "      <td>0.44029</td>\n",
       "      <td>5</td>\n",
       "      <td>0.82198</td>\n",
       "      <td>1.028299e-02</td>\n",
       "      <td>1.575512e-06</td>\n",
       "      <td>...</td>\n",
       "      <td>0.884527</td>\n",
       "      <td>0.884475</td>\n",
       "      <td>0.884316</td>\n",
       "      <td>0.883869</td>\n",
       "      <td>0.882627</td>\n",
       "      <td>0.879922</td>\n",
       "      <td>0.877010</td>\n",
       "      <td>NaN</td>\n",
       "      <td>NaN</td>\n",
       "      <td>COMPLETE</td>\n",
       "    </tr>\n",
       "    <tr>\n",
       "      <th>286</th>\n",
       "      <td>286</td>\n",
       "      <td>0.879724</td>\n",
       "      <td>2021-02-24 20:36:50.548724</td>\n",
       "      <td>2021-02-24 21:10:17.455436</td>\n",
       "      <td>0 days 00:33:26.906712</td>\n",
       "      <td>0.48969</td>\n",
       "      <td>5</td>\n",
       "      <td>0.81933</td>\n",
       "      <td>3.613505e-09</td>\n",
       "      <td>7.070307e-06</td>\n",
       "      <td>...</td>\n",
       "      <td>0.884529</td>\n",
       "      <td>0.884473</td>\n",
       "      <td>0.884313</td>\n",
       "      <td>0.883862</td>\n",
       "      <td>0.882624</td>\n",
       "      <td>0.879907</td>\n",
       "      <td>0.877112</td>\n",
       "      <td>NaN</td>\n",
       "      <td>NaN</td>\n",
       "      <td>COMPLETE</td>\n",
       "    </tr>\n",
       "    <tr>\n",
       "      <th>883</th>\n",
       "      <td>883</td>\n",
       "      <td>0.879744</td>\n",
       "      <td>2021-02-25 09:11:12.961030</td>\n",
       "      <td>2021-02-25 09:52:19.002133</td>\n",
       "      <td>0 days 00:41:06.041103</td>\n",
       "      <td>0.92383</td>\n",
       "      <td>5</td>\n",
       "      <td>0.82199</td>\n",
       "      <td>2.634281e-02</td>\n",
       "      <td>6.571803e-02</td>\n",
       "      <td>...</td>\n",
       "      <td>0.884528</td>\n",
       "      <td>0.884473</td>\n",
       "      <td>0.884316</td>\n",
       "      <td>0.883854</td>\n",
       "      <td>0.882582</td>\n",
       "      <td>0.879801</td>\n",
       "      <td>0.876828</td>\n",
       "      <td>NaN</td>\n",
       "      <td>NaN</td>\n",
       "      <td>COMPLETE</td>\n",
       "    </tr>\n",
       "    <tr>\n",
       "      <th>651</th>\n",
       "      <td>651</td>\n",
       "      <td>0.879748</td>\n",
       "      <td>2021-02-25 06:48:42.402224</td>\n",
       "      <td>2021-02-25 07:23:04.351655</td>\n",
       "      <td>0 days 00:34:21.949431</td>\n",
       "      <td>0.93583</td>\n",
       "      <td>5</td>\n",
       "      <td>0.81291</td>\n",
       "      <td>2.346270e-08</td>\n",
       "      <td>1.252389e-05</td>\n",
       "      <td>...</td>\n",
       "      <td>0.884529</td>\n",
       "      <td>0.884474</td>\n",
       "      <td>0.884313</td>\n",
       "      <td>0.883840</td>\n",
       "      <td>0.882568</td>\n",
       "      <td>0.879755</td>\n",
       "      <td>0.876746</td>\n",
       "      <td>NaN</td>\n",
       "      <td>NaN</td>\n",
       "      <td>COMPLETE</td>\n",
       "    </tr>\n",
       "    <tr>\n",
       "      <th>274</th>\n",
       "      <td>274</td>\n",
       "      <td>0.879749</td>\n",
       "      <td>2021-02-24 19:28:23.795092</td>\n",
       "      <td>2021-02-24 20:04:03.105428</td>\n",
       "      <td>0 days 00:35:39.310336</td>\n",
       "      <td>0.52642</td>\n",
       "      <td>6</td>\n",
       "      <td>0.72336</td>\n",
       "      <td>2.953270e-02</td>\n",
       "      <td>1.684489e-05</td>\n",
       "      <td>...</td>\n",
       "      <td>0.884529</td>\n",
       "      <td>0.884475</td>\n",
       "      <td>0.884318</td>\n",
       "      <td>0.883863</td>\n",
       "      <td>0.882638</td>\n",
       "      <td>0.879952</td>\n",
       "      <td>0.876994</td>\n",
       "      <td>NaN</td>\n",
       "      <td>NaN</td>\n",
       "      <td>COMPLETE</td>\n",
       "    </tr>\n",
       "    <tr>\n",
       "      <th>918</th>\n",
       "      <td>918</td>\n",
       "      <td>0.879789</td>\n",
       "      <td>2021-02-25 09:57:59.367834</td>\n",
       "      <td>2021-02-25 10:36:44.045667</td>\n",
       "      <td>0 days 00:38:44.677833</td>\n",
       "      <td>0.88233</td>\n",
       "      <td>2</td>\n",
       "      <td>0.80236</td>\n",
       "      <td>1.178295e-02</td>\n",
       "      <td>2.582780e-02</td>\n",
       "      <td>...</td>\n",
       "      <td>0.884528</td>\n",
       "      <td>0.884472</td>\n",
       "      <td>0.884314</td>\n",
       "      <td>0.883847</td>\n",
       "      <td>0.882581</td>\n",
       "      <td>0.879811</td>\n",
       "      <td>0.876813</td>\n",
       "      <td>NaN</td>\n",
       "      <td>NaN</td>\n",
       "      <td>COMPLETE</td>\n",
       "    </tr>\n",
       "    <tr>\n",
       "      <th>616</th>\n",
       "      <td>616</td>\n",
       "      <td>0.879815</td>\n",
       "      <td>2021-02-25 05:52:24.824912</td>\n",
       "      <td>2021-02-25 06:28:13.853947</td>\n",
       "      <td>0 days 00:35:49.029035</td>\n",
       "      <td>0.84710</td>\n",
       "      <td>4</td>\n",
       "      <td>0.74689</td>\n",
       "      <td>6.320250e-08</td>\n",
       "      <td>1.320477e-05</td>\n",
       "      <td>...</td>\n",
       "      <td>0.884528</td>\n",
       "      <td>0.884473</td>\n",
       "      <td>0.884307</td>\n",
       "      <td>0.883849</td>\n",
       "      <td>0.882590</td>\n",
       "      <td>0.879822</td>\n",
       "      <td>0.876850</td>\n",
       "      <td>NaN</td>\n",
       "      <td>NaN</td>\n",
       "      <td>COMPLETE</td>\n",
       "    </tr>\n",
       "    <tr>\n",
       "      <th>396</th>\n",
       "      <td>396</td>\n",
       "      <td>0.879965</td>\n",
       "      <td>2021-02-25 01:47:39.261700</td>\n",
       "      <td>2021-02-25 02:21:44.433501</td>\n",
       "      <td>0 days 00:34:05.171801</td>\n",
       "      <td>0.96701</td>\n",
       "      <td>5</td>\n",
       "      <td>0.84214</td>\n",
       "      <td>2.137507e-02</td>\n",
       "      <td>1.424929e-04</td>\n",
       "      <td>...</td>\n",
       "      <td>0.884530</td>\n",
       "      <td>0.884475</td>\n",
       "      <td>0.884316</td>\n",
       "      <td>0.883842</td>\n",
       "      <td>0.882558</td>\n",
       "      <td>0.879771</td>\n",
       "      <td>0.876911</td>\n",
       "      <td>NaN</td>\n",
       "      <td>NaN</td>\n",
       "      <td>COMPLETE</td>\n",
       "    </tr>\n",
       "    <tr>\n",
       "      <th>265</th>\n",
       "      <td>265</td>\n",
       "      <td>0.880151</td>\n",
       "      <td>2021-02-24 18:46:02.800534</td>\n",
       "      <td>2021-02-24 19:27:43.514002</td>\n",
       "      <td>0 days 00:41:40.713468</td>\n",
       "      <td>0.42650</td>\n",
       "      <td>5</td>\n",
       "      <td>0.81867</td>\n",
       "      <td>3.884988e-02</td>\n",
       "      <td>2.652186e-05</td>\n",
       "      <td>...</td>\n",
       "      <td>0.884527</td>\n",
       "      <td>0.884473</td>\n",
       "      <td>0.884310</td>\n",
       "      <td>0.883866</td>\n",
       "      <td>0.882637</td>\n",
       "      <td>0.879932</td>\n",
       "      <td>0.877360</td>\n",
       "      <td>NaN</td>\n",
       "      <td>NaN</td>\n",
       "      <td>COMPLETE</td>\n",
       "    </tr>\n",
       "    <tr>\n",
       "      <th>256</th>\n",
       "      <td>256</td>\n",
       "      <td>0.880197</td>\n",
       "      <td>2021-02-24 17:20:55.867703</td>\n",
       "      <td>2021-02-24 18:09:38.565862</td>\n",
       "      <td>0 days 00:48:42.698159</td>\n",
       "      <td>0.48216</td>\n",
       "      <td>6</td>\n",
       "      <td>0.79011</td>\n",
       "      <td>3.990937e-02</td>\n",
       "      <td>1.566067e-05</td>\n",
       "      <td>...</td>\n",
       "      <td>0.884526</td>\n",
       "      <td>0.884469</td>\n",
       "      <td>0.884305</td>\n",
       "      <td>0.883848</td>\n",
       "      <td>0.882637</td>\n",
       "      <td>0.879963</td>\n",
       "      <td>0.877530</td>\n",
       "      <td>NaN</td>\n",
       "      <td>NaN</td>\n",
       "      <td>COMPLETE</td>\n",
       "    </tr>\n",
       "    <tr>\n",
       "      <th>253</th>\n",
       "      <td>253</td>\n",
       "      <td>0.880368</td>\n",
       "      <td>2021-02-24 16:30:40.999387</td>\n",
       "      <td>2021-02-24 17:19:34.629267</td>\n",
       "      <td>0 days 00:48:53.629880</td>\n",
       "      <td>0.48453</td>\n",
       "      <td>6</td>\n",
       "      <td>0.78395</td>\n",
       "      <td>3.475777e-02</td>\n",
       "      <td>1.872587e-05</td>\n",
       "      <td>...</td>\n",
       "      <td>0.884529</td>\n",
       "      <td>0.884470</td>\n",
       "      <td>0.884307</td>\n",
       "      <td>0.883863</td>\n",
       "      <td>0.882656</td>\n",
       "      <td>0.880020</td>\n",
       "      <td>0.877667</td>\n",
       "      <td>NaN</td>\n",
       "      <td>NaN</td>\n",
       "      <td>COMPLETE</td>\n",
       "    </tr>\n",
       "    <tr>\n",
       "      <th>248</th>\n",
       "      <td>248</td>\n",
       "      <td>0.880413</td>\n",
       "      <td>2021-02-24 15:44:22.043168</td>\n",
       "      <td>2021-02-24 16:27:14.990772</td>\n",
       "      <td>0 days 00:42:52.947604</td>\n",
       "      <td>0.42175</td>\n",
       "      <td>6</td>\n",
       "      <td>0.76886</td>\n",
       "      <td>1.235365e-02</td>\n",
       "      <td>9.501377e-06</td>\n",
       "      <td>...</td>\n",
       "      <td>0.884528</td>\n",
       "      <td>0.884476</td>\n",
       "      <td>0.884317</td>\n",
       "      <td>0.883865</td>\n",
       "      <td>0.882662</td>\n",
       "      <td>0.880016</td>\n",
       "      <td>0.877690</td>\n",
       "      <td>NaN</td>\n",
       "      <td>NaN</td>\n",
       "      <td>COMPLETE</td>\n",
       "    </tr>\n",
       "    <tr>\n",
       "      <th>2</th>\n",
       "      <td>2</td>\n",
       "      <td>0.887270</td>\n",
       "      <td>2021-02-24 13:11:11.169212</td>\n",
       "      <td>2021-02-24 13:12:28.167771</td>\n",
       "      <td>0 days 00:01:16.998559</td>\n",
       "      <td>0.94330</td>\n",
       "      <td>3</td>\n",
       "      <td>0.82758</td>\n",
       "      <td>2.430670e-05</td>\n",
       "      <td>4.229899e-09</td>\n",
       "      <td>...</td>\n",
       "      <td>0.884585</td>\n",
       "      <td>0.884585</td>\n",
       "      <td>0.884585</td>\n",
       "      <td>0.884585</td>\n",
       "      <td>0.884586</td>\n",
       "      <td>0.884590</td>\n",
       "      <td>0.884603</td>\n",
       "      <td>0.888391</td>\n",
       "      <td>0.888389</td>\n",
       "      <td>COMPLETE</td>\n",
       "    </tr>\n",
       "  </tbody>\n",
       "</table>\n",
       "<p>55 rows × 25 columns</p>\n",
       "</div>"
      ],
      "text/plain": [
       "      number     value             datetime_start          datetime_complete  \\\n",
       "11        11  0.876892 2021-02-24 13:30:28.508600 2021-02-24 13:36:49.022887   \n",
       "756      756  0.876942 2021-02-25 08:07:46.160549 2021-02-25 08:13:06.991641   \n",
       "78        78  0.876980 2021-02-24 14:27:13.149461 2021-02-24 14:33:51.430562   \n",
       "424      424  0.876995 2021-02-25 03:35:23.007361 2021-02-25 03:41:40.540687   \n",
       "1317    1317  0.877135 2021-02-25 12:51:31.127575 2021-02-25 12:56:06.234045   \n",
       "1406    1406  0.877185 2021-02-25 13:13:15.023372 2021-02-25 13:29:07.847377   \n",
       "69        69  0.877270 2021-02-24 14:20:21.663064 2021-02-24 14:26:22.644551   \n",
       "24        24  0.877287 2021-02-24 14:00:37.980236 2021-02-24 14:04:40.882026   \n",
       "770      770  0.877331 2021-02-25 08:13:46.015384 2021-02-25 08:23:40.328036   \n",
       "7          7  0.877413 2021-02-24 13:25:45.022580 2021-02-24 13:30:25.005813   \n",
       "41        41  0.877426 2021-02-24 14:13:06.668223 2021-02-24 14:18:09.258677   \n",
       "946      946  0.877498 2021-02-25 11:25:06.590167 2021-02-25 11:36:03.916183   \n",
       "863      863  0.877532 2021-02-25 08:58:27.639299 2021-02-25 09:10:39.584552   \n",
       "154      154  0.877569 2021-02-24 14:36:54.879299 2021-02-24 14:41:14.161335   \n",
       "1090    1090  0.877637 2021-02-25 11:48:58.297078 2021-02-25 12:00:51.876548   \n",
       "628      628  0.877859 2021-02-25 06:31:40.848039 2021-02-25 06:44:05.418861   \n",
       "39        39  0.877899 2021-02-24 14:04:56.837288 2021-02-24 14:13:05.361900   \n",
       "232      232  0.877983 2021-02-24 15:15:58.047081 2021-02-24 15:33:05.527574   \n",
       "199      199  0.878094 2021-02-24 15:02:04.409256 2021-02-24 15:07:29.410106   \n",
       "0          0  0.878259 2021-02-24 12:41:07.152451 2021-02-24 13:04:14.153598   \n",
       "1          1  0.878335 2021-02-24 13:04:14.498627 2021-02-24 13:11:10.882608   \n",
       "1124    1124  0.878504 2021-02-25 12:02:15.440807 2021-02-25 12:22:12.165826   \n",
       "187      187  0.878602 2021-02-24 14:44:50.928476 2021-02-24 15:01:36.638033   \n",
       "706      706  0.878648 2021-02-25 07:30:22.595745 2021-02-25 08:00:03.061167   \n",
       "340      340  0.879143 2021-02-24 23:19:11.089742 2021-02-24 23:50:36.317620   \n",
       "14        14  0.879231 2021-02-24 13:36:51.243072 2021-02-24 13:59:54.314411   \n",
       "502      502  0.879232 2021-02-25 03:49:31.228712 2021-02-25 04:21:02.252019   \n",
       "421      421  0.879264 2021-02-25 03:03:15.798718 2021-02-25 03:35:19.676109   \n",
       "577      577  0.879349 2021-02-25 05:05:47.562264 2021-02-25 05:14:59.811859   \n",
       "345      345  0.879405 2021-02-24 23:50:43.763393 2021-02-25 00:30:02.876548   \n",
       "585      585  0.879411 2021-02-25 05:15:19.378930 2021-02-25 05:46:37.955313   \n",
       "361      361  0.879420 2021-02-25 00:33:35.358544 2021-02-25 01:07:16.138100   \n",
       "852      852  0.879424 2021-02-25 08:29:09.010719 2021-02-25 08:54:52.079831   \n",
       "369      369  0.879483 2021-02-25 01:07:32.182694 2021-02-25 01:36:54.751894   \n",
       "337      337  0.879507 2021-02-24 22:42:39.584401 2021-02-24 23:19:06.635297   \n",
       "940      940  0.879509 2021-02-25 10:52:07.563992 2021-02-25 11:23:11.915359   \n",
       "404      404  0.879540 2021-02-25 02:22:24.103140 2021-02-25 02:55:34.162482   \n",
       "258      258  0.879582 2021-02-24 18:09:50.040404 2021-02-24 18:45:46.887969   \n",
       "3          3  0.879599 2021-02-24 13:12:28.440437 2021-02-24 13:25:41.513329   \n",
       "320      320  0.879624 2021-02-24 21:57:24.491093 2021-02-24 22:37:44.358368   \n",
       "534      534  0.879656 2021-02-25 04:24:53.039085 2021-02-25 05:01:35.548112   \n",
       "291      291  0.879666 2021-02-24 21:10:27.015578 2021-02-24 21:43:45.426511   \n",
       "284      284  0.879717 2021-02-24 20:04:16.852542 2021-02-24 20:36:49.082396   \n",
       "286      286  0.879724 2021-02-24 20:36:50.548724 2021-02-24 21:10:17.455436   \n",
       "883      883  0.879744 2021-02-25 09:11:12.961030 2021-02-25 09:52:19.002133   \n",
       "651      651  0.879748 2021-02-25 06:48:42.402224 2021-02-25 07:23:04.351655   \n",
       "274      274  0.879749 2021-02-24 19:28:23.795092 2021-02-24 20:04:03.105428   \n",
       "918      918  0.879789 2021-02-25 09:57:59.367834 2021-02-25 10:36:44.045667   \n",
       "616      616  0.879815 2021-02-25 05:52:24.824912 2021-02-25 06:28:13.853947   \n",
       "396      396  0.879965 2021-02-25 01:47:39.261700 2021-02-25 02:21:44.433501   \n",
       "265      265  0.880151 2021-02-24 18:46:02.800534 2021-02-24 19:27:43.514002   \n",
       "256      256  0.880197 2021-02-24 17:20:55.867703 2021-02-24 18:09:38.565862   \n",
       "253      253  0.880368 2021-02-24 16:30:40.999387 2021-02-24 17:19:34.629267   \n",
       "248      248  0.880413 2021-02-24 15:44:22.043168 2021-02-24 16:27:14.990772   \n",
       "2          2  0.887270 2021-02-24 13:11:11.169212 2021-02-24 13:12:28.167771   \n",
       "\n",
       "                   duration  params_bagging_fraction  params_bagging_freq  \\\n",
       "11   0 days 00:06:20.514287                  0.79834                    8   \n",
       "756  0 days 00:05:20.831092                  0.99071                    6   \n",
       "78   0 days 00:06:38.281101                  0.99680                    7   \n",
       "424  0 days 00:06:17.533326                  0.84607                    2   \n",
       "1317 0 days 00:04:35.106470                  0.20273                    9   \n",
       "1406 0 days 00:15:52.824005                  0.94735                    4   \n",
       "69   0 days 00:06:00.981487                  0.68224                    8   \n",
       "24   0 days 00:04:02.901790                  0.12841                    6   \n",
       "770  0 days 00:09:54.312652                  0.79614                    6   \n",
       "7    0 days 00:04:39.983233                  0.60964                    1   \n",
       "41   0 days 00:05:02.590454                  0.64520                    5   \n",
       "946  0 days 00:10:57.326016                  0.94789                    6   \n",
       "863  0 days 00:12:11.945253                  0.84724                    6   \n",
       "154  0 days 00:04:19.282036                  0.06506                   10   \n",
       "1090 0 days 00:11:53.579470                  0.99807                    6   \n",
       "628  0 days 00:12:24.570822                  0.96830                    5   \n",
       "39   0 days 00:08:08.524612                  0.96814                    6   \n",
       "232  0 days 00:17:07.480493                  0.77712                    2   \n",
       "199  0 days 00:05:25.000850                  0.20512                    6   \n",
       "0    0 days 00:23:07.001147                  0.66239                    9   \n",
       "1    0 days 00:06:56.383981                  0.22753                   10   \n",
       "1124 0 days 00:19:56.725019                  0.78883                    6   \n",
       "187  0 days 00:16:45.709557                  0.53966                    9   \n",
       "706  0 days 00:29:40.465422                  0.89458                    4   \n",
       "340  0 days 00:31:25.227878                  0.85319                    3   \n",
       "14   0 days 00:23:03.071339                  0.86948                    2   \n",
       "502  0 days 00:31:31.023307                  0.89418                    5   \n",
       "421  0 days 00:32:03.877391                  0.90821                    5   \n",
       "577  0 days 00:09:12.249595                  0.17839                    4   \n",
       "345  0 days 00:39:19.113155                  0.77226                    3   \n",
       "585  0 days 00:31:18.576383                  0.92482                    5   \n",
       "361  0 days 00:33:40.779556                  0.87055                    3   \n",
       "852  0 days 00:25:43.069112                  0.89016                    6   \n",
       "369  0 days 00:29:22.569200                  0.87140                    5   \n",
       "337  0 days 00:36:27.050896                  0.85473                    6   \n",
       "940  0 days 00:31:04.351367                  0.92431                    4   \n",
       "404  0 days 00:33:10.059342                  0.87894                    1   \n",
       "258  0 days 00:35:56.847565                  0.45378                    5   \n",
       "3    0 days 00:13:13.072892                  0.35809                    5   \n",
       "320  0 days 00:40:19.867275                  0.83773                    4   \n",
       "534  0 days 00:36:42.509027                  0.92477                    6   \n",
       "291  0 days 00:33:18.410933                  0.48758                    5   \n",
       "284  0 days 00:32:32.229854                  0.44029                    5   \n",
       "286  0 days 00:33:26.906712                  0.48969                    5   \n",
       "883  0 days 00:41:06.041103                  0.92383                    5   \n",
       "651  0 days 00:34:21.949431                  0.93583                    5   \n",
       "274  0 days 00:35:39.310336                  0.52642                    6   \n",
       "918  0 days 00:38:44.677833                  0.88233                    2   \n",
       "616  0 days 00:35:49.029035                  0.84710                    4   \n",
       "396  0 days 00:34:05.171801                  0.96701                    5   \n",
       "265  0 days 00:41:40.713468                  0.42650                    5   \n",
       "256  0 days 00:48:42.698159                  0.48216                    6   \n",
       "253  0 days 00:48:53.629880                  0.48453                    6   \n",
       "248  0 days 00:42:52.947604                  0.42175                    6   \n",
       "2    0 days 00:01:16.998559                  0.94330                    3   \n",
       "\n",
       "      params_feature_fraction  params_lambda_l1  params_lambda_l2  ...  \\\n",
       "11                    0.70194      1.696234e-03      2.786169e-10  ...   \n",
       "756                   0.63631      4.483412e-02      2.707327e-07  ...   \n",
       "78                    0.55220      6.053287e-05      3.488173e-05  ...   \n",
       "424                   0.78408      1.542790e-02      3.343249e-08  ...   \n",
       "1317                  0.95310      2.893313e-06      2.357711e-01  ...   \n",
       "1406                  0.96279      1.729723e-05      1.273600e-08  ...   \n",
       "69                    0.50846      2.510190e-09      1.268472e-07  ...   \n",
       "24                    0.21328      1.767658e-10      1.907395e-10  ...   \n",
       "770                   0.89786      9.343606e-04      1.713792e-09  ...   \n",
       "7                     0.10316      3.614921e-10      1.826205e-10  ...   \n",
       "41                    0.31077      2.559056e-02      1.726473e-07  ...   \n",
       "946                   0.86420      4.460856e-07      7.131034e-08  ...   \n",
       "863                   0.97797      1.364611e-07      1.420676e-04  ...   \n",
       "154                   0.44099      7.680032e-09      5.031898e-04  ...   \n",
       "1090                  0.89662      3.466983e-05      6.973371e-08  ...   \n",
       "628                   0.88728      2.129507e-06      2.667312e-04  ...   \n",
       "39                    0.13948      6.699653e-03      1.655740e-01  ...   \n",
       "232                   0.98207      5.382367e-05      2.599760e-05  ...   \n",
       "199                   0.04575      2.099195e-10      3.409969e-03  ...   \n",
       "0                     0.77535      4.190770e-08      2.924400e-07  ...   \n",
       "1                     0.15740      6.041460e-08      9.773214e-07  ...   \n",
       "1124                  0.99938      2.857216e-07      3.285547e-09  ...   \n",
       "187                   0.72272      4.011432e-05      2.774250e-05  ...   \n",
       "706                   0.83776      2.203689e-07      4.848659e-06  ...   \n",
       "340                   0.86862      1.135284e-01      8.336617e-07  ...   \n",
       "14                    0.65154      3.171023e-06      4.062140e-05  ...   \n",
       "502                   0.97743      2.569251e-02      5.559790e-05  ...   \n",
       "421                   0.79405      1.162880e-07      9.107204e-02  ...   \n",
       "577                   0.89107      9.613185e-01      2.928209e-09  ...   \n",
       "345                   0.83336      2.274859e-07      7.800222e-06  ...   \n",
       "585                   0.73401      4.046928e-03      6.332309e-06  ...   \n",
       "361                   0.94186      4.527810e-08      4.629992e-06  ...   \n",
       "852                   0.81071      2.069685e-02      5.745746e-06  ...   \n",
       "369                   0.97598      4.314165e-08      3.275301e-05  ...   \n",
       "337                   0.78065      2.450038e-02      4.827002e-06  ...   \n",
       "940                   0.93917      2.462937e-08      3.342542e-02  ...   \n",
       "404                   0.84957      1.694020e-08      7.893637e-06  ...   \n",
       "258                   0.75695      1.688176e-01      8.940783e-06  ...   \n",
       "3                     0.53820      5.707204e-03      1.445127e-08  ...   \n",
       "320                   0.83864      1.227011e-07      4.960483e-05  ...   \n",
       "534                   0.76611      2.361649e-02      2.401935e-02  ...   \n",
       "291                   0.82073      1.478904e-10      1.494887e-06  ...   \n",
       "284                   0.82198      1.028299e-02      1.575512e-06  ...   \n",
       "286                   0.81933      3.613505e-09      7.070307e-06  ...   \n",
       "883                   0.82199      2.634281e-02      6.571803e-02  ...   \n",
       "651                   0.81291      2.346270e-08      1.252389e-05  ...   \n",
       "274                   0.72336      2.953270e-02      1.684489e-05  ...   \n",
       "918                   0.80236      1.178295e-02      2.582780e-02  ...   \n",
       "616                   0.74689      6.320250e-08      1.320477e-05  ...   \n",
       "396                   0.84214      2.137507e-02      1.424929e-04  ...   \n",
       "265                   0.81867      3.884988e-02      2.652186e-05  ...   \n",
       "256                   0.79011      3.990937e-02      1.566067e-05  ...   \n",
       "253                   0.78395      3.475777e-02      1.872587e-05  ...   \n",
       "248                   0.76886      1.235365e-02      9.501377e-06  ...   \n",
       "2                     0.82758      2.430670e-05      4.229899e-09  ...   \n",
       "\n",
       "      system_attrs_completed_rung_0  system_attrs_completed_rung_1  \\\n",
       "11                         0.884536                       0.884489   \n",
       "756                        0.882823                       0.880172   \n",
       "78                         0.884489                       0.884348   \n",
       "424                        0.882897                       0.880341   \n",
       "1317                       0.876369                       0.874594   \n",
       "1406                       0.883881                       0.882660   \n",
       "69                         0.884490                       0.884350   \n",
       "24                         0.884039                       0.883078   \n",
       "770                        0.884479                       0.884330   \n",
       "7                          0.882920                       0.880401   \n",
       "41                         0.884497                       0.884368   \n",
       "946                        0.884481                       0.884327   \n",
       "863                        0.884479                       0.884324   \n",
       "154                        0.881182                       0.877669   \n",
       "1090                       0.884478                       0.884327   \n",
       "628                        0.884319                       0.883870   \n",
       "39                         0.876510                       0.875129   \n",
       "232                        0.884331                       0.883886   \n",
       "199                        0.875270                            NaN   \n",
       "0                               NaN                            NaN   \n",
       "1                          0.884508                       0.884390   \n",
       "1124                       0.883877                       0.882663   \n",
       "187                        0.884328                       0.883901   \n",
       "706                        0.884530                       0.884474   \n",
       "340                        0.884529                       0.884474   \n",
       "14                         0.884332                       0.883896   \n",
       "502                        0.884524                       0.884467   \n",
       "421                        0.884529                       0.884474   \n",
       "577                        0.876926                       0.880538   \n",
       "345                        0.884528                       0.884474   \n",
       "585                        0.884530                       0.884472   \n",
       "361                        0.884532                       0.884472   \n",
       "852                        0.884529                       0.884474   \n",
       "369                        0.884527                       0.884472   \n",
       "337                        0.884528                       0.884473   \n",
       "940                        0.884528                       0.884473   \n",
       "404                        0.884529                       0.884474   \n",
       "258                        0.884530                       0.884478   \n",
       "3                          0.884546                       0.884507   \n",
       "320                        0.884529                       0.884470   \n",
       "534                        0.884529                       0.884473   \n",
       "291                        0.884529                       0.884479   \n",
       "284                        0.884527                       0.884475   \n",
       "286                        0.884529                       0.884473   \n",
       "883                        0.884528                       0.884473   \n",
       "651                        0.884529                       0.884474   \n",
       "274                        0.884529                       0.884475   \n",
       "918                        0.884528                       0.884472   \n",
       "616                        0.884528                       0.884473   \n",
       "396                        0.884530                       0.884475   \n",
       "265                        0.884527                       0.884473   \n",
       "256                        0.884526                       0.884469   \n",
       "253                        0.884529                       0.884470   \n",
       "248                        0.884528                       0.884476   \n",
       "2                          0.884585                       0.884585   \n",
       "\n",
       "      system_attrs_completed_rung_2  system_attrs_completed_rung_3  \\\n",
       "11                         0.884349                       0.883941   \n",
       "756                        0.876100                       0.874119   \n",
       "78                         0.883938                       0.882800   \n",
       "424                        0.876429                       0.874382   \n",
       "1317                            NaN                            NaN   \n",
       "1406                       0.879819                       0.875741   \n",
       "69                         0.883946                       0.882821   \n",
       "24                         0.880721                       0.876925   \n",
       "770                        0.883882                       0.882659   \n",
       "7                          0.876482                       0.874657   \n",
       "41                         0.883988                       0.882913   \n",
       "946                        0.883887                       0.882655   \n",
       "863                        0.883874                       0.882639   \n",
       "154                        0.875453                       0.874845   \n",
       "1090                       0.883880                       0.882654   \n",
       "628                        0.882636                       0.879799   \n",
       "39                              NaN                            NaN   \n",
       "232                        0.882650                       0.879828   \n",
       "199                             NaN                            NaN   \n",
       "0                               NaN                            NaN   \n",
       "1                          0.884069                       0.883137   \n",
       "1124                       0.879853                       0.876261   \n",
       "187                        0.882663                       0.879906   \n",
       "706                        0.884315                       0.883848   \n",
       "340                        0.884314                       0.883848   \n",
       "14                         0.882687                       0.879986   \n",
       "502                        0.884305                       0.883857   \n",
       "421                        0.884315                       0.883852   \n",
       "577                             NaN                            NaN   \n",
       "345                        0.884315                       0.883850   \n",
       "585                        0.884314                       0.883846   \n",
       "361                        0.884313                       0.883847   \n",
       "852                        0.884314                       0.883855   \n",
       "369                        0.884312                       0.883852   \n",
       "337                        0.884310                       0.883859   \n",
       "940                        0.884305                       0.883837   \n",
       "404                        0.884315                       0.883843   \n",
       "258                        0.884318                       0.883868   \n",
       "3                          0.884395                       0.884076   \n",
       "320                        0.884311                       0.883846   \n",
       "534                        0.884312                       0.883850   \n",
       "291                        0.884313                       0.883856   \n",
       "284                        0.884316                       0.883869   \n",
       "286                        0.884313                       0.883862   \n",
       "883                        0.884316                       0.883854   \n",
       "651                        0.884313                       0.883840   \n",
       "274                        0.884318                       0.883863   \n",
       "918                        0.884314                       0.883847   \n",
       "616                        0.884307                       0.883849   \n",
       "396                        0.884316                       0.883842   \n",
       "265                        0.884310                       0.883866   \n",
       "256                        0.884305                       0.883848   \n",
       "253                        0.884307                       0.883863   \n",
       "248                        0.884317                       0.883865   \n",
       "2                          0.884585                       0.884585   \n",
       "\n",
       "      system_attrs_completed_rung_4  system_attrs_completed_rung_5  \\\n",
       "11                         0.882802                       0.880109   \n",
       "756                             NaN                            NaN   \n",
       "78                         0.880125                       0.876068   \n",
       "424                             NaN                            NaN   \n",
       "1317                            NaN                            NaN   \n",
       "1406                       0.874339                            NaN   \n",
       "69                         0.880149                       0.876155   \n",
       "24                         0.874667                            NaN   \n",
       "770                        0.879835                       0.875800   \n",
       "7                               NaN                            NaN   \n",
       "41                         0.880369                       0.876531   \n",
       "946                        0.879812                       0.875821   \n",
       "863                        0.879795                       0.875819   \n",
       "154                             NaN                            NaN   \n",
       "1090                       0.879824                       0.875879   \n",
       "628                        0.875894                       0.875271   \n",
       "39                              NaN                            NaN   \n",
       "232                        0.876032                       0.876182   \n",
       "199                             NaN                            NaN   \n",
       "0                               NaN                            NaN   \n",
       "1                          0.880917                       0.877346   \n",
       "1124                            NaN                            NaN   \n",
       "187                        0.876368                       0.880527   \n",
       "706                        0.882569                       0.879712   \n",
       "340                        0.882584                       0.879763   \n",
       "14                         0.876868                            NaN   \n",
       "502                        0.882560                       0.879742   \n",
       "421                        0.882587                       0.879779   \n",
       "577                             NaN                            NaN   \n",
       "345                        0.882586                       0.879782   \n",
       "585                        0.882582                       0.879820   \n",
       "361                        0.882573                       0.879793   \n",
       "852                        0.882585                       0.879803   \n",
       "369                        0.882588                       0.879779   \n",
       "337                        0.882581                       0.879803   \n",
       "940                        0.882548                       0.879776   \n",
       "404                        0.882567                       0.879747   \n",
       "258                        0.882632                       0.879897   \n",
       "3                          0.883173                       0.881038   \n",
       "320                        0.882586                       0.879810   \n",
       "534                        0.882563                       0.879833   \n",
       "291                        0.882608                       0.879836   \n",
       "284                        0.882627                       0.879922   \n",
       "286                        0.882624                       0.879907   \n",
       "883                        0.882582                       0.879801   \n",
       "651                        0.882568                       0.879755   \n",
       "274                        0.882638                       0.879952   \n",
       "918                        0.882581                       0.879811   \n",
       "616                        0.882590                       0.879822   \n",
       "396                        0.882558                       0.879771   \n",
       "265                        0.882637                       0.879932   \n",
       "256                        0.882637                       0.879963   \n",
       "253                        0.882656                       0.880020   \n",
       "248                        0.882662                       0.880016   \n",
       "2                          0.884586                       0.884590   \n",
       "\n",
       "      system_attrs_completed_rung_6  system_attrs_completed_rung_7  \\\n",
       "11                         0.876022                       0.874163   \n",
       "756                             NaN                            NaN   \n",
       "78                         0.874198                            NaN   \n",
       "424                             NaN                            NaN   \n",
       "1317                            NaN                            NaN   \n",
       "1406                            NaN                            NaN   \n",
       "69                         0.874695                            NaN   \n",
       "24                              NaN                            NaN   \n",
       "770                        0.874793                            NaN   \n",
       "7                               NaN                            NaN   \n",
       "41                         0.874790                            NaN   \n",
       "946                        0.874921                            NaN   \n",
       "863                        0.874979                            NaN   \n",
       "154                             NaN                            NaN   \n",
       "1090                       0.874968                            NaN   \n",
       "628                             NaN                            NaN   \n",
       "39                              NaN                            NaN   \n",
       "232                             NaN                            NaN   \n",
       "199                             NaN                            NaN   \n",
       "0                               NaN                            NaN   \n",
       "1                          0.875623                            NaN   \n",
       "1124                            NaN                            NaN   \n",
       "187                             NaN                            NaN   \n",
       "706                        0.876165                            NaN   \n",
       "340                        0.876475                            NaN   \n",
       "14                              NaN                            NaN   \n",
       "502                        0.876503                            NaN   \n",
       "421                        0.876476                            NaN   \n",
       "577                             NaN                            NaN   \n",
       "345                        0.876692                            NaN   \n",
       "585                        0.876684                            NaN   \n",
       "361                        0.876653                            NaN   \n",
       "852                        0.876641                            NaN   \n",
       "369                        0.876677                            NaN   \n",
       "337                        0.876761                            NaN   \n",
       "940                        0.876713                            NaN   \n",
       "404                        0.876650                            NaN   \n",
       "258                        0.876860                            NaN   \n",
       "3                          0.877881                       0.877445   \n",
       "320                        0.876927                            NaN   \n",
       "534                        0.876855                            NaN   \n",
       "291                        0.876837                            NaN   \n",
       "284                        0.877010                            NaN   \n",
       "286                        0.877112                            NaN   \n",
       "883                        0.876828                            NaN   \n",
       "651                        0.876746                            NaN   \n",
       "274                        0.876994                            NaN   \n",
       "918                        0.876813                            NaN   \n",
       "616                        0.876850                            NaN   \n",
       "396                        0.876911                            NaN   \n",
       "265                        0.877360                            NaN   \n",
       "256                        0.877530                            NaN   \n",
       "253                        0.877667                            NaN   \n",
       "248                        0.877690                            NaN   \n",
       "2                          0.884603                       0.888391   \n",
       "\n",
       "      system_attrs_completed_rung_8     state  \n",
       "11                              NaN  COMPLETE  \n",
       "756                             NaN  COMPLETE  \n",
       "78                              NaN  COMPLETE  \n",
       "424                             NaN  COMPLETE  \n",
       "1317                            NaN  COMPLETE  \n",
       "1406                            NaN  COMPLETE  \n",
       "69                              NaN  COMPLETE  \n",
       "24                              NaN  COMPLETE  \n",
       "770                             NaN  COMPLETE  \n",
       "7                               NaN  COMPLETE  \n",
       "41                              NaN  COMPLETE  \n",
       "946                             NaN  COMPLETE  \n",
       "863                             NaN  COMPLETE  \n",
       "154                             NaN  COMPLETE  \n",
       "1090                            NaN  COMPLETE  \n",
       "628                             NaN  COMPLETE  \n",
       "39                              NaN  COMPLETE  \n",
       "232                             NaN  COMPLETE  \n",
       "199                             NaN  COMPLETE  \n",
       "0                               NaN  COMPLETE  \n",
       "1                               NaN  COMPLETE  \n",
       "1124                            NaN  COMPLETE  \n",
       "187                             NaN  COMPLETE  \n",
       "706                             NaN  COMPLETE  \n",
       "340                             NaN  COMPLETE  \n",
       "14                              NaN  COMPLETE  \n",
       "502                             NaN  COMPLETE  \n",
       "421                             NaN  COMPLETE  \n",
       "577                             NaN  COMPLETE  \n",
       "345                             NaN  COMPLETE  \n",
       "585                             NaN  COMPLETE  \n",
       "361                             NaN  COMPLETE  \n",
       "852                             NaN  COMPLETE  \n",
       "369                             NaN  COMPLETE  \n",
       "337                             NaN  COMPLETE  \n",
       "940                             NaN  COMPLETE  \n",
       "404                             NaN  COMPLETE  \n",
       "258                             NaN  COMPLETE  \n",
       "3                               NaN  COMPLETE  \n",
       "320                             NaN  COMPLETE  \n",
       "534                             NaN  COMPLETE  \n",
       "291                             NaN  COMPLETE  \n",
       "284                             NaN  COMPLETE  \n",
       "286                             NaN  COMPLETE  \n",
       "883                             NaN  COMPLETE  \n",
       "651                             NaN  COMPLETE  \n",
       "274                             NaN  COMPLETE  \n",
       "918                             NaN  COMPLETE  \n",
       "616                             NaN  COMPLETE  \n",
       "396                             NaN  COMPLETE  \n",
       "265                             NaN  COMPLETE  \n",
       "256                             NaN  COMPLETE  \n",
       "253                             NaN  COMPLETE  \n",
       "248                             NaN  COMPLETE  \n",
       "2                          0.888389  COMPLETE  \n",
       "\n",
       "[55 rows x 25 columns]"
      ]
     },
     "execution_count": 46,
     "metadata": {},
     "output_type": "execute_result"
    }
   ],
   "source": [
    "completed_optuna_trial_df.sort_values(by = 'value')"
   ]
  }
 ],
 "metadata": {
  "kernelspec": {
   "display_name": "Python 3.7 (tensorflow)",
   "language": "python",
   "name": "tensorflow"
  },
  "language_info": {
   "codemirror_mode": {
    "name": "ipython",
    "version": 3
   },
   "file_extension": ".py",
   "mimetype": "text/x-python",
   "name": "python",
   "nbconvert_exporter": "python",
   "pygments_lexer": "ipython3",
   "version": "3.7.9"
  }
 },
 "nbformat": 4,
 "nbformat_minor": 4
}
