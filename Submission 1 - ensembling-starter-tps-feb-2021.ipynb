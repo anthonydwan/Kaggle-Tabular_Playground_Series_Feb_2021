{
 "cells": [
  {
   "cell_type": "markdown",
   "metadata": {
    "papermill": {
     "duration": 0.010154,
     "end_time": "2021-02-07T06:04:04.594250",
     "exception": false,
     "start_time": "2021-02-07T06:04:04.584096",
     "status": "completed"
    },
    "tags": []
   },
   "source": [
    "Simple Blend of the best performing public notebooks, borrowed from Bojan Tunguz.\n",
    "\n",
    "We'll take use of the base models that can be found in the following notebooks:\n",
    "\n",
    "LightGBM: https://www.kaggle.com/tunguz/tps-feb-2021-with-lgbmregressor\n",
    "\n",
    "XGBoost: https://www.kaggle.com/tunguz/tps-02-21-feature-importance-with-xgboost-and-shap\n",
    "\n",
    "LightGBM goes brrrr: https://www.kaggle.com/maunish/lgbm-goes-brrr\n",
    "\n",
    "\n",
    "This will be used as a basis for further ensembling later on. "
   ]
  },
  {
   "cell_type": "code",
   "execution_count": 1,
   "metadata": {
    "_cell_guid": "b1076dfc-b9ad-4769-8c92-a6c4dae69d19",
    "_uuid": "8f2839f25d086af736a60e9eeb907d3b93b6e0e5",
    "execution": {
     "iopub.execute_input": "2021-02-07T06:04:04.623772Z",
     "iopub.status.busy": "2021-02-07T06:04:04.622900Z",
     "iopub.status.idle": "2021-02-07T06:04:05.696206Z",
     "shell.execute_reply": "2021-02-07T06:04:05.696786Z"
    },
    "papermill": {
     "duration": 1.092662,
     "end_time": "2021-02-07T06:04:05.697131",
     "exception": false,
     "start_time": "2021-02-07T06:04:04.604469",
     "status": "completed"
    },
    "tags": []
   },
   "outputs": [
    {
     "name": "stdout",
     "output_type": "stream",
     "text": [
      "../input/tps-02-21-feature-importance-with-xgboost-and-shap/submission_average_1.csv\n",
      "../input/tps-02-21-feature-importance-with-xgboost-and-shap/submission_average_2.csv\n",
      "../input/tps-02-21-feature-importance-with-xgboost-and-shap/__results__.html\n",
      "../input/tps-02-21-feature-importance-with-xgboost-and-shap/test_preds.npy\n",
      "../input/tps-02-21-feature-importance-with-xgboost-and-shap/test_preds_2.npy\n",
      "../input/tps-02-21-feature-importance-with-xgboost-and-shap/submission.csv\n",
      "../input/tps-02-21-feature-importance-with-xgboost-and-shap/submission_2.csv\n",
      "../input/tps-02-21-feature-importance-with-xgboost-and-shap/__resultx__.html\n",
      "../input/tps-02-21-feature-importance-with-xgboost-and-shap/__notebook__.ipynb\n",
      "../input/tps-02-21-feature-importance-with-xgboost-and-shap/train_oof_2.npy\n",
      "../input/tps-02-21-feature-importance-with-xgboost-and-shap/train_oof.npy\n",
      "../input/tps-02-21-feature-importance-with-xgboost-and-shap/__output__.json\n",
      "../input/tps-02-21-feature-importance-with-xgboost-and-shap/submission_average_0.csv\n",
      "../input/tps-02-21-feature-importance-with-xgboost-and-shap/custom.css\n",
      "../input/tps-02-21-feature-importance-with-xgboost-and-shap/__results___files/__results___47_0.png\n",
      "../input/tps-02-21-feature-importance-with-xgboost-and-shap/__results___files/__results___25_0.png\n",
      "../input/tps-02-21-feature-importance-with-xgboost-and-shap/__results___files/__results___30_0.png\n",
      "../input/tps-02-21-feature-importance-with-xgboost-and-shap/__results___files/__results___48_0.png\n",
      "../input/tps-02-21-feature-importance-with-xgboost-and-shap/__results___files/__results___26_0.png\n",
      "../input/tps-feb-2021-with-lgbmregressor/__results__.html\n",
      "../input/tps-feb-2021-with-lgbmregressor/test_preds.npy\n",
      "../input/tps-feb-2021-with-lgbmregressor/submission.csv\n",
      "../input/tps-feb-2021-with-lgbmregressor/__resultx__.html\n",
      "../input/tps-feb-2021-with-lgbmregressor/__notebook__.ipynb\n",
      "../input/tps-feb-2021-with-lgbmregressor/train_oof.npy\n",
      "../input/tps-feb-2021-with-lgbmregressor/__output__.json\n",
      "../input/tps-feb-2021-with-lgbmregressor/custom.css\n"
     ]
    }
   ],
   "source": [
    "# This Python 3 environment comes with many helpful analytics libraries installed\n",
    "# It is defined by the kaggle/python Docker image: https://github.com/kaggle/docker-python\n",
    "# For example, here's several helpful packages to load\n",
    "\n",
    "import numpy as np # linear algebra\n",
    "import pandas as pd # data processing, CSV file I/O (e.g. pd.read_csv)\n",
    "from sklearn.metrics import mean_squared_error, mean_absolute_error\n",
    "\n",
    "# Input data files are available in the read-only \"../input/\" directory\n",
    "# For example, running this (by clicking run or pressing Shift+Enter) will list all files under the input directory\n",
    "\n",
    "import os\n",
    "for dirname, _, filenames in os.walk('../input/tps-02-21-feature-importance-with-xgboost-and-shap'):\n",
    "    for filename in filenames:\n",
    "        print(os.path.join(dirname, filename))\n",
    "        \n",
    "\n",
    "for dirname, _, filenames in os.walk('../input/tps-feb-2021-with-lgbmregressor'):\n",
    "    for filename in filenames:\n",
    "        print(os.path.join(dirname, filename))\n",
    "\n",
    "# You can write up to 20GB to the current directory (/kaggle/working/) that gets preserved as output when you create a version using \"Save & Run All\" \n",
    "# You can also write temporary files to /kaggle/temp/, but they won't be saved outside of the current session"
   ]
  },
  {
   "cell_type": "code",
   "execution_count": 2,
   "metadata": {
    "execution": {
     "iopub.execute_input": "2021-02-07T06:04:05.717825Z",
     "iopub.status.busy": "2021-02-07T06:04:05.716896Z",
     "iopub.status.idle": "2021-02-07T06:04:10.239702Z",
     "shell.execute_reply": "2021-02-07T06:04:10.238410Z"
    },
    "papermill": {
     "duration": 4.534032,
     "end_time": "2021-02-07T06:04:10.239874",
     "exception": false,
     "start_time": "2021-02-07T06:04:05.705842",
     "status": "completed"
    },
    "tags": []
   },
   "outputs": [],
   "source": [
    "train = pd.read_csv('../input/tabular-playground-series-feb-2021/train.csv')\n",
    "test = pd.read_csv('../input/tabular-playground-series-feb-2021/test.csv')\n",
    "sub = pd.read_csv('../input/tabular-playground-series-feb-2021/sample_submission.csv')"
   ]
  },
  {
   "cell_type": "code",
   "execution_count": 3,
   "metadata": {
    "execution": {
     "iopub.execute_input": "2021-02-07T06:04:10.270566Z",
     "iopub.status.busy": "2021-02-07T06:04:10.269860Z",
     "iopub.status.idle": "2021-02-07T06:04:10.273562Z",
     "shell.execute_reply": "2021-02-07T06:04:10.272964Z"
    },
    "papermill": {
     "duration": 0.025538,
     "end_time": "2021-02-07T06:04:10.273707",
     "exception": false,
     "start_time": "2021-02-07T06:04:10.248169",
     "status": "completed"
    },
    "tags": []
   },
   "outputs": [],
   "source": [
    "target = train['target'].values"
   ]
  },
  {
   "cell_type": "code",
   "execution_count": 4,
   "metadata": {
    "execution": {
     "iopub.execute_input": "2021-02-07T06:04:10.296888Z",
     "iopub.status.busy": "2021-02-07T06:04:10.296176Z",
     "iopub.status.idle": "2021-02-07T06:04:10.525505Z",
     "shell.execute_reply": "2021-02-07T06:04:10.524558Z"
    },
    "papermill": {
     "duration": 0.243398,
     "end_time": "2021-02-07T06:04:10.525677",
     "exception": false,
     "start_time": "2021-02-07T06:04:10.282279",
     "status": "completed"
    },
    "tags": []
   },
   "outputs": [],
   "source": [
    "train_oof_lgb = np.load('../input/tps-feb-2021-with-lgbmregressor/train_oof.npy')\n",
    "test_preds_lgb = np.load('../input/tps-feb-2021-with-lgbmregressor/test_preds.npy')\n",
    "\n",
    "train_oof_xgb = np.load('../input/tps-02-21-feature-importance-with-xgboost-and-shap/train_oof.npy')\n",
    "test_preds_xgb = np.load('../input/tps-02-21-feature-importance-with-xgboost-and-shap/test_preds.npy')\n",
    "\n",
    "lgbm_goes_brrr = pd.read_csv('../input/lgbm-goes-brrr/submission.csv')"
   ]
  },
  {
   "cell_type": "code",
   "execution_count": 5,
   "metadata": {
    "execution": {
     "iopub.execute_input": "2021-02-07T06:04:10.549360Z",
     "iopub.status.busy": "2021-02-07T06:04:10.548609Z",
     "iopub.status.idle": "2021-02-07T06:04:10.560283Z",
     "shell.execute_reply": "2021-02-07T06:04:10.559737Z"
    },
    "papermill": {
     "duration": 0.025519,
     "end_time": "2021-02-07T06:04:10.560474",
     "exception": false,
     "start_time": "2021-02-07T06:04:10.534955",
     "status": "completed"
    },
    "tags": []
   },
   "outputs": [
    {
     "name": "stdout",
     "output_type": "stream",
     "text": [
      "0.8420401821632764\n",
      "0.8421285553726264\n"
     ]
    }
   ],
   "source": [
    "print(mean_squared_error(train_oof_lgb, target, squared=False))\n",
    "print(mean_squared_error(train_oof_xgb, target, squared=False))\n"
   ]
  },
  {
   "cell_type": "code",
   "execution_count": 6,
   "metadata": {
    "execution": {
     "iopub.execute_input": "2021-02-07T06:04:10.584025Z",
     "iopub.status.busy": "2021-02-07T06:04:10.583205Z",
     "iopub.status.idle": "2021-02-07T06:04:10.593866Z",
     "shell.execute_reply": "2021-02-07T06:04:10.592643Z"
    },
    "papermill": {
     "duration": 0.024438,
     "end_time": "2021-02-07T06:04:10.594084",
     "exception": false,
     "start_time": "2021-02-07T06:04:10.569646",
     "status": "completed"
    },
    "tags": []
   },
   "outputs": [
    {
     "name": "stdout",
     "output_type": "stream",
     "text": [
      "0.8419158642837933\n"
     ]
    }
   ],
   "source": [
    "print(mean_squared_error(0.75*train_oof_lgb+0.25*train_oof_xgb, target, squared=False))\n"
   ]
  },
  {
   "cell_type": "code",
   "execution_count": 7,
   "metadata": {
    "execution": {
     "iopub.execute_input": "2021-02-07T06:04:10.617930Z",
     "iopub.status.busy": "2021-02-07T06:04:10.616762Z",
     "iopub.status.idle": "2021-02-07T06:04:11.360587Z",
     "shell.execute_reply": "2021-02-07T06:04:11.361137Z"
    },
    "papermill": {
     "duration": 0.757226,
     "end_time": "2021-02-07T06:04:11.361343",
     "exception": false,
     "start_time": "2021-02-07T06:04:10.604117",
     "status": "completed"
    },
    "tags": []
   },
   "outputs": [
    {
     "data": {
      "text/html": [
       "<div>\n",
       "<style scoped>\n",
       "    .dataframe tbody tr th:only-of-type {\n",
       "        vertical-align: middle;\n",
       "    }\n",
       "\n",
       "    .dataframe tbody tr th {\n",
       "        vertical-align: top;\n",
       "    }\n",
       "\n",
       "    .dataframe thead th {\n",
       "        text-align: right;\n",
       "    }\n",
       "</style>\n",
       "<table border=\"1\" class=\"dataframe\">\n",
       "  <thead>\n",
       "    <tr style=\"text-align: right;\">\n",
       "      <th></th>\n",
       "      <th>id</th>\n",
       "      <th>target</th>\n",
       "    </tr>\n",
       "  </thead>\n",
       "  <tbody>\n",
       "    <tr>\n",
       "      <th>0</th>\n",
       "      <td>0</td>\n",
       "      <td>7.623830</td>\n",
       "    </tr>\n",
       "    <tr>\n",
       "      <th>1</th>\n",
       "      <td>5</td>\n",
       "      <td>7.820482</td>\n",
       "    </tr>\n",
       "    <tr>\n",
       "      <th>2</th>\n",
       "      <td>15</td>\n",
       "      <td>7.606959</td>\n",
       "    </tr>\n",
       "    <tr>\n",
       "      <th>3</th>\n",
       "      <td>16</td>\n",
       "      <td>7.505304</td>\n",
       "    </tr>\n",
       "    <tr>\n",
       "      <th>4</th>\n",
       "      <td>17</td>\n",
       "      <td>7.289677</td>\n",
       "    </tr>\n",
       "  </tbody>\n",
       "</table>\n",
       "</div>"
      ],
      "text/plain": [
       "   id    target\n",
       "0   0  7.623830\n",
       "1   5  7.820482\n",
       "2  15  7.606959\n",
       "3  16  7.505304\n",
       "4  17  7.289677"
      ]
     },
     "execution_count": 7,
     "metadata": {},
     "output_type": "execute_result"
    }
   ],
   "source": [
    "sub['target'] = 0.75*test_preds_lgb+0.25*test_preds_xgb\n",
    "sub.to_csv('submission.csv', index=False)\n",
    "sub.head()"
   ]
  },
  {
   "cell_type": "code",
   "execution_count": 8,
   "metadata": {
    "execution": {
     "iopub.execute_input": "2021-02-07T06:04:11.385822Z",
     "iopub.status.busy": "2021-02-07T06:04:11.385046Z",
     "iopub.status.idle": "2021-02-07T06:04:12.168189Z",
     "shell.execute_reply": "2021-02-07T06:04:12.168697Z"
    },
    "papermill": {
     "duration": 0.797013,
     "end_time": "2021-02-07T06:04:12.168889",
     "exception": false,
     "start_time": "2021-02-07T06:04:11.371876",
     "status": "completed"
    },
    "tags": []
   },
   "outputs": [
    {
     "data": {
      "text/html": [
       "<div>\n",
       "<style scoped>\n",
       "    .dataframe tbody tr th:only-of-type {\n",
       "        vertical-align: middle;\n",
       "    }\n",
       "\n",
       "    .dataframe tbody tr th {\n",
       "        vertical-align: top;\n",
       "    }\n",
       "\n",
       "    .dataframe thead th {\n",
       "        text-align: right;\n",
       "    }\n",
       "</style>\n",
       "<table border=\"1\" class=\"dataframe\">\n",
       "  <thead>\n",
       "    <tr style=\"text-align: right;\">\n",
       "      <th></th>\n",
       "      <th>id</th>\n",
       "      <th>target</th>\n",
       "    </tr>\n",
       "  </thead>\n",
       "  <tbody>\n",
       "    <tr>\n",
       "      <th>0</th>\n",
       "      <td>0</td>\n",
       "      <td>7.623023</td>\n",
       "    </tr>\n",
       "    <tr>\n",
       "      <th>1</th>\n",
       "      <td>5</td>\n",
       "      <td>7.822499</td>\n",
       "    </tr>\n",
       "    <tr>\n",
       "      <th>2</th>\n",
       "      <td>15</td>\n",
       "      <td>7.607738</td>\n",
       "    </tr>\n",
       "    <tr>\n",
       "      <th>3</th>\n",
       "      <td>16</td>\n",
       "      <td>7.506754</td>\n",
       "    </tr>\n",
       "    <tr>\n",
       "      <th>4</th>\n",
       "      <td>17</td>\n",
       "      <td>7.289223</td>\n",
       "    </tr>\n",
       "  </tbody>\n",
       "</table>\n",
       "</div>"
      ],
      "text/plain": [
       "   id    target\n",
       "0   0  7.623023\n",
       "1   5  7.822499\n",
       "2  15  7.607738\n",
       "3  16  7.506754\n",
       "4  17  7.289223"
      ]
     },
     "execution_count": 8,
     "metadata": {},
     "output_type": "execute_result"
    }
   ],
   "source": [
    "sub['target'] = 0.675*test_preds_lgb+0.225*test_preds_xgb+0.1*lgbm_goes_brrr['target'].values\n",
    "sub.to_csv('submission_2.csv', index=False)\n",
    "sub.head()"
   ]
  },
  {
   "cell_type": "code",
   "execution_count": 9,
   "metadata": {
    "execution": {
     "iopub.execute_input": "2021-02-07T06:04:12.196662Z",
     "iopub.status.busy": "2021-02-07T06:04:12.195401Z",
     "iopub.status.idle": "2021-02-07T06:04:12.926533Z",
     "shell.execute_reply": "2021-02-07T06:04:12.925981Z"
    },
    "papermill": {
     "duration": 0.747164,
     "end_time": "2021-02-07T06:04:12.926699",
     "exception": false,
     "start_time": "2021-02-07T06:04:12.179535",
     "status": "completed"
    },
    "tags": []
   },
   "outputs": [
    {
     "data": {
      "text/html": [
       "<div>\n",
       "<style scoped>\n",
       "    .dataframe tbody tr th:only-of-type {\n",
       "        vertical-align: middle;\n",
       "    }\n",
       "\n",
       "    .dataframe tbody tr th {\n",
       "        vertical-align: top;\n",
       "    }\n",
       "\n",
       "    .dataframe thead th {\n",
       "        text-align: right;\n",
       "    }\n",
       "</style>\n",
       "<table border=\"1\" class=\"dataframe\">\n",
       "  <thead>\n",
       "    <tr style=\"text-align: right;\">\n",
       "      <th></th>\n",
       "      <th>id</th>\n",
       "      <th>target</th>\n",
       "    </tr>\n",
       "  </thead>\n",
       "  <tbody>\n",
       "    <tr>\n",
       "      <th>0</th>\n",
       "      <td>0</td>\n",
       "      <td>7.622216</td>\n",
       "    </tr>\n",
       "    <tr>\n",
       "      <th>1</th>\n",
       "      <td>5</td>\n",
       "      <td>7.824517</td>\n",
       "    </tr>\n",
       "    <tr>\n",
       "      <th>2</th>\n",
       "      <td>15</td>\n",
       "      <td>7.608517</td>\n",
       "    </tr>\n",
       "    <tr>\n",
       "      <th>3</th>\n",
       "      <td>16</td>\n",
       "      <td>7.508204</td>\n",
       "    </tr>\n",
       "    <tr>\n",
       "      <th>4</th>\n",
       "      <td>17</td>\n",
       "      <td>7.288769</td>\n",
       "    </tr>\n",
       "  </tbody>\n",
       "</table>\n",
       "</div>"
      ],
      "text/plain": [
       "   id    target\n",
       "0   0  7.622216\n",
       "1   5  7.824517\n",
       "2  15  7.608517\n",
       "3  16  7.508204\n",
       "4  17  7.288769"
      ]
     },
     "execution_count": 9,
     "metadata": {},
     "output_type": "execute_result"
    }
   ],
   "source": [
    "sub['target'] = 0.6*test_preds_lgb+0.2*test_preds_xgb+0.2*lgbm_goes_brrr['target'].values\n",
    "sub.to_csv('submission_3.csv', index=False)\n",
    "sub.head()"
   ]
  },
  {
   "cell_type": "code",
   "execution_count": 10,
   "metadata": {
    "execution": {
     "iopub.execute_input": "2021-02-07T06:04:12.956207Z",
     "iopub.status.busy": "2021-02-07T06:04:12.954845Z",
     "iopub.status.idle": "2021-02-07T06:04:13.685249Z",
     "shell.execute_reply": "2021-02-07T06:04:13.684636Z"
    },
    "papermill": {
     "duration": 0.747201,
     "end_time": "2021-02-07T06:04:13.685424",
     "exception": false,
     "start_time": "2021-02-07T06:04:12.938223",
     "status": "completed"
    },
    "tags": []
   },
   "outputs": [
    {
     "data": {
      "text/html": [
       "<div>\n",
       "<style scoped>\n",
       "    .dataframe tbody tr th:only-of-type {\n",
       "        vertical-align: middle;\n",
       "    }\n",
       "\n",
       "    .dataframe tbody tr th {\n",
       "        vertical-align: top;\n",
       "    }\n",
       "\n",
       "    .dataframe thead th {\n",
       "        text-align: right;\n",
       "    }\n",
       "</style>\n",
       "<table border=\"1\" class=\"dataframe\">\n",
       "  <thead>\n",
       "    <tr style=\"text-align: right;\">\n",
       "      <th></th>\n",
       "      <th>id</th>\n",
       "      <th>target</th>\n",
       "    </tr>\n",
       "  </thead>\n",
       "  <tbody>\n",
       "    <tr>\n",
       "      <th>0</th>\n",
       "      <td>0</td>\n",
       "      <td>7.621408</td>\n",
       "    </tr>\n",
       "    <tr>\n",
       "      <th>1</th>\n",
       "      <td>5</td>\n",
       "      <td>7.826534</td>\n",
       "    </tr>\n",
       "    <tr>\n",
       "      <th>2</th>\n",
       "      <td>15</td>\n",
       "      <td>7.609297</td>\n",
       "    </tr>\n",
       "    <tr>\n",
       "      <th>3</th>\n",
       "      <td>16</td>\n",
       "      <td>7.509655</td>\n",
       "    </tr>\n",
       "    <tr>\n",
       "      <th>4</th>\n",
       "      <td>17</td>\n",
       "      <td>7.288315</td>\n",
       "    </tr>\n",
       "  </tbody>\n",
       "</table>\n",
       "</div>"
      ],
      "text/plain": [
       "   id    target\n",
       "0   0  7.621408\n",
       "1   5  7.826534\n",
       "2  15  7.609297\n",
       "3  16  7.509655\n",
       "4  17  7.288315"
      ]
     },
     "execution_count": 10,
     "metadata": {},
     "output_type": "execute_result"
    }
   ],
   "source": [
    "sub['target'] = 0.525*test_preds_lgb+0.175*test_preds_xgb+0.3*lgbm_goes_brrr['target'].values\n",
    "sub.to_csv('submission_4.csv', index=False)\n",
    "sub.head()"
   ]
  }
 ],
 "metadata": {
  "kernelspec": {
   "display_name": "Python 3",
   "language": "python",
   "name": "python3"
  },
  "language_info": {
   "codemirror_mode": {
    "name": "ipython",
    "version": 3
   },
   "file_extension": ".py",
   "mimetype": "text/x-python",
   "name": "python",
   "nbconvert_exporter": "python",
   "pygments_lexer": "ipython3",
   "version": "3.7.9"
  },
  "papermill": {
   "default_parameters": {},
   "duration": 17.081168,
   "end_time": "2021-02-07T06:04:15.128570",
   "environment_variables": {},
   "exception": null,
   "input_path": "__notebook__.ipynb",
   "output_path": "__notebook__.ipynb",
   "parameters": {},
   "start_time": "2021-02-07T06:03:58.047402",
   "version": "2.2.2"
  }
 },
 "nbformat": 4,
 "nbformat_minor": 4
}
